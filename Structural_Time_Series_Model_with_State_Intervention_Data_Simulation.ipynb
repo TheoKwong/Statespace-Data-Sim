{
 "cells": [
  {
   "cell_type": "markdown",
   "id": "8590de3d",
   "metadata": {},
   "source": [
    "<h1>Structural Time Series Model with TI State Intervention Data Simulation</h1>"
   ]
  },
  {
   "cell_type": "code",
   "execution_count": 2,
   "id": "41285df7",
   "metadata": {},
   "outputs": [],
   "source": [
    "import numpy as np\n",
    "from scipy.signal import lfilter\n",
    "import statsmodels.api as sm\n",
    "import seaborn as sns\n",
    "import matplotlib.pyplot as plt\n",
    "from statsmodels.tsa.statespace.tools import (\n",
    "    constrain_stationary_univariate, unconstrain_stationary_univariate)\n",
    "import sympy as sym\n",
    "import pandas as pd\n",
    "import seaborn as sns\n",
    "import math\n",
    "from mpl_toolkits.mplot3d import Axes3D\n",
    "%matplotlib inline\n",
    "\n"
   ]
  },
  {
   "cell_type": "code",
   "execution_count": 3,
   "id": "c2c20375",
   "metadata": {},
   "outputs": [],
   "source": [
    "# Construct the model\n",
    "class localtrend(sm.tsa.statespace.MLEModel):\n",
    "    def __init__(self, endog, x_t):\n",
    "        k_posdef = 1\n",
    "        exog = x_t\n",
    "        nobs = x_t.shape[0]\n",
    "        # Initialize the state space model\n",
    "        super(localtrend, self).__init__(endog, exog = exog, k_states=2, k_posdef=1,\n",
    "                                  initialization='approximate_diffuse',\n",
    "                                        loglikelihood_burn=2)\n",
    "\n",
    "        # Setup the fixed components of the state space representation\n",
    "        self['design'] = np.r_[1,0]\n",
    "        self.ssm['transition'] = np.zeros([self.k_states, self.k_states, nobs])\n",
    "        self.ssm['transition',0,0,:] = 1\n",
    "        self.ssm['transition',1,1,:] = 1\n",
    "        self.ssm['transition',0,1,:] = exog\n",
    "        #self.ssm['transition',2,2,:] = exog\n",
    "        self['selection'] = np.eye(self.k_states,k_posdef)\n",
    "        \n",
    "        self.positive_parameters = slice(0,2)\n",
    "\n",
    "    # Describe how parameters enter the model\n",
    "    def update(self, params, transformed=True, **kwargs):\n",
    "        params = super(localtrend, self).update(params, transformed, **kwargs)\n",
    "\n",
    "        self['obs_cov', 0, 0] = params[0]\n",
    "        self['state_cov', 0, 0] = params[1]\n",
    "        #self['state_cov', 1, 1] = params[2]\n",
    "        \n",
    "\n",
    "    @property\n",
    "    def start_params(self):\n",
    "        return [np.std(self.endog)]*2\n",
    "    \n",
    "    @property\n",
    "    def param_names(self):\n",
    "        return ['epsilon','xi']\n",
    "    \n",
    "    def transform_params(self, unconstrained):\n",
    "        constrained = unconstrained.copy()\n",
    "        constrained[self.positive_parameters] = (\n",
    "            constrained[self.positive_parameters] ** 2\n",
    "        )\n",
    "        return constrained\n",
    "\n",
    "    def untransform_params(self, constrained):\n",
    "        unconstrained = constrained.copy()\n",
    "        unconstrained[self.positive_parameters] = (\n",
    "            unconstrained[self.positive_parameters] ** 0.5\n",
    "        )\n",
    "        return unconstrained"
   ]
  },
  {
   "cell_type": "markdown",
   "id": "f4994167",
   "metadata": {},
   "source": [
    "<li>Local Linear Trend Model<ol>\n",
    "    <li>Sigma: variance of noise</li>\n",
    "    <li>Epsilon: disturbance</li>\n",
    "    <li>Xi: error </li>\n",
    "    </ol>\n",
    "</li>\n",
    "<br>\n",
    "    \n",
    "\\begin{equation*}\n",
    "y_{t} = {\\mu}_t + \\epsilon_t  \\quad\\epsilon_t \\sim N(0,\\sigma_{\\epsilon}^2)\\\\\n",
    "\\mu_{t+1} = {\\mu}_t + \\beta_t x_t +\\xi_t \\quad\\xi_t \\sim N(0,\\sigma_{\\xi}^2)\\\\\n",
    "\\beta_{t+1} = \\beta_t\n",
    "\\end{equation*}\n",
    "\n",
    "State Space Representation:\n",
    "\\begin{equation*}\n",
    "y_{t} = \\begin{vmatrix}\n",
    "1 & 0 \n",
    "\\end{vmatrix} \\begin{pmatrix}\n",
    "\\mu_t \\\\\n",
    "\\beta_t\n",
    "\\end{pmatrix} + \\epsilon_t\\\\\n",
    "\\begin{pmatrix}\n",
    "\\mu_t \\\\\n",
    "\\beta_t\n",
    "\\end{pmatrix}= \\begin{vmatrix}\n",
    "1 & x_t \\\\\n",
    "0 & 1\n",
    "\\end{vmatrix} \\begin{pmatrix}\n",
    "\\mu_t \\\\\n",
    "\\beta_t\n",
    "\\end{pmatrix} + \\begin{pmatrix}\n",
    "\\xi_t \\\\\n",
    "0\n",
    "\\end{pmatrix}\n",
    "\\\\x_t \\sim N(3,x_{var})\n",
    "\\end{equation*}\n"
   ]
  },
  {
   "cell_type": "code",
   "execution_count": 16,
   "id": "724ae3b0",
   "metadata": {},
   "outputs": [],
   "source": [
    "# True model parameters\n",
    "nobs = int(1e5)\n",
    "true_epsilon = 9\n",
    "true_xi = 4\n",
    "x_var = 3\n",
    "true_beta = 2\n",
    "\n"
   ]
  },
  {
   "cell_type": "code",
   "execution_count": 38,
   "id": "6b3b8a8c",
   "metadata": {},
   "outputs": [],
   "source": [
    "# Simulate a time series\n",
    "np.random.seed(1234)\n",
    "disturbances_xi = np.random.normal(0, math.sqrt(true_xi), size=(nobs,))\n",
    "x_t = np.random.normal(3, math.sqrt(x_var), size=(nobs,))\n",
    "#cycle = [np.linspace(-np.pi, np.pi-np.pi/25, 50)] * 2000\n",
    "#x_t_ang = np.reshape(np.array(cycle), 100000)\n",
    "#x_t = np.sin(x_t_ang)\n",
    "#x_t = np.linspace(0,3,nobs)\n",
    "\n",
    "intervention = x_t*true_beta\n",
    "mut = lfilter([1], np.r_[1, -1], disturbances_xi+intervention)\n",
    "disturbances_epsilon = np.random.normal(0, math.sqrt(true_epsilon), size=(nobs,))\n",
    "\n",
    "yt = mut + disturbances_epsilon \n"
   ]
  },
  {
   "cell_type": "code",
   "execution_count": 39,
   "id": "b6d8a39c",
   "metadata": {},
   "outputs": [
    {
     "name": "stdout",
     "output_type": "stream",
     "text": [
      "RUNNING THE L-BFGS-B CODE\n",
      "\n",
      "           * * *\n",
      "\n",
      "Machine precision = 2.220D-16\n",
      " N =            2     M =           10\n",
      "\n",
      "At X0         0 variables are exactly at the bounds\n",
      "\n",
      "At iterate    0    f=  7.43124D+00    |proj g|=  1.32809D-03\n"
     ]
    },
    {
     "name": "stderr",
     "output_type": "stream",
     "text": [
      " This problem is unconstrained.\n"
     ]
    },
    {
     "name": "stdout",
     "output_type": "stream",
     "text": [
      "\n",
      "At iterate    5    f=  3.65167D+00    |proj g|=  5.34274D-02\n",
      "\n",
      "At iterate   10    f=  3.15554D+00    |proj g|=  1.29573D-04\n",
      "\n",
      "           * * *\n",
      "\n",
      "Tit   = total number of iterations\n",
      "Tnf   = total number of function evaluations\n",
      "Tnint = total number of segments explored during Cauchy searches\n",
      "Skip  = number of BFGS updates skipped\n",
      "Nact  = number of active bounds at final generalized Cauchy point\n",
      "Projg = norm of the final projected gradient\n",
      "F     = final function value\n",
      "\n",
      "           * * *\n",
      "\n",
      "   N    Tit     Tnf  Tnint  Skip  Nact     Projg        F\n",
      "    2     11     31      1     0     0   1.065D-06   3.156D+00\n",
      "  F =   3.1555384165932634     \n",
      "\n",
      "CONVERGENCE: NORM_OF_PROJECTED_GRADIENT_<=_PGTOL            \n",
      "                           Statespace Model Results                           \n",
      "==============================================================================\n",
      "Dep. Variable:                      y   No. Observations:               100000\n",
      "Model:                     localtrend   Log Likelihood             -315553.842\n",
      "Date:                Mon, 13 Feb 2023   AIC                         631111.683\n",
      "Time:                        20:09:22   BIC                         631130.709\n",
      "Sample:                             0   HQIC                        631117.457\n",
      "                             - 100000                                         \n",
      "Covariance Type:                  opg                                         \n",
      "==============================================================================\n",
      "                 coef    std err          z      P>|z|      [0.025      0.975]\n",
      "------------------------------------------------------------------------------\n",
      "epsilon       20.6535      0.123    168.572      0.000      20.413      20.894\n",
      "xi             4.1633      0.061     68.654      0.000       4.044       4.282\n",
      "===================================================================================\n",
      "Ljung-Box (L1) (Q):                  12.14   Jarque-Bera (JB):                 0.34\n",
      "Prob(Q):                              0.00   Prob(JB):                         0.84\n",
      "Heteroskedasticity (H):               1.00   Skew:                            -0.00\n",
      "Prob(H) (two-sided):                  0.71   Kurtosis:                         3.00\n",
      "===================================================================================\n",
      "\n",
      "Warnings:\n",
      "[1] Covariance matrix calculated using the outer product of gradients (complex-step).\n"
     ]
    }
   ],
   "source": [
    "mod = localtrend(yt, x_t)\n",
    "res = mod.fit()\n",
    "print(res.summary())"
   ]
  },
  {
   "cell_type": "code",
   "execution_count": 41,
   "id": "dd692b91",
   "metadata": {},
   "outputs": [
    {
     "data": {
      "text/plain": [
       "1.9516338206954595"
      ]
     },
     "execution_count": 41,
     "metadata": {},
     "output_type": "execute_result"
    }
   ],
   "source": [
    "res.smoothed_state[1].mean()"
   ]
  },
  {
   "cell_type": "code",
   "execution_count": 8,
   "id": "342024b3",
   "metadata": {},
   "outputs": [
    {
     "data": {
      "text/plain": [
       "[<matplotlib.lines.Line2D at 0x17974cc10>]"
      ]
     },
     "execution_count": 8,
     "metadata": {},
     "output_type": "execute_result"
    },
    {
     "data": {
      "image/png": "[encoded data removed]",
      "text/plain": [
       "<Figure size 432x288 with 1 Axes>"
      ]
     },
     "metadata": {
      "needs_background": "light"
     },
     "output_type": "display_data"
    }
   ],
   "source": [
    "plt.plot(res.filtered_state[1])"
   ]
  },
  {
   "cell_type": "markdown",
   "id": "d8adbb73",
   "metadata": {},
   "source": [
    "<h2>Example given on <a href=\"http://www.overleaf.com\">Link</a></h2> \n"
   ]
  },
  {
   "cell_type": "code",
   "execution_count": null,
   "id": "32cb4308",
   "metadata": {},
   "outputs": [],
   "source": [
    "\"\"\"\n",
    "Univariate Local Linear Trend Model\n",
    "\"\"\"\n",
    "class LocalLinearTrend(sm.tsa.statespace.MLEModel):\n",
    "    def __init__(self, endog):\n",
    "        # Model order\n",
    "        k_states = k_posdef = 2\n",
    "\n",
    "        # Initialize the statespace\n",
    "        super(LocalLinearTrend, self).__init__(\n",
    "            endog, k_states=k_states, k_posdef=k_posdef,\n",
    "            initialization='approximate_diffuse',\n",
    "            loglikelihood_burn=k_states\n",
    "        )\n",
    "\n",
    "        # Initialize the matrices\n",
    "        self.ssm['design'] = np.array([1, 0])\n",
    "        self.ssm['transition'] = np.array([[1, 1],\n",
    "                                       [0, 1]])\n",
    "        self.ssm['selection'] = np.eye(k_states)\n",
    "\n",
    "        # Cache some indices\n",
    "        self._state_cov_idx = ('state_cov',) + np.diag_indices(k_posdef)\n",
    "\n",
    "    @property\n",
    "    def param_names(self):\n",
    "        return ['sigma2.measurement', 'sigma2.level', 'sigma2.trend']\n",
    "\n",
    "    @property\n",
    "    def start_params(self):\n",
    "        return [np.std(self.endog)]*3\n",
    "\n",
    "    def transform_params(self, unconstrained):\n",
    "        return unconstrained**2\n",
    "\n",
    "    def untransform_params(self, constrained):\n",
    "        return constrained**0.5\n",
    "\n",
    "    def update(self, params, *args, **kwargs):\n",
    "        params = super(LocalLinearTrend, self).update(params, *args, **kwargs)\n",
    "\n",
    "        # Observation covariance\n",
    "        self.ssm['obs_cov',0,0] = params[0]\n",
    "\n",
    "        # State covariance\n",
    "        self.ssm[self._state_cov_idx] = params[1:]"
   ]
  },
  {
   "cell_type": "code",
   "execution_count": 91,
   "id": "2c9df337",
   "metadata": {},
   "outputs": [
    {
     "name": "stdout",
     "output_type": "stream",
     "text": [
      "RUNNING THE L-BFGS-B CODE\n",
      "\n",
      "           * * *\n",
      "\n",
      "Machine precision = 2.220D-16\n",
      " N =            3     M =           10\n",
      "\n",
      "At X0         0 variables are exactly at the bounds\n",
      "\n",
      "At iterate    0    f=  8.48342D+00    |proj g|=  5.67765D-04\n",
      "  ys=-3.012E-01  -gs= 1.565E-01 BFGS update SKIPPED\n"
     ]
    },
    {
     "name": "stderr",
     "output_type": "stream",
     "text": [
      " This problem is unconstrained.\n"
     ]
    },
    {
     "name": "stdout",
     "output_type": "stream",
     "text": [
      "\n",
      "At iterate    5    f=  6.21010D+00    |proj g|=  4.07811D-03\n",
      "\n",
      "At iterate   10    f=  3.43768D+00    |proj g|=  3.09306D-01\n",
      "\n",
      "At iterate   15    f=  3.13020D+00    |proj g|=  5.91948D-03\n",
      "\n",
      "At iterate   20    f=  3.12672D+00    |proj g|=  1.39123D-03\n",
      "\n",
      "At iterate   25    f=  3.12672D+00    |proj g|=  1.13442D-05\n",
      "\n",
      "           * * *\n",
      "\n",
      "Tit   = total number of iterations\n",
      "Tnf   = total number of function evaluations\n",
      "Tnint = total number of segments explored during Cauchy searches\n",
      "Skip  = number of BFGS updates skipped\n",
      "Nact  = number of active bounds at final generalized Cauchy point\n",
      "Projg = norm of the final projected gradient\n",
      "F     = final function value\n",
      "\n",
      "           * * *\n",
      "\n",
      "   N    Tit     Tnf  Tnint  Skip  Nact     Projg        F\n",
      "    3     26     67      1     1     0   7.437D-07   3.127D+00\n",
      "  F =   3.1267152983234783     \n",
      "\n",
      "CONVERGENCE: NORM_OF_PROJECTED_GRADIENT_<=_PGTOL            \n",
      "                           Statespace Model Results                           \n",
      "==============================================================================\n",
      "Dep. Variable:                      y   No. Observations:                10000\n",
      "Model:               LocalLinearTrend   Log Likelihood              -31267.153\n",
      "Date:                Wed, 25 Jan 2023   AIC                          62540.306\n",
      "Time:                        20:58:00   BIC                          62561.936\n",
      "Sample:                             0   HQIC                         62547.628\n",
      "                              - 10000                                         \n",
      "Covariance Type:                  opg                                         \n",
      "======================================================================================\n",
      "                         coef    std err          z      P>|z|      [0.025      0.975]\n",
      "--------------------------------------------------------------------------------------\n",
      "sigma2.measurement     8.7238      0.318     27.459      0.000       8.101       9.346\n",
      "sigma2.level           1.2013      0.685      1.753      0.080      -0.142       2.544\n",
      "sigma2.trend           4.0665      0.171     23.839      0.000       3.732       4.401\n",
      "===================================================================================\n",
      "Ljung-Box (L1) (Q):                   0.00   Jarque-Bera (JB):                 0.39\n",
      "Prob(Q):                              0.99   Prob(JB):                         0.82\n",
      "Heteroskedasticity (H):               0.95   Skew:                             0.01\n",
      "Prob(H) (two-sided):                  0.15   Kurtosis:                         2.98\n",
      "===================================================================================\n",
      "\n",
      "Warnings:\n",
      "[1] Covariance matrix calculated using the outer product of gradients (complex-step).\n"
     ]
    }
   ],
   "source": [
    "mod = LocalLinearTrend(yt)\n",
    "res = mod.fit()\n",
    "print(res.summary())"
   ]
  },
  {
   "cell_type": "code",
   "execution_count": null,
   "id": "99aad48f",
   "metadata": {},
   "outputs": [],
   "source": []
  }
 ],
 "metadata": {
  "kernelspec": {
   "display_name": "Python 3 (ipykernel)",
   "language": "python",
   "name": "python3"
  },
  "language_info": {
   "codemirror_mode": {
    "name": "ipython",
    "version": 3
   },
   "file_extension": ".py",
   "mimetype": "text/x-python",
   "name": "python",
   "nbconvert_exporter": "python",
   "pygments_lexer": "ipython3",
   "version": "3.9.13"
  }
 },
 "nbformat": 4,
 "nbformat_minor": 5
}
