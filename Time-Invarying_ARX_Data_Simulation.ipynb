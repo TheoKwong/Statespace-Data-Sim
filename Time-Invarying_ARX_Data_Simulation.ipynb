{
 "cells": [
  {
   "cell_type": "markdown",
   "id": "8590de3d",
   "metadata": {},
   "source": [
    "<h1>Generalized Autoregressive with Exogeneous Input Data Simulation</h1>"
   ]
  },
  {
   "cell_type": "code",
   "execution_count": 1,
   "id": "41285df7",
   "metadata": {},
   "outputs": [],
   "source": [
    "import numpy as np\n",
    "from scipy.signal import lfilter\n",
    "import statsmodels.api as sm\n",
    "import seaborn as sns\n",
    "import matplotlib.pyplot as plt\n",
    "from statsmodels.tsa.statespace.tools import (\n",
    "    constrain_stationary_univariate, unconstrain_stationary_univariate)\n",
    "import sympy as sym\n",
    "import pandas as pd\n",
    "import seaborn as sns\n",
    "%matplotlib inline\n"
   ]
  },
  {
   "cell_type": "code",
   "execution_count": 131,
   "id": "c2c20375",
   "metadata": {},
   "outputs": [],
   "source": [
    "# Construct the model\n",
    "class ARXtime_invarying(sm.tsa.statespace.MLEModel):\n",
    "    def __init__(self, endog, order, x_t):\n",
    "        # Initialize the state space model\n",
    "        super(ARXtime_invarying, self).__init__(endog, exog = x_t, k_states=order+1, \n",
    "                                  initialization='stationary')\n",
    "\n",
    "        # Setup the fixed components of the state space representation\n",
    "        test = self.exog[np.newaxis, np.newaxis, :]\n",
    "        zero = np.zeros([1,1,len(self.exog)])\n",
    "        one = np.ones([1,1,len(self.exog)])\n",
    "        con_design = np.concatenate((one,zero,zero,test), axis = 1)\n",
    "        \n",
    "        self.ssm[\"design\"] = con_design  # shaped 1 x order+1 x nobs\n",
    "        #self.ssm[\"selection\"] = np.zeros(self.k_states)\n",
    "        self.ssm[\"selection\", 0, 0] = 1\n",
    "        #self.ssm[\"selection\", 1, 1] = 0\n",
    "        #self.ssm[\"selection\", 2, 2] = 0\n",
    "        self.ssm[\"transition\"] = np.eye(self.k_states, k = 1)\n",
    "        self.ssm[\"transition\", 2, 3] = 0\n",
    "        self.ssm[\"transition\", 3, 3] = 1\n",
    "        \n",
    "        \n",
    "        self.positive_parameters = slice(self.k_states, self.k_states)\n",
    "\n",
    "    # Describe how parameters enter the model\n",
    "    def update(self, params, transformed=True, **kwargs):\n",
    "        params = super(ARXtime_invarying, self).update(params, transformed, **kwargs)\n",
    "\n",
    "        self['transition', :self.k_states-1, 0] = params[:self.k_states-1]\n",
    "        #self[\"transition\", 3, 3] = params[self.k_states-1]\n",
    "        self['state_cov', 0, 0] = params[self.k_states-1]\n",
    "        #self['state_cov', 3, 3] = params[self.k_states]\n",
    "        #self['state_cov'] = np.diag(params[self.k_states:self.k_states+4])\n",
    "        \n",
    "\n",
    "    # Specify start parameters\n",
    "    @property\n",
    "    def start_params(self):\n",
    "        #exog = sm.add_constant(self.exog)\n",
    "        #res = sm.OLS(self.endog, exog).fit()\n",
    "        inte = np.zeros(self.k_states-1)+0.15\n",
    "        params = np.r_[inte, 1]\n",
    "        return params  # 0s don't converge; 0.15 instead (need to be improved)\n",
    "    \n",
    "    def transform_params(self, unconstrained):\n",
    "        \"\"\"\n",
    "        We constraint the last parameter to be positive,\n",
    "        because it is variances\n",
    "        \"\"\"\n",
    "        constrained = unconstrained.copy()\n",
    "        constrained[self.positive_parameters] = (\n",
    "            constrained[self.positive_parameters] ** 2\n",
    "        )\n",
    "       \n",
    "        for i in range(self.k_states-1):\n",
    "            constrained[i] = constrain_stationary_univariate(constrained[i:i+1])\n",
    "       \n",
    "        '''\n",
    "        constrained[0] = constrain_stationary_univariate(constrained[0:1])\n",
    "        constrained[1] = constrain_stationary_univariate(constrained[1:2])\n",
    "        constrained[2] = constrain_stationary_univariate(constrained[2:3])\n",
    "        '''\n",
    "        return constrained\n",
    "\n",
    "    def untransform_params(self, constrained):\n",
    "        \"\"\"\n",
    "        Need to unstransform all the parameters you transformed\n",
    "        in the `transform_params` function\n",
    "        \"\"\"\n",
    "        unconstrained = constrained.copy()\n",
    "        unconstrained[self.positive_parameters] = (\n",
    "            unconstrained[self.positive_parameters] ** 0.5\n",
    "        )\n",
    "     \n",
    "        for i in range(self.k_states-1):\n",
    "            unconstrained[i] = unconstrain_stationary_univariate(constrained[i:i+1])\n",
    "        return unconstrained\n",
    "   \n",
    "        "
   ]
  },
  {
   "cell_type": "markdown",
   "id": "17c497c5",
   "metadata": {},
   "source": [
    "<li>ARX3<ol>\n",
    "    <li>Phi: autoregression weight</li>\n",
    "    <li>Sigma: variance of noice</li>\n",
    "    </ol>\n",
    "</li>\n",
    "    \n",
    "\\begin{equation*}\n",
    "{\\phi}(L)y_{t} = {\\beta}u_{t} + \\epsilon_t \\\\\n",
    "y_{t} = {\\phi_1}y_{t-1} + {\\phi_2}y_{t-2} + {\\phi_3}y_{t-3} + {\\beta}u_{t} + \\\n",
    "    \\epsilon_t \\\\\n",
    "(1-\\sum_{1=1}^3 a_iL^i)y_t = \\beta u_{t} + \\epsilon_t \\\\\n",
    "\\epsilon_t \\sim N(0,\\sigma^2)\\\\\n",
    "n = 1 \\\\\n",
    "\\phi_1 = 0.5 \\\\\n",
    "\\phi_2 = -0.2 \\\\\n",
    "\\phi_3 = 0.3 \\\\\n",
    "\\sigma^2 = 1 \\\\\n",
    "\\end{equation*}\n",
    "    \n",
    "State Space Representation (Harvey): \n",
    "\n",
    "\\begin{equation*}\n",
    "y_{t} = \\begin{vmatrix}\n",
    "1 & 0 & 0 & ut  \n",
    "\\end{vmatrix} \\alpha_t \\\\\n",
    "\\textrm{shaped 1 x 4 x nobs} \\\\\n",
    "\\alpha_{t+1} = \\begin{vmatrix}\n",
    "\\phi_1 & 1 & 0 & 0\\\\\n",
    "\\phi_2 & 0 & 1 & 0\\\\\n",
    "\\phi_3 & 0 & 0 & 0\\\\\n",
    "0 & 0 & 0 & 1\n",
    "\\end{vmatrix} \\alpha_t + \\mu_t \\\\\n",
    "\\mu_t = \\begin{vmatrix}\n",
    "\\epsilon_{y,t+1}\\\\\n",
    "0 \\\\\n",
    "0 \\\\\n",
    "0\n",
    "\\end{vmatrix}\n",
    "\\sim N(\\begin{vmatrix}\n",
    "0 \\\\\n",
    "0 \\\\\n",
    "0 \\\\\n",
    "0\n",
    "\\end{vmatrix},\\begin{vmatrix}\n",
    "\\sigma_{y,t+1} & 0 & 0 & 0\\\\\n",
    "0 & 0 & 0 & 0\\\\\n",
    "0 & 0 & 0 & 0\\\\\n",
    "0 & 0 & 0 & 0\n",
    "\\end{vmatrix})\n",
    "\\end{equation*}\n",
    "\n",
    "\\begin{equation*}\n",
    "a_t = \n",
    "\\begin{vmatrix}\n",
    "y_{t-1} \\\\\n",
    "\\phi_2 y_{t-2} + \\phi_3 y_{t-3} \\\\\n",
    "\\phi_3 y_{t-2} \\\\\n",
    "\\beta_{t}\n",
    "\\end{vmatrix}\n",
    "\\end{equation*}"
   ]
  },
  {
   "cell_type": "code",
   "execution_count": 132,
   "id": "9f5357b1",
   "metadata": {},
   "outputs": [],
   "source": [
    "nobs = 10000\n",
    "#true_rho = 1\n",
    "beta = 3\n",
    "var_y = 1\n",
    "true_phi = np.r_[0.5, -0.2, 0.3]\n",
    "\n",
    "np.random.seed(1234)\n",
    "\n",
    "#disturbances_beta = np.random.normal(0, var_beta ** 0.5, size=(nobs,))\n",
    "disturbances_y = np.random.normal(0, var_y ** 0.5, size=(nobs,))\n",
    "x_t = np.random.uniform(0,1,nobs)\n",
    "\n",
    "dis_exog = beta*x_t + disturbances_y\n",
    "#endog = lfilter([1], np.r_[1, -true_phi], disturbances_y)\n",
    "#beta = np.cumsum(disturbances_beta)\n",
    "#beta = lfilter([1], np.r_[1, -true_rho], disturbances_beta)\n",
    "#exog = beta*x_t\n",
    "y_sim = lfilter([1], np.r_[1, -true_phi], dis_exog)\n",
    "\n"
   ]
  },
  {
   "cell_type": "code",
   "execution_count": 133,
   "id": "8b7a3be2",
   "metadata": {},
   "outputs": [
    {
     "name": "stderr",
     "output_type": "stream",
     "text": [
      "/Users/theok/miniforge3/lib/python3.9/site-packages/statsmodels/graphics/tsaplots.py:348: FutureWarning: The default method 'yw' can produce PACF values outside of the [-1,1] interval. After 0.13, the default will change tounadjusted Yule-Walker ('ywm'). You can use this method now by setting method='ywm'.\n",
      "  warnings.warn(\n"
     ]
    },
    {
     "data": {
      "image/png": "[encoded data removed]",
      "text/plain": [
       "<Figure size 864x576 with 2 Axes>"
      ]
     },
     "metadata": {
      "needs_background": "light"
     },
     "output_type": "display_data"
    }
   ],
   "source": [
    "fig = plt.figure(figsize=(12, 8))\n",
    "ax1 = fig.add_subplot(211)\n",
    "fig = sm.graphics.tsa.plot_acf(y_sim.squeeze(), lags=10, ax=ax1)\n",
    "ax2 = fig.add_subplot(212)\n",
    "fig = sm.graphics.tsa.plot_pacf(y_sim.squeeze(), lags=10, ax=ax2)"
   ]
  },
  {
   "cell_type": "code",
   "execution_count": 135,
   "id": "a2d70a07",
   "metadata": {},
   "outputs": [
    {
     "data": {
      "text/plain": [
       "{'fopt': nan,\n",
       " 'gopt': array([14.82057215, 14.09317433, 14.4477093 , -7.27149638]),\n",
       " 'fcalls': 105,\n",
       " 'warnflag': 2,\n",
       " 'converged': False,\n",
       " 'iterations': 0}"
      ]
     },
     "execution_count": 135,
     "metadata": {},
     "output_type": "execute_result"
    }
   ],
   "source": [
    "res.mle_retvals"
   ]
  },
  {
   "cell_type": "code",
   "execution_count": 134,
   "id": "11b74b9c",
   "metadata": {},
   "outputs": [
    {
     "name": "stderr",
     "output_type": "stream",
     "text": [
      " This problem is unconstrained.\n"
     ]
    },
    {
     "name": "stdout",
     "output_type": "stream",
     "text": [
      "RUNNING THE L-BFGS-B CODE\n",
      "\n",
      "           * * *\n",
      "\n",
      "Machine precision = 2.220D-16\n",
      " N =            4     M =           10\n",
      "\n",
      "At X0         0 variables are exactly at the bounds\n",
      "\n",
      "At iterate    0    f=  8.69051D+00    |proj g|=  1.48206D+01\n",
      "\n",
      "           * * *\n",
      "\n",
      "Tit   = total number of iterations\n",
      "Tnf   = total number of function evaluations\n",
      "Tnint = total number of segments explored during Cauchy searches\n",
      "Skip  = number of BFGS updates skipped\n",
      "Nact  = number of active bounds at final generalized Cauchy point\n",
      "Projg = norm of the final projected gradient\n",
      "F     = final function value\n",
      "\n",
      "           * * *\n",
      "\n",
      "   N    Tit     Tnf  Tnint  Skip  Nact     Projg        F\n",
      "    4      1     21      1     0     0   1.482D+01   8.691D+00\n",
      "  F =   8.6905102014073012     \n",
      "\n",
      "ABNORMAL_TERMINATION_IN_LNSRCH                              \n",
      "                           Statespace Model Results                           \n",
      "==============================================================================\n",
      "Dep. Variable:                      y   No. Observations:                10000\n",
      "Model:              ARXtime_invarying   Log Likelihood              -86905.102\n",
      "Date:                Thu, 19 Jan 2023   AIC                         173818.204\n",
      "Time:                        20:17:50   BIC                         173847.045\n",
      "Sample:                             0   HQIC                        173827.967\n",
      "                              - 10000                                         \n",
      "Covariance Type:                  opg                                         \n",
      "==============================================================================\n",
      "                 coef    std err          z      P>|z|      [0.025      0.975]\n",
      "------------------------------------------------------------------------------\n",
      "param.0        0.0150      0.002      7.502      0.000       0.011       0.019\n",
      "param.1        0.0150      0.002      7.429      0.000       0.011       0.019\n",
      "param.2        0.0150      0.002      8.264      0.000       0.011       0.019\n",
      "param.3        1.0000      0.004    275.077      0.000       0.993       1.007\n",
      "===================================================================================\n",
      "Ljung-Box (L1) (Q):                1879.75   Jarque-Bera (JB):                 8.29\n",
      "Prob(Q):                              0.00   Prob(JB):                         0.02\n",
      "Heteroskedasticity (H):               0.96   Skew:                            -0.03\n",
      "Prob(H) (two-sided):                  0.27   Kurtosis:                         2.87\n",
      "===================================================================================\n",
      "\n",
      "Warnings:\n",
      "[1] Covariance matrix calculated using the outer product of gradients (complex-step).\n"
     ]
    },
    {
     "name": "stderr",
     "output_type": "stream",
     "text": [
      "/Users/theok/miniforge3/lib/python3.9/site-packages/statsmodels/base/model.py:604: ConvergenceWarning: Maximum Likelihood optimization failed to converge. Check mle_retvals\n",
      "  warnings.warn(\"Maximum Likelihood optimization failed to \"\n",
      "\n",
      " Line search cannot locate an adequate point after MAXLS\n",
      "  function and gradient evaluations.\n",
      "  Previous x, f and g restored.\n",
      " Possible causes: 1 error in function or gradient evaluation;\n",
      "                  2 rounding error dominate computation.\n"
     ]
    }
   ],
   "source": [
    "mod = ARXtime_invarying(y_sim,3,x_t)\n",
    "res = mod.fit()\n",
    "print(res.summary())"
   ]
  },
  {
   "cell_type": "code",
   "execution_count": 115,
   "id": "72d49ff9",
   "metadata": {},
   "outputs": [
    {
     "name": "stderr",
     "output_type": "stream",
     "text": [
      " This problem is unconstrained.\n"
     ]
    },
    {
     "name": "stdout",
     "output_type": "stream",
     "text": [
      "RUNNING THE L-BFGS-B CODE\n",
      "\n",
      "           * * *\n",
      "\n",
      "Machine precision = 2.220D-16\n",
      " N =            5     M =           10\n",
      "\n",
      "At X0         0 variables are exactly at the bounds\n",
      "\n",
      "At iterate    0    f=  1.76025D+00    |proj g|=  9.38357D-02\n",
      "\n",
      "At iterate    5    f=  1.71970D+00    |proj g|=  1.48301D-03\n",
      "\n",
      "           * * *\n",
      "\n",
      "Tit   = total number of iterations\n",
      "Tnf   = total number of function evaluations\n",
      "Tnint = total number of segments explored during Cauchy searches\n",
      "Skip  = number of BFGS updates skipped\n",
      "Nact  = number of active bounds at final generalized Cauchy point\n",
      "Projg = norm of the final projected gradient\n",
      "F     = final function value\n",
      "\n",
      "           * * *\n",
      "\n",
      "   N    Tit     Tnf  Tnint  Skip  Nact     Projg        F\n",
      "    5      9     12      1     0     0   6.801D-07   1.720D+00\n",
      "  F =   1.7197013873765077     \n",
      "\n",
      "CONVERGENCE: NORM_OF_PROJECTED_GRADIENT_<=_PGTOL            \n",
      "                               SARIMAX Results                                \n",
      "==============================================================================\n",
      "Dep. Variable:                      y   No. Observations:                10000\n",
      "Model:               SARIMAX(3, 0, 0)   Log Likelihood              -17197.014\n",
      "Date:                Thu, 19 Jan 2023   AIC                          34404.028\n",
      "Time:                        20:02:06   BIC                          34440.079\n",
      "Sample:                             0   HQIC                         34416.231\n",
      "                              - 10000                                         \n",
      "Covariance Type:                  opg                                         \n",
      "==============================================================================\n",
      "                 coef    std err          z      P>|z|      [0.025      0.975]\n",
      "------------------------------------------------------------------------------\n",
      "x1             2.2117      0.022    100.816      0.000       2.169       2.255\n",
      "ar.L1          0.4871      0.010     50.793      0.000       0.468       0.506\n",
      "ar.L2         -0.1326      0.011    -12.455      0.000      -0.153      -0.112\n",
      "ar.L3          0.3408      0.009     36.242      0.000       0.322       0.359\n",
      "sigma2         1.8248      0.026     68.956      0.000       1.773       1.877\n",
      "===================================================================================\n",
      "Ljung-Box (L1) (Q):                   2.37   Jarque-Bera (JB):                 3.60\n",
      "Prob(Q):                              0.12   Prob(JB):                         0.17\n",
      "Heteroskedasticity (H):               1.01   Skew:                            -0.01\n",
      "Prob(H) (two-sided):                  0.82   Kurtosis:                         2.91\n",
      "===================================================================================\n",
      "\n",
      "Warnings:\n",
      "[1] Covariance matrix calculated using the outer product of gradients (complex-step).\n"
     ]
    }
   ],
   "source": [
    "mod_sarimax = sm.tsa.SARIMAX(y_sim, exog = x_t, order=(3,0,0))\n",
    "res_sarimax = mod_sarimax.fit()\n",
    "\n",
    "# Show the summary of results\n",
    "print(res_sarimax.summary())"
   ]
  },
  {
   "cell_type": "code",
   "execution_count": 43,
   "id": "f050d2a2",
   "metadata": {},
   "outputs": [
    {
     "name": "stdout",
     "output_type": "stream",
     "text": [
      "                               SARIMAX Results                                \n",
      "==============================================================================\n",
      "Dep. Variable:                      y   No. Observations:                10000\n",
      "Model:                 ARIMA(3, 0, 0)   Log Likelihood              -14999.896\n",
      "Date:                Thu, 19 Jan 2023   AIC                          30011.793\n",
      "Time:                        19:19:31   BIC                          30055.055\n",
      "Sample:                             0   HQIC                         30026.437\n",
      "                              - 10000                                         \n",
      "Covariance Type:                  opg                                         \n",
      "==============================================================================\n",
      "                 coef    std err          z      P>|z|      [0.025      0.975]\n",
      "------------------------------------------------------------------------------\n",
      "const          0.0326      0.039      0.828      0.408      -0.045       0.110\n",
      "x1             2.2708      0.019    121.016      0.000       2.234       2.308\n",
      "ar.L1          0.4583      0.010     45.904      0.000       0.439       0.478\n",
      "ar.L2         -0.0786      0.011     -7.285      0.000      -0.100      -0.057\n",
      "ar.L3          0.3452      0.009     36.888      0.000       0.327       0.364\n",
      "sigma2         1.1759      0.018     66.041      0.000       1.141       1.211\n",
      "===================================================================================\n",
      "Ljung-Box (L1) (Q):                   5.99   Jarque-Bera (JB):                22.73\n",
      "Prob(Q):                              0.01   Prob(JB):                         0.00\n",
      "Heteroskedasticity (H):               1.01   Skew:                             0.01\n",
      "Prob(H) (two-sided):                  0.78   Kurtosis:                         2.77\n",
      "===================================================================================\n",
      "\n",
      "Warnings:\n",
      "[1] Covariance matrix calculated using the outer product of gradients (complex-step).\n"
     ]
    }
   ],
   "source": [
    "mod_arimax = sm.tsa.ARIMA(y_sim, exog = x_t, order=(3,0,0))\n",
    "res_arimax = mod_arimax.fit()\n",
    "\n",
    "# Show the summary of results\n",
    "print(res_arimax.summary())"
   ]
  },
  {
   "cell_type": "code",
   "execution_count": 57,
   "id": "da9513f8",
   "metadata": {},
   "outputs": [
    {
     "data": {
      "image/png": "[encoded data removed]",
      "text/plain": [
       "<Figure size 432x288 with 4 Axes>"
      ]
     },
     "execution_count": 57,
     "metadata": {},
     "output_type": "execute_result"
    },
    {
     "data": {
      "image/png": "[encoded data removed]",
      "text/plain": [
       "<Figure size 432x288 with 4 Axes>"
      ]
     },
     "metadata": {
      "needs_background": "light"
     },
     "output_type": "display_data"
    }
   ],
   "source": [
    "res.plot_diagnostics()"
   ]
  },
  {
   "cell_type": "markdown",
   "id": "129e5a59",
   "metadata": {},
   "source": [
    "<h2>Jarque-Bera: [test_statistic, pvalue, skewness, kurtosis] </h2>\n",
    "<h3>Goodness of fit </h3>"
   ]
  },
  {
   "cell_type": "code",
   "execution_count": 59,
   "id": "7fd8d710",
   "metadata": {},
   "outputs": [
    {
     "name": "stdout",
     "output_type": "stream",
     "text": [
      "[[ 0.23753265  0.88801528 -0.03460114  3.03019648]]\n"
     ]
    }
   ],
   "source": [
    "print(res.test_normality(method='jarquebera'))"
   ]
  },
  {
   "cell_type": "markdown",
   "id": "c2985718",
   "metadata": {},
   "source": [
    "<h2>Goldfeld-Quandt type test: [test_statistic, pvalue] </h2>\n",
    "<h3>Heteroskedasticity </h3>"
   ]
  },
  {
   "cell_type": "code",
   "execution_count": 61,
   "id": "7cfcff38",
   "metadata": {},
   "outputs": [
    {
     "name": "stdout",
     "output_type": "stream",
     "text": [
      "[[1.05587354 0.62013254]]\n"
     ]
    }
   ],
   "source": [
    "print(res.test_heteroskedasticity(method='breakvar'))"
   ]
  },
  {
   "cell_type": "markdown",
   "id": "47af49f9",
   "metadata": {},
   "source": [
    "<h2>Ljung-Box test: [test_statistic, pvalue] for each lag (overlap with plot_diagnostics)</h2> \n",
    "<h3>residuals from the ARIMA model have autocorrelation or not</h3>"
   ]
  },
  {
   "cell_type": "code",
   "execution_count": 62,
   "id": "d52deb0a",
   "metadata": {},
   "outputs": [
    {
     "name": "stdout",
     "output_type": "stream",
     "text": [
      "[[[0.12512417 0.18073023 0.43468683 0.77958307 2.0902451  3.05122921\n",
      "   3.05166113 3.1722692  3.39787321 3.74236522]\n",
      "  [0.72354202 0.91359756 0.93298738 0.94116409 0.83652229 0.80239011\n",
      "   0.88018236 0.92308594 0.9464146  0.95822181]]]\n"
     ]
    },
    {
     "name": "stderr",
     "output_type": "stream",
     "text": [
      "/Users/theo/opt/anaconda3/lib/python3.8/site-packages/statsmodels/tsa/statespace/mlemodel.py:3220: FutureWarning: The default value of lags is changing.  After 0.12, this value will become min(10, nobs//5) for non-seasonal time series and min (2*m, nobs//5) for seasonal time series. Directly set lags to silence this warning.\n",
      "  warnings.warn(\n"
     ]
    }
   ],
   "source": [
    "print(res.test_serial_correlation(method='ljungbox'))"
   ]
  },
  {
   "cell_type": "markdown",
   "id": "44185281",
   "metadata": {},
   "source": [
    "<h2>AIC plot</h2>"
   ]
  },
  {
   "cell_type": "code",
   "execution_count": 92,
   "id": "5e013ef2",
   "metadata": {},
   "outputs": [],
   "source": [
    "orders = 7\n",
    "AIC_df = pd.DataFrame()\n",
    "for order in range(1,orders):\n",
    "    mod = ARm(endogm,order)\n",
    "    res = mod.fit()\n",
    "    aic = res.aic\n",
    "    temp = pd.DataFrame({'ar': [order],\\\n",
    "                            'aic': [aic]})\n",
    "        \n",
    "    AIC_df = AIC_df.append(temp)"
   ]
  },
  {
   "cell_type": "code",
   "execution_count": 94,
   "id": "aaddacc3",
   "metadata": {},
   "outputs": [
    {
     "data": {
      "text/plain": [
       "<AxesSubplot:xlabel='ar', ylabel='aic'>"
      ]
     },
     "execution_count": 94,
     "metadata": {},
     "output_type": "execute_result"
    },
    {
     "data": {
      "image/png": "[encoded data removed]",
      "text/plain": [
       "<Figure size 432x288 with 1 Axes>"
      ]
     },
     "metadata": {
      "needs_background": "light"
     },
     "output_type": "display_data"
    }
   ],
   "source": [
    "sns.lineplot(data = AIC_df, x = 'ar', y = 'aic')"
   ]
  }
 ],
 "metadata": {
  "kernelspec": {
   "display_name": "Python 3 (ipykernel)",
   "language": "python",
   "name": "python3"
  },
  "language_info": {
   "codemirror_mode": {
    "name": "ipython",
    "version": 3
   },
   "file_extension": ".py",
   "mimetype": "text/x-python",
   "name": "python",
   "nbconvert_exporter": "python",
   "pygments_lexer": "ipython3",
   "version": "3.9.13"
  }
 },
 "nbformat": 4,
 "nbformat_minor": 5
}
