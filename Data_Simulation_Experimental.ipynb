{
 "cells": [
  {
   "cell_type": "markdown",
   "id": "e8acb8d0",
   "metadata": {},
   "source": [
    "<h1>Generating Data Based on:</h1>\n",
    "<ol>\n",
    "<li>AR3<ol>\n",
    "    <li>Phi: autoregression weight</li>\n",
    "    <li>Sigma: variance of noice</li>\n",
    "    </ol>\n",
    "    <br>\n",
    "    \n",
    "<li>ARMA(3,3)<ol>\n",
    "    <li>Phi: autoregression weight</li>\n",
    "    <li>Theta: moving average weight</li>\n",
    "    <li>Sigma: variance of noise</li>\n",
    "    <li>obs_cov</li>\n",
    "    <li>state_cov</li>\n",
    "    </ol>\n",
    "    <br>\n",
    "    \n",
    "<li>ARX3<ol>\n",
    "    <li>Phi: autoregression weight</li>\n",
    "    <li>Sigma: variance of noice</li>\n",
    "    </ol>\n",
    "    <br>\n",
    "\n",
    "<li>ARMAX(3,3)<ol>\n",
    "    <li>Phi: autoregression weight</li>\n",
    "    <li>Theta: moving average weight</li>\n",
    "    <li>Sigma: variance of noise</li>\n",
    "    <li>obs_cov</li>\n",
    "    <li>state_cov</li>\n",
    "    </ol>\n",
    "    <br>\n",
    "    \n",
    "<li>TVARX<ol>\n",
    "    <li>obs_cov</li>\n",
    "    <li>state_cov</li>\n",
    "    </ol>\n",
    "    <br>\n",
    "    </ol>\n",
    "\n"
   ]
  },
  {
   "cell_type": "code",
   "execution_count": 1,
   "id": "85e1bca4",
   "metadata": {},
   "outputs": [],
   "source": [
    "import numpy as np\n",
    "from scipy.signal import lfilter\n",
    "import statsmodels.api as sm\n",
    "import seaborn as sns\n",
    "import matplotlib.pyplot as plt\n",
    "from statsmodels.tsa.statespace.tools import (\n",
    "    constrain_stationary_univariate, unconstrain_stationary_univariate)\n",
    "import sympy as sym\n",
    "%matplotlib inline\n"
   ]
  },
  {
   "cell_type": "markdown",
   "id": "98758798",
   "metadata": {},
   "source": [
    "<li>AR2<ol>\n",
    "    <li>Phi: autoregression weight</li>\n",
    "    <li>Sigma: variance of noice</li>\n",
    "    </ol>\n",
    "</li>\n",
    "\\begin{equation*}\n",
    "{\\phi}(L)y_{t} = \\epsilon_t \\\\\n",
    "y_{t} = {\\phi_1}y_{t-1} + {\\phi_2}y_{t-2} +  \\epsilon_t \\\\\n",
    "(1-\\sum_{1=1}^2 a_iL^i)y_t = \\epsilon_t \\\\\n",
    "\\epsilon_t \\sim N(0,\\sigma^2)\\\\\n",
    "\\phi_1 = 0.5 \\\\\n",
    "\\phi_2 = -0.2 \\\\\n",
    "\\sigma^2 = 1\n",
    "\\end{equation*}\n",
    "State Space Representation: \n",
    "\\begin{equation*}\n",
    "y_{t} = \\begin{vmatrix}\n",
    "1 & 0 \n",
    "\\end{vmatrix} \\alpha_t \\\\\n",
    "\\alpha_{t+1} = \\begin{vmatrix}\n",
    "\\phi_1 & \\phi_2  \\\\\n",
    "1 & 0  \n",
    "\\end{vmatrix} \\alpha_t + \\begin{vmatrix}\n",
    "1 \\\\\n",
    "0 \n",
    "\\end{vmatrix} \\eta_t \\\\\n",
    "\\eta_t = \\epsilon_{t+1} \\sim N(0,\\sigma^2)\n",
    "\\end{equation*}"
   ]
  },
  {
   "cell_type": "code",
   "execution_count": 2,
   "id": "bb8492f8",
   "metadata": {},
   "outputs": [],
   "source": [
    "# True model parameters\n",
    "nobs = int(1e3)\n",
    "true_phi = np.r_[0.5, -0.2]\n",
    "true_sigma = 1**0.5\n",
    "\n",
    "# Simulate a time series\n",
    "np.random.seed(1234)\n",
    "disturbances = np.random.normal(0, true_sigma, size=(nobs,))\n",
    "endog = lfilter([1], np.r_[1, -true_phi], disturbances)"
   ]
  },
  {
   "cell_type": "code",
   "execution_count": 3,
   "id": "95e7c37d",
   "metadata": {},
   "outputs": [
    {
     "name": "stdout",
     "output_type": "stream",
     "text": [
      "                               SARIMAX Results                                \n",
      "==============================================================================\n",
      "Dep. Variable:                      y   No. Observations:                 1000\n",
      "Model:               SARIMAX(2, 0, 0)   Log Likelihood               -1389.437\n",
      "Date:                Mon, 09 Jan 2023   AIC                           2784.874\n",
      "Time:                        11:01:52   BIC                           2799.598\n",
      "Sample:                             0   HQIC                          2790.470\n",
      "                               - 1000                                         \n",
      "Covariance Type:                  opg                                         \n",
      "==============================================================================\n",
      "                 coef    std err          z      P>|z|      [0.025      0.975]\n",
      "------------------------------------------------------------------------------\n",
      "ar.L1          0.4395      0.030     14.730      0.000       0.381       0.498\n",
      "ar.L2         -0.2055      0.032     -6.523      0.000      -0.267      -0.144\n",
      "sigma2         0.9425      0.042     22.413      0.000       0.860       1.025\n",
      "===================================================================================\n",
      "Ljung-Box (L1) (Q):                   0.00   Jarque-Bera (JB):                 0.22\n",
      "Prob(Q):                              0.95   Prob(JB):                         0.90\n",
      "Heteroskedasticity (H):               1.05   Skew:                            -0.04\n",
      "Prob(H) (two-sided):                  0.66   Kurtosis:                         3.02\n",
      "===================================================================================\n",
      "\n",
      "Warnings:\n",
      "[1] Covariance matrix calculated using the outer product of gradients (complex-step).\n"
     ]
    }
   ],
   "source": [
    "# We could fit an AR(2) model, described above\n",
    "mod_ar2 = sm.tsa.SARIMAX(endog, order=(2,0,0))\n",
    "# Note that mod_ar2 is an instance of the SARIMAX class\n",
    "\n",
    "# Fit the model via maximum likelihood\n",
    "res_ar2 = mod_ar2.fit()\n",
    "# Note that res_ar2 is an instance of the SARIMAXResults class\n",
    "\n",
    "# Show the summary of results\n",
    "print(res_ar2.summary())\n",
    "\n"
   ]
  },
  {
   "cell_type": "markdown",
   "id": "a17218f0",
   "metadata": {},
   "source": [
    "<h1>Custom model: AR2</h1>"
   ]
  },
  {
   "cell_type": "code",
   "execution_count": 25,
   "id": "1267168d",
   "metadata": {},
   "outputs": [
    {
     "name": "stdout",
     "output_type": "stream",
     "text": [
      "RUNNING THE L-BFGS-B CODE\n",
      "\n",
      "           * * *\n",
      "\n",
      "Machine precision = 2.220D-16\n",
      " N =            3     M =           10\n",
      "\n",
      "At X0         0 variables are exactly at the bounds\n",
      "\n",
      "At iterate    0    f=  1.48642D+00    |proj g|=  4.13724D-01\n",
      "\n",
      "At iterate    5    f=  1.38944D+00    |proj g|=  2.39503D-04\n",
      "\n",
      "           * * *\n",
      "\n",
      "Tit   = total number of iterations\n",
      "Tnf   = total number of function evaluations\n",
      "Tnint = total number of segments explored during Cauchy searches\n",
      "Skip  = number of BFGS updates skipped\n",
      "Nact  = number of active bounds at final generalized Cauchy point\n",
      "Projg = norm of the final projected gradient\n",
      "F     = final function value\n",
      "\n",
      "           * * *\n",
      "\n",
      "   N    Tit     Tnf  Tnint  Skip  Nact     Projg        F\n",
      "    3      7      9      1     0     0   5.589D-07   1.389D+00\n",
      "  F =   1.3894371898898661     \n",
      "\n",
      "CONVERGENCE: NORM_OF_PROJECTED_GRADIENT_<=_PGTOL            \n",
      "                           Statespace Model Results                           \n",
      "==============================================================================\n",
      "Dep. Variable:                      y   No. Observations:                 1000\n",
      "Model:                            AR2   Log Likelihood               -1389.437\n",
      "Date:                Thu, 08 Dec 2022   AIC                           2784.874\n",
      "Time:                        20:49:08   BIC                           2799.598\n",
      "Sample:                             0   HQIC                          2790.470\n",
      "                               - 1000                                         \n",
      "Covariance Type:                  opg                                         \n",
      "==============================================================================\n",
      "                 coef    std err          z      P>|z|      [0.025      0.975]\n",
      "------------------------------------------------------------------------------\n",
      "param.0        0.4395      0.030     14.730      0.000       0.381       0.498\n",
      "param.1       -0.2055      0.032     -6.523      0.000      -0.267      -0.144\n",
      "param.2        0.9425      0.042     22.413      0.000       0.860       1.025\n",
      "===================================================================================\n",
      "Ljung-Box (L1) (Q):                   0.00   Jarque-Bera (JB):                 0.22\n",
      "Prob(Q):                              0.95   Prob(JB):                         0.90\n",
      "Heteroskedasticity (H):               1.05   Skew:                            -0.04\n",
      "Prob(H) (two-sided):                  0.66   Kurtosis:                         3.02\n",
      "===================================================================================\n",
      "\n",
      "Warnings:\n",
      "[1] Covariance matrix calculated using the outer product of gradients (complex-step).\n"
     ]
    },
    {
     "name": "stderr",
     "output_type": "stream",
     "text": [
      " This problem is unconstrained.\n"
     ]
    }
   ],
   "source": [
    "# Construct the model\n",
    "class AR2(sm.tsa.statespace.MLEModel):\n",
    "    def __init__(self, endog):\n",
    "        # Initialize the state space model\n",
    "        super(AR2, self).__init__(endog, k_states=2, k_posdef=1,\n",
    "                                  initialization='stationary')\n",
    "\n",
    "        # Setup the fixed components of the state space representation\n",
    "        self['design'] = [1, 0]\n",
    "        self['transition'] = [[0, 0],\n",
    "                                  [1, 0]]\n",
    "        self['selection', 0, 0] = 1\n",
    "\n",
    "    # Describe how parameters enter the model\n",
    "    def update(self, params, transformed=True, **kwargs):\n",
    "        params = super(AR2, self).update(params, transformed, **kwargs)\n",
    "\n",
    "        self['transition', 0, :] = params[:2]\n",
    "        self['state_cov', 0, 0] = params[2]\n",
    "\n",
    "    # Specify start parameters and parameter names\n",
    "    @property\n",
    "    def start_params(self):\n",
    "        return [0,0,1]  # these are very simple\n",
    "\n",
    "# Create and fit the model\n",
    "mod = AR2(endog)\n",
    "res = mod.fit()\n",
    "print(res.summary())"
   ]
  },
  {
   "cell_type": "markdown",
   "id": "0692b526",
   "metadata": {},
   "source": [
    "<li>AR3<ol>\n",
    "    <li>Phi: autoregression weight</li>\n",
    "    <li>Sigma: variance of noice</li>\n",
    "    </ol>\n",
    "    \n",
    "\\begin{equation*}\n",
    "{\\phi}(L)y_{t} = \\epsilon_t \\\\\n",
    "y_{t} = {\\phi_1}y_{t-1} + {\\phi_2}y_{t-2} + {\\phi_3}y_{t-3} +\\epsilon_t \\\\\n",
    "(1-\\sum_{1=1}^3 a_iL^i)y_t = \\epsilon_t \\\\\n",
    "\\epsilon_t \\sim N(0,\\sigma^2)\\\\\n",
    "\\phi_1 = 0.5 \\\\\n",
    "\\phi_2 = -0.2 \\\\\n",
    "\\phi_3 = 0.3 \\\\\n",
    "\\sigma^2 = 1\n",
    "\\end{equation*}\n",
    "    \n",
    "State Space Representation (Hamilton): \n",
    "\n",
    "\\begin{equation*}\n",
    "y_{t} = \\begin{vmatrix}\n",
    "1 & 0 & 0\n",
    "\\end{vmatrix} \\alpha_t \\\\\n",
    "\\alpha_{t+1} = \\begin{vmatrix}\n",
    "\\phi_1 & \\phi_2 & \\phi_3 \\\\\n",
    "1 & 0 & 0 \\\\\n",
    "0 & 1 & 0\n",
    "\\end{vmatrix} \\alpha_t + \\begin{vmatrix}\n",
    "1 \\\\\n",
    "0 \\\\\n",
    "0\n",
    "\\end{vmatrix} \\eta_t \\\\\n",
    "\\eta_t = \\epsilon_{t+1} \\sim N(0,\\sigma^2)\n",
    "\\end{equation*}"
   ]
  },
  {
   "cell_type": "code",
   "execution_count": 4,
   "id": "3c360ce5",
   "metadata": {},
   "outputs": [],
   "source": [
    "# True model parameters\n",
    "nobs = int(1e3)\n",
    "true_phi3 = np.r_[0.5, -0.2, 0.3]\n",
    "true_sigma = 1**0.5\n",
    "\n",
    "# Simulate a time series\n",
    "np.random.seed(1234)\n",
    "disturbances = np.random.normal(0, true_sigma, size=(nobs,))\n",
    "endog3 = lfilter([1], np.r_[1, -true_phi3], disturbances)"
   ]
  },
  {
   "cell_type": "code",
   "execution_count": 14,
   "id": "f92196b5",
   "metadata": {},
   "outputs": [
    {
     "name": "stdout",
     "output_type": "stream",
     "text": [
      "                               SARIMAX Results                                \n",
      "==============================================================================\n",
      "Dep. Variable:                      y   No. Observations:                 1000\n",
      "Model:               SARIMAX(3, 0, 0)   Log Likelihood               -1390.022\n",
      "Date:                Mon, 09 Jan 2023   AIC                           2788.044\n",
      "Time:                        11:03:19   BIC                           2807.675\n",
      "Sample:                             0   HQIC                          2795.505\n",
      "                               - 1000                                         \n",
      "Covariance Type:                  opg                                         \n",
      "==============================================================================\n",
      "                 coef    std err          z      P>|z|      [0.025      0.975]\n",
      "------------------------------------------------------------------------------\n",
      "ar.L1          0.4534      0.029     15.844      0.000       0.397       0.510\n",
      "ar.L2         -0.2044      0.034     -6.084      0.000      -0.270      -0.139\n",
      "ar.L3          0.3207      0.032     10.073      0.000       0.258       0.383\n",
      "sigma2         0.9433      0.042     22.473      0.000       0.861       1.026\n",
      "===================================================================================\n",
      "Ljung-Box (L1) (Q):                   0.13   Jarque-Bera (JB):                 0.24\n",
      "Prob(Q):                              0.72   Prob(JB):                         0.89\n",
      "Heteroskedasticity (H):               1.06   Skew:                            -0.03\n",
      "Prob(H) (two-sided):                  0.62   Kurtosis:                         3.03\n",
      "===================================================================================\n",
      "\n",
      "Warnings:\n",
      "[1] Covariance matrix calculated using the outer product of gradients (complex-step).\n"
     ]
    }
   ],
   "source": [
    "# We could fit an AR(2) model, described above\n",
    "mod_ar3 = sm.tsa.SARIMAX(endog3, order=(3,0,0))\n",
    "# Note that mod_ar2 is an instance of the SARIMAX class\n",
    "\n",
    "# Fit the model via maximum likelihood\n",
    "res_ar3 = mod_ar3.fit()\n",
    "# Note that res_ar2 is an instance of the SARIMAXResults class\n",
    "\n",
    "# Show the summary of results\n",
    "print(res_ar3.summary())\n"
   ]
  },
  {
   "cell_type": "markdown",
   "id": "6991e586",
   "metadata": {},
   "source": [
    "<h1>Custom model: AR3</h1>"
   ]
  },
  {
   "cell_type": "code",
   "execution_count": 33,
   "id": "0c017587",
   "metadata": {},
   "outputs": [],
   "source": [
    "# Construct the model\n",
    "class AR3(sm.tsa.statespace.MLEModel):\n",
    "    def __init__(self, endog):\n",
    "        # Initialize the state space model\n",
    "        super(AR3, self).__init__(endog, k_states=3, k_posdef=1,\n",
    "                                  initialization='stationary')\n",
    "\n",
    "        # Setup the fixed components of the state space representation\n",
    "        self['design'] = [1, 0, 0]\n",
    "        self['transition'] = [[0, 0, 0],\n",
    "                                  [1, 0, 0],\n",
    "                                     [0, 1, 0]]\n",
    "        self['selection', 0, 0] = 1\n",
    "        \n",
    "        self.positive_parameters = slice(4,5)\n",
    "\n",
    "    # Describe how parameters enter the model\n",
    "    def update(self, params, transformed=True, **kwargs):\n",
    "        params = super(AR3, self).update(params, transformed, **kwargs)\n",
    "\n",
    "        self['transition', 0, :] = params[:3]\n",
    "        self['state_cov', 0, 0] = params[3]\n",
    "        \n",
    "\n",
    "    # Specify start parameters and parameter names\n",
    "    @property\n",
    "    def start_params(self):\n",
    "        return [0,0,0,1]  # these are very simple\n",
    "    \n",
    "    def transform_params(self, unconstrained):\n",
    "        \"\"\"\n",
    "        We constraint the last three parameters\n",
    "        ('var.e', 'var.x.coeff', 'var.w.coeff') to be positive,\n",
    "        because they are variances\n",
    "        \"\"\"\n",
    "        constrained = unconstrained.copy()\n",
    "        constrained[self.positive_parameters] = (\n",
    "            constrained[self.positive_parameters] ** 2\n",
    "        )\n",
    "        constrained[0] = constrain_stationary_univariate(constrained[0:1])\n",
    "        constrained[1] = constrain_stationary_univariate(constrained[1:2])\n",
    "        constrained[2] = constrain_stationary_univariate(constrained[2:3])\n",
    "        return constrained\n",
    "\n",
    "    def untransform_params(self, constrained):\n",
    "        \"\"\"\n",
    "        Need to unstransform all the parameters you transformed\n",
    "        in the `transform_params` function\n",
    "        \"\"\"\n",
    "        unconstrained = constrained.copy()\n",
    "        unconstrained[self.positive_parameters] = (\n",
    "            unconstrained[self.positive_parameters] ** 0.5\n",
    "        )\n",
    "        unconstrained[0] = unconstrain_stationary_univariate(constrained[0:1])\n",
    "        unconstrained[1] = unconstrain_stationary_univariate(constrained[1:2])\n",
    "        unconstrained[2] = unconstrain_stationary_univariate(constrained[2:3])\n",
    "        return unconstrained"
   ]
  },
  {
   "cell_type": "code",
   "execution_count": 34,
   "id": "6797430b",
   "metadata": {},
   "outputs": [
    {
     "name": "stdout",
     "output_type": "stream",
     "text": [
      "                           Statespace Model Results                           \n",
      "==============================================================================\n",
      "Dep. Variable:                      y   No. Observations:                 1000\n",
      "Model:                            AR3   Log Likelihood               -1551.342\n",
      "Date:                Mon, 09 Jan 2023   AIC                           3110.684\n",
      "Time:                        12:06:37   BIC                           3130.315\n",
      "Sample:                             0   HQIC                          3118.145\n",
      "                               - 1000                                         \n",
      "Covariance Type:                  opg                                         \n",
      "==============================================================================\n",
      "                 coef    std err          z      P>|z|      [0.025      0.975]\n",
      "------------------------------------------------------------------------------\n",
      "param.0             0      0.029          0      1.000      -0.057       0.057\n",
      "param.1             0      0.030          0      1.000      -0.060       0.060\n",
      "param.2             0      0.028          0      1.000      -0.055       0.055\n",
      "param.3        1.0000      0.046     21.899      0.000       0.911       1.089\n",
      "===================================================================================\n",
      "Ljung-Box (L1) (Q):                 164.85   Jarque-Bera (JB):                 0.15\n",
      "Prob(Q):                              0.00   Prob(JB):                         0.93\n",
      "Heteroskedasticity (H):               1.09   Skew:                            -0.01\n",
      "Prob(H) (two-sided):                  0.41   Kurtosis:                         3.06\n",
      "===================================================================================\n",
      "\n",
      "Warnings:\n",
      "[1] Covariance matrix calculated using the outer product of gradients (complex-step).\n"
     ]
    },
    {
     "name": "stderr",
     "output_type": "stream",
     "text": [
      "/Users/theo/opt/anaconda3/lib/python3.8/site-packages/statsmodels/base/model.py:566: ConvergenceWarning: Maximum Likelihood optimization failed to converge. Check mle_retvals\n",
      "  warnings.warn(\"Maximum Likelihood optimization failed to \"\n"
     ]
    }
   ],
   "source": [
    "mod = AR3(endog3)\n",
    "res = mod.fit()\n",
    "print(res.summary())"
   ]
  },
  {
   "cell_type": "markdown",
   "id": "bfd8b3e8",
   "metadata": {},
   "source": [
    "<li>ARMA3<ol>\n",
    "    <li>Phi: autoregression weight</li>\n",
    "    <li>Theta: moving average weight</li>\n",
    "    <li>Sigma: variance of noise</li>\n",
    "    <li>obs_cov</li>\n",
    "    <li>state_cov</li>\n",
    "    </ol>\n",
    "</li>\n",
    "<br>\n",
    "    \n",
    "\\begin{equation*}\n",
    "{\\phi}(L)y_{t} = {\\theta_1}(L)\\epsilon_t \\\\\n",
    "y_{t} = {\\phi_1}y_{t-1} + {\\phi_2}y_{t-2} + {\\phi_3}y_{t-3} +\\epsilon_t + {\\theta_1}\\epsilon_{t-1}+{\\theta_2}\\epsilon_{t-2}+{\\theta_3}\\epsilon_{t-3}\\\\\n",
    "(1-\\sum_{1=1}^3 \\phi_iL^i)y_t = (1+\\sum_{1=1}^3 \\theta_iL^i)\\epsilon_t \\\\\n",
    "\\epsilon_t \\sim N(0,\\sigma^2)\\\\\n",
    "\\phi_1 = 0.5 \\\\\n",
    "\\phi_2 = -0.2 \\\\\n",
    "\\phi_3 = 0.6 \\\\\n",
    "\\theta_1 = 0.3 \\\\\n",
    "\\theta_2 = -0.5 \\\\\n",
    "\\theta_3 = 0.8 \\\\\n",
    "\\sigma^2 = 1\n",
    "\\end{equation*}\n",
    "\n",
    "State Space Representation (Harvey):\n",
    "\\begin{equation*}\n",
    "y_{t} = \\begin{vmatrix}\n",
    "1 & 0 & 0 & 0\n",
    "\\end{vmatrix} \\alpha_t \\\\\n",
    "\\alpha_{t+1} = \\begin{vmatrix}\n",
    "\\phi_1 & 1 & 0 & 0\\\\\n",
    "\\phi_2 & 0 & 1 & 0\\\\\n",
    "\\phi_3 & 0 & 0 & 1\\\\\n",
    "\\phi_4 & 0 & 0 & 0\n",
    "\\end{vmatrix} \\alpha_t + \\begin{vmatrix}\n",
    "1 \\\\\n",
    "\\theta_1 \\\\\n",
    "\\theta_2 \\\\\n",
    "\\theta_3\n",
    "\\end{vmatrix} \\mu_t \\\\\n",
    "\\phi_4 = 0 \\\\\n",
    "\\mu_t = \\epsilon_{t+1} \\sim N(0,\\sigma^2)\n",
    "\\end{equation*}\n",
    "\n",
    "Note: \n",
    "\\begin{equation*}\n",
    "a_t = \n",
    "\\begin{vmatrix}\n",
    "y_{t-1} \\\\\n",
    "\\phi_2 y_{t-2} + \\phi_3 y_{t-3} \\\\\n",
    "\\phi_3 y_{t-2} \\\\\n",
    "\\theta_3\\epsilon_{t-3}\n",
    "\\end{vmatrix}\n",
    "\\end{equation*}\n",
    "\n",
    "Derivation of data simulation from the system above:\n",
    "\\begin{equation*}\n",
    "c = \\begin{vmatrix}\n",
    "1 & 0 & 0 & 0\n",
    "\\end{vmatrix}\\\\\n",
    "q = \\begin{vmatrix}\n",
    "0.5 & 1 & 0 & 0\\\\\n",
    "-0.2 & 0 & 1 & 0\\\\\n",
    "0.6 & 0 & 0 & 1\\\\\n",
    "0 & 0 & 0 & 0\n",
    "\\end{vmatrix}\\\\\n",
    "d = \\begin{vmatrix}\n",
    "1 \\\\\n",
    "0.3 \\\\\n",
    "-0.5 \\\\\n",
    "0.8\n",
    "\\end{vmatrix}\\\\\n",
    "y_{t} =  c\\alpha_t \\\\\n",
    "\\alpha_{t+1} =  q\\alpha_t +  d\\mu_t \\\\\n",
    "\\end{equation*}\n",
    "\n",
    "Tranform into Laplace domain: \n",
    "\\begin{equation*}\n",
    "y_{t} =  c\\alpha_t \\\\\n",
    "\\alpha_{t+1} =  q\\alpha_t +  d\\mu_t \\\\\n",
    "\\downarrow\\\\\n",
    "Y_{s} =  CA_s \\\\\n",
    "\\frac{1}{s}A_{s} =  QA_s +  DM_s \\\\\n",
    "\\downarrow\\\\\n",
    "Y_{s} =  CA_s \\\\\n",
    "(\\frac{1}{s}-Q)A_s = DM_s \\\\\n",
    "\\downarrow\\\\\n",
    "Y_{s} =  CA_s \\\\\n",
    "A_s = (\\frac{1}{s}-Q)^{-1}DM_s \\\\\n",
    "\\downarrow\\\\\n",
    "Y_{s} =  C(\\frac{1}{s}-Q)^{-1}DM_s \\\\\n",
    "\\downarrow\\\\\n",
    "H_s = \\frac{Y_s}{M_s} = C(\\frac{1}{s}-Q)^{-1}D\n",
    "\\end{equation*}"
   ]
  },
  {
   "cell_type": "code",
   "execution_count": 2,
   "id": "ae6481ff",
   "metadata": {},
   "outputs": [],
   "source": [
    "sym.init_printing()\n",
    "\n",
    "s = sym.symbols('s')\n",
    "matrix = sym.Matrix([[1/s-0.5, -1, 0, 0], \n",
    "                     [0.2, 1/s, -1, 0],\n",
    "                     [-0.6, 0, 1/s, -1],\n",
    "                     [0, 0, 0, 1/s]])\n",
    "\n",
    "phi_inv = matrix.inv()\n",
    "\n",
    "D = sym.Matrix([[1],[0.3],[-0.5],[0.8]])\n",
    "C = sym.Matrix([[1,0,0,0]])\n",
    "\n",
    "trans = sym.simplify(C*phi_inv*D)"
   ]
  },
  {
   "cell_type": "markdown",
   "id": "69adc325",
   "metadata": {},
   "source": [
    "An alternative format of the transfer function:"
   ]
  },
  {
   "cell_type": "markdown",
   "id": "e93dfe00",
   "metadata": {},
   "source": [
    "\n",
    "sym.init_printing()\n",
    "\n",
    "s = sym.symbols('s')\n",
    "matrix = sym.Matrix([[1-0.5*s, -s, 0, 0], \n",
    "                     [0.2*s, 1, -s, 0],\n",
    "                     [-0.6*s, 0, 1, -s],\n",
    "                     [0, 0, 0, 1]])\n",
    "\n",
    "phi_inv = matrix.inv()\n",
    "\n",
    "D = sym.Matrix([[1],[0.3],[-0.5],[0.8]])\n",
    "C = sym.Matrix([[1,0,0,0]])\n",
    "\n",
    "trans = sym.simplify(C*phi_inv*D)"
   ]
  },
  {
   "cell_type": "markdown",
   "id": "2d2752c3",
   "metadata": {},
   "source": [
    "trans is the transfer function"
   ]
  },
  {
   "cell_type": "code",
   "execution_count": 26,
   "id": "7b4963f1",
   "metadata": {},
   "outputs": [],
   "source": [
    "n,d = sym.fraction(trans[0])\n",
    "a = sym.poly(n, s)\n",
    "b = sym.poly(d, s)\n",
    "n_coeffs = a.all_coeffs()\n",
    "d_coeffs = b.all_coeffs()\n",
    "n_coeffs.reverse()\n",
    "d_coeffs.reverse()\n",
    "trans_num1 = np.r_[n_coeffs].astype(None)\n",
    "trans_den1 = np.r_[d_coeffs].astype(None)\n",
    "\n",
    "nobs = int(1e3)\n",
    "true_sigma = 1**0.5\n",
    "# Simulate a time series\n",
    "np.random.seed(1234)\n",
    "disturbances = np.random.normal(0, true_sigma, size=(nobs,))\n",
    "endogARMA31 = lfilter(trans_num1, trans_den1, disturbances)"
   ]
  },
  {
   "cell_type": "markdown",
   "id": "7927da35",
   "metadata": {},
   "source": [
    "\\begin{equation*}\n",
    "H_s = \\frac{0-0.008s-0.0024s^2+0.004s^3-0.0064s^4}{-0.008+0.004s-0.0016s^2+0.0048s^3}\n",
    "\\end{equation*}"
   ]
  },
  {
   "cell_type": "code",
   "execution_count": 16,
   "id": "c3d3a9f0",
   "metadata": {},
   "outputs": [],
   "source": [
    "# True model parameters\n",
    "nobs = int(1e3)\n",
    "true_phi3 = np.r_[0.5, -0.2, 0.6]\n",
    "true_theta3 = np.r_[0.3, -0.5, 0.8]\n",
    "true_sigma = 1**0.5\n",
    "\n",
    "trans_num = np.r_[0, -0.008, -0.0024, 0.004, -0.0064]\n",
    "trans_den = np.r_[-0.008, 0.004, -0.0016, 0.0048]\n",
    "# Simulate a time series\n",
    "np.random.seed(1234)\n",
    "disturbances = np.random.normal(0, true_sigma, size=(nobs,))\n",
    "endogARMA3 = lfilter(trans_num, trans_den, disturbances)\n"
   ]
  },
  {
   "cell_type": "code",
   "execution_count": 28,
   "id": "9d4d9665",
   "metadata": {},
   "outputs": [
    {
     "name": "stdout",
     "output_type": "stream",
     "text": [
      "                               SARIMAX Results                                \n",
      "==============================================================================\n",
      "Dep. Variable:                      y   No. Observations:                 1000\n",
      "Model:               SARIMAX(3, 0, 3)   Log Likelihood               -1599.328\n",
      "Date:                Tue, 10 Jan 2023   AIC                           3212.655\n",
      "Time:                        09:13:42   BIC                           3247.009\n",
      "Sample:                             0   HQIC                          3225.712\n",
      "                               - 1000                                         \n",
      "Covariance Type:                  opg                                         \n",
      "==============================================================================\n",
      "                 coef    std err          z      P>|z|      [0.025      0.975]\n",
      "------------------------------------------------------------------------------\n",
      "ar.L1          0.4810      0.031     15.707      0.000       0.421       0.541\n",
      "ar.L2         -0.1958      0.034     -5.793      0.000      -0.262      -0.130\n",
      "ar.L3          0.6147      0.030     20.630      0.000       0.556       0.673\n",
      "ma.L1         -0.1618      0.032     -5.015      0.000      -0.225      -0.099\n",
      "ma.L2         -0.1307      0.033     -3.961      0.000      -0.195      -0.066\n",
      "ma.L3          0.5123      0.033     15.547      0.000       0.448       0.577\n",
      "sigma2         1.4279      0.069     20.660      0.000       1.292       1.563\n",
      "===================================================================================\n",
      "Ljung-Box (L1) (Q):                   0.00   Jarque-Bera (JB):                 2.94\n",
      "Prob(Q):                              0.95   Prob(JB):                         0.23\n",
      "Heteroskedasticity (H):               1.05   Skew:                            -0.00\n",
      "Prob(H) (two-sided):                  0.68   Kurtosis:                         2.73\n",
      "===================================================================================\n",
      "\n",
      "Warnings:\n",
      "[1] Covariance matrix calculated using the outer product of gradients (complex-step).\n"
     ]
    }
   ],
   "source": [
    "# We could fit an AR(2) model, described above\n",
    "mod_arma3 = sm.tsa.SARIMAX(endogARMA3, order=(3,0,3))\n",
    "# Note that mod_ar2 is an instance of the SARIMAX class\n",
    "\n",
    "# Fit the model via maximum likelihood\n",
    "res_arma3 = mod_arma3.fit()\n",
    "# Note that res_ar2 is an instance of the SARIMAXResults class\n",
    "\n",
    "# Show the summary of results\n",
    "print(res_arma3.summary())"
   ]
  },
  {
   "cell_type": "markdown",
   "id": "771a2db7",
   "metadata": {},
   "source": [
    "<h1>Custom model: ARMA3</h1>"
   ]
  },
  {
   "cell_type": "code",
   "execution_count": 61,
   "id": "d65240cd",
   "metadata": {},
   "outputs": [],
   "source": [
    "# Construct the model\n",
    "class ARMA3(sm.tsa.statespace.MLEModel):\n",
    "    def __init__(self, endog):\n",
    "        # Initialize the state space model\n",
    "        super(ARMA3, self).__init__(endog, k_states=4, k_posdef=1,\n",
    "                                  initialization='stationary')\n",
    "\n",
    "        # Setup the fixed components of the state space representation\n",
    "        self['design'] = [1, 0, 0, 0]\n",
    "        self['transition'] = [[0, 1, 0, 0],\n",
    "                                  [0, 0, 1, 0],\n",
    "                                     [0, 0, 0, 1],\n",
    "                                        [0, 0, 0, 0]]\n",
    "        self['selection', 0, 0] = 1\n",
    "        \n",
    "        self.positive_parameters = slice(7,8)\n",
    "\n",
    "    # Describe how parameters enter the model\n",
    "    def update(self, params, transformed=True, **kwargs):\n",
    "        params = super(ARMA3, self).update(params, transformed, **kwargs)\n",
    "\n",
    "        self['transition', :3, 0] = params[:3]\n",
    "        self['selection', 1:, 0] = params[3:6]\n",
    "        self['state_cov', 0, 0] = params[6]\n",
    "        \n",
    "\n",
    "    # Specify start parameters and parameter names\n",
    "    @property\n",
    "    def start_params(self):\n",
    "        return [0,0,0,0,0,0,1]  # these are very simple\n",
    "    \n",
    "    def transform_params(self, unconstrained):\n",
    "        \"\"\"\n",
    "        We constraint the last three parameters\n",
    "        ('var.e', 'var.x.coeff', 'var.w.coeff') to be positive,\n",
    "        because they are variances\n",
    "        \"\"\"\n",
    "        constrained = unconstrained.copy()\n",
    "        constrained[self.positive_parameters] = (\n",
    "            constrained[self.positive_parameters] ** 2\n",
    "        )\n",
    "        constrained[0] = constrain_stationary_univariate(constrained[0:1])\n",
    "        constrained[1] = constrain_stationary_univariate(constrained[1:2])\n",
    "        constrained[2] = constrain_stationary_univariate(constrained[2:3])\n",
    "        constrained[3] = constrain_stationary_univariate(constrained[3:4])\n",
    "        constrained[4] = constrain_stationary_univariate(constrained[4:5])\n",
    "        constrained[5] = constrain_stationary_univariate(constrained[5:6])\n",
    "        return constrained\n",
    "\n",
    "    def untransform_params(self, constrained):\n",
    "        \"\"\"\n",
    "        Need to unstransform all the parameters you transformed\n",
    "        in the `transform_params` function\n",
    "        \"\"\"\n",
    "        unconstrained = constrained.copy()\n",
    "        unconstrained[self.positive_parameters] = (\n",
    "            unconstrained[self.positive_parameters] ** 0.5\n",
    "        )\n",
    "        return unconstrained"
   ]
  },
  {
   "cell_type": "code",
   "execution_count": 62,
   "id": "2461dd0e",
   "metadata": {},
   "outputs": [
    {
     "name": "stdout",
     "output_type": "stream",
     "text": [
      "                           Statespace Model Results                           \n",
      "==============================================================================\n",
      "Dep. Variable:                      y   No. Observations:                 1000\n",
      "Model:                          ARMA3   Log Likelihood               -1599.328\n",
      "Date:                Mon, 09 Jan 2023   AIC                           3212.655\n",
      "Time:                        16:19:21   BIC                           3247.009\n",
      "Sample:                             0   HQIC                          3225.712\n",
      "                               - 1000                                         \n",
      "Covariance Type:                  opg                                         \n",
      "==============================================================================\n",
      "                 coef    std err          z      P>|z|      [0.025      0.975]\n",
      "------------------------------------------------------------------------------\n",
      "param.0        0.4810      0.031     15.706      0.000       0.421       0.541\n",
      "param.1       -0.1958      0.034     -5.793      0.000      -0.262      -0.130\n",
      "param.2        0.6147      0.030     20.629      0.000       0.556       0.673\n",
      "param.3       -0.1618      0.032     -5.015      0.000      -0.225      -0.099\n",
      "param.4       -0.1307      0.033     -3.961      0.000      -0.195      -0.066\n",
      "param.5        0.5124      0.033     15.548      0.000       0.448       0.577\n",
      "param.6        1.4279      0.069     20.660      0.000       1.292       1.563\n",
      "===================================================================================\n",
      "Ljung-Box (L1) (Q):                   0.00   Jarque-Bera (JB):                 2.94\n",
      "Prob(Q):                              0.95   Prob(JB):                         0.23\n",
      "Heteroskedasticity (H):               1.05   Skew:                            -0.00\n",
      "Prob(H) (two-sided):                  0.68   Kurtosis:                         2.73\n",
      "===================================================================================\n",
      "\n",
      "Warnings:\n",
      "[1] Covariance matrix calculated using the outer product of gradients (complex-step).\n"
     ]
    }
   ],
   "source": [
    "mod = ARMA3(endogARMA3)\n",
    "res = mod.fit()\n",
    "print(res.summary())"
   ]
  },
  {
   "cell_type": "markdown",
   "id": "8eb6584d",
   "metadata": {},
   "source": [
    "<h1>AIC</h1>"
   ]
  },
  {
   "cell_type": "code",
   "execution_count": 35,
   "id": "f03c9ca1",
   "metadata": {},
   "outputs": [],
   "source": [
    "import pandas as pd\n",
    "from mpl_toolkits.mplot3d import Axes3D"
   ]
  },
  {
   "cell_type": "code",
   "execution_count": 36,
   "id": "78750e0b",
   "metadata": {},
   "outputs": [
    {
     "name": "stderr",
     "output_type": "stream",
     "text": [
      "/Users/theo/opt/anaconda3/lib/python3.8/site-packages/statsmodels/tsa/statespace/sarimax.py:978: UserWarning: Non-invertible starting MA parameters found. Using zeros as starting parameters.\n",
      "  warn('Non-invertible starting MA parameters found.'\n",
      "/Users/theo/opt/anaconda3/lib/python3.8/site-packages/statsmodels/tsa/statespace/sarimax.py:966: UserWarning: Non-stationary starting autoregressive parameters found. Using zeros as starting parameters.\n",
      "  warn('Non-stationary starting autoregressive parameters'\n",
      "/Users/theo/opt/anaconda3/lib/python3.8/site-packages/statsmodels/base/model.py:566: ConvergenceWarning: Maximum Likelihood optimization failed to converge. Check mle_retvals\n",
      "  warnings.warn(\"Maximum Likelihood optimization failed to \"\n",
      "/Users/theo/opt/anaconda3/lib/python3.8/site-packages/statsmodels/base/model.py:566: ConvergenceWarning: Maximum Likelihood optimization failed to converge. Check mle_retvals\n",
      "  warnings.warn(\"Maximum Likelihood optimization failed to \"\n"
     ]
    }
   ],
   "source": [
    "AIC = np.empty([5,5])\n",
    "#AIC = pd.DataFrame()\n",
    "for i in range(1,6):\n",
    "    for j in range(1,6):\n",
    "        # We could fit an AR(2) model, described above\n",
    "        mod = sm.tsa.SARIMAX(endogARMA3, order=(i,0,j))\n",
    "        # Note that mod_ar2 is an instance of the SARIMAX class\n",
    "\n",
    "        # Fit the model via maximum likelihood\n",
    "        res = mod.fit()\n",
    "        \n",
    "        aic = res.aic\n",
    "        AIC[i-1,j-1] = aic\n",
    "        '''\n",
    "        temp = pd.DataFrame({'ar': [i],\\\n",
    "                            'ma': [j],\\\n",
    "                            'aic': [aic]})\n",
    "        \n",
    "        AIC = AIC.append(temp)\n",
    "        '''"
   ]
  },
  {
   "cell_type": "code",
   "execution_count": 37,
   "id": "657429a7",
   "metadata": {},
   "outputs": [
    {
     "name": "stderr",
     "output_type": "stream",
     "text": [
      "/Users/theo/opt/anaconda3/lib/python3.8/site-packages/statsmodels/base/model.py:566: ConvergenceWarning: Maximum Likelihood optimization failed to converge. Check mle_retvals\n",
      "  warnings.warn(\"Maximum Likelihood optimization failed to \"\n",
      "/Users/theo/opt/anaconda3/lib/python3.8/site-packages/statsmodels/base/model.py:566: ConvergenceWarning: Maximum Likelihood optimization failed to converge. Check mle_retvals\n",
      "  warnings.warn(\"Maximum Likelihood optimization failed to \"\n",
      "/Users/theo/opt/anaconda3/lib/python3.8/site-packages/statsmodels/base/model.py:566: ConvergenceWarning: Maximum Likelihood optimization failed to converge. Check mle_retvals\n",
      "  warnings.warn(\"Maximum Likelihood optimization failed to \"\n",
      "/Users/theo/opt/anaconda3/lib/python3.8/site-packages/statsmodels/base/model.py:566: ConvergenceWarning: Maximum Likelihood optimization failed to converge. Check mle_retvals\n",
      "  warnings.warn(\"Maximum Likelihood optimization failed to \"\n",
      "/Users/theo/opt/anaconda3/lib/python3.8/site-packages/statsmodels/base/model.py:566: ConvergenceWarning: Maximum Likelihood optimization failed to converge. Check mle_retvals\n",
      "  warnings.warn(\"Maximum Likelihood optimization failed to \"\n",
      "/Users/theo/opt/anaconda3/lib/python3.8/site-packages/statsmodels/base/model.py:566: ConvergenceWarning: Maximum Likelihood optimization failed to converge. Check mle_retvals\n",
      "  warnings.warn(\"Maximum Likelihood optimization failed to \"\n",
      "/Users/theo/opt/anaconda3/lib/python3.8/site-packages/statsmodels/base/model.py:566: ConvergenceWarning: Maximum Likelihood optimization failed to converge. Check mle_retvals\n",
      "  warnings.warn(\"Maximum Likelihood optimization failed to \"\n",
      "/Users/theo/opt/anaconda3/lib/python3.8/site-packages/statsmodels/base/model.py:566: ConvergenceWarning: Maximum Likelihood optimization failed to converge. Check mle_retvals\n",
      "  warnings.warn(\"Maximum Likelihood optimization failed to \"\n",
      "/Users/theo/opt/anaconda3/lib/python3.8/site-packages/statsmodels/base/model.py:566: ConvergenceWarning: Maximum Likelihood optimization failed to converge. Check mle_retvals\n",
      "  warnings.warn(\"Maximum Likelihood optimization failed to \"\n",
      "/Users/theo/opt/anaconda3/lib/python3.8/site-packages/statsmodels/base/model.py:566: ConvergenceWarning: Maximum Likelihood optimization failed to converge. Check mle_retvals\n",
      "  warnings.warn(\"Maximum Likelihood optimization failed to \"\n",
      "/Users/theo/opt/anaconda3/lib/python3.8/site-packages/statsmodels/base/model.py:566: ConvergenceWarning: Maximum Likelihood optimization failed to converge. Check mle_retvals\n",
      "  warnings.warn(\"Maximum Likelihood optimization failed to \"\n",
      "/Users/theo/opt/anaconda3/lib/python3.8/site-packages/statsmodels/base/model.py:566: ConvergenceWarning: Maximum Likelihood optimization failed to converge. Check mle_retvals\n",
      "  warnings.warn(\"Maximum Likelihood optimization failed to \"\n",
      "/Users/theo/opt/anaconda3/lib/python3.8/site-packages/statsmodels/base/model.py:566: ConvergenceWarning: Maximum Likelihood optimization failed to converge. Check mle_retvals\n",
      "  warnings.warn(\"Maximum Likelihood optimization failed to \"\n",
      "/Users/theo/opt/anaconda3/lib/python3.8/site-packages/statsmodels/base/model.py:566: ConvergenceWarning: Maximum Likelihood optimization failed to converge. Check mle_retvals\n",
      "  warnings.warn(\"Maximum Likelihood optimization failed to \"\n",
      "/Users/theo/opt/anaconda3/lib/python3.8/site-packages/statsmodels/base/model.py:566: ConvergenceWarning: Maximum Likelihood optimization failed to converge. Check mle_retvals\n",
      "  warnings.warn(\"Maximum Likelihood optimization failed to \"\n",
      "/Users/theo/opt/anaconda3/lib/python3.8/site-packages/statsmodels/base/model.py:566: ConvergenceWarning: Maximum Likelihood optimization failed to converge. Check mle_retvals\n",
      "  warnings.warn(\"Maximum Likelihood optimization failed to \"\n",
      "/Users/theo/opt/anaconda3/lib/python3.8/site-packages/statsmodels/base/model.py:566: ConvergenceWarning: Maximum Likelihood optimization failed to converge. Check mle_retvals\n",
      "  warnings.warn(\"Maximum Likelihood optimization failed to \"\n",
      "/Users/theo/opt/anaconda3/lib/python3.8/site-packages/statsmodels/base/model.py:566: ConvergenceWarning: Maximum Likelihood optimization failed to converge. Check mle_retvals\n",
      "  warnings.warn(\"Maximum Likelihood optimization failed to \"\n",
      "/Users/theo/opt/anaconda3/lib/python3.8/site-packages/statsmodels/base/model.py:566: ConvergenceWarning: Maximum Likelihood optimization failed to converge. Check mle_retvals\n",
      "  warnings.warn(\"Maximum Likelihood optimization failed to \"\n"
     ]
    }
   ],
   "source": [
    "#AIC = np.empty([5,5])\n",
    "AIC_df = pd.DataFrame()\n",
    "d = 8\n",
    "for i in range(1,d+1):\n",
    "    for j in range(1,d+1):\n",
    "        # We could fit an AR(2) model, described above\n",
    "        mod = sm.tsa.SARIMAX(endogARMA3, order=(i,0,j))\n",
    "        # Note that mod_ar2 is an instance of the SARIMAX class\n",
    "\n",
    "        # Fit the model via maximum likelihood\n",
    "        res = mod.fit()\n",
    "        \n",
    "        aic = res.aic\n",
    "        #AIC[i-1,j-1] = aic\n",
    "        temp = pd.DataFrame({'ar': [i],\\\n",
    "                            'ma': [j],\\\n",
    "                            'aic': [aic]})\n",
    "        \n",
    "        AIC_df = AIC_df.append(temp)\n",
    "AIC_df = AIC_df.reset_index()\n",
    "AIC_df = AIC_df.drop(['index'],axis = 1)\n",
    "AIC_df_wide = pd.pivot(AIC_df, index = 'ar', columns='ma')"
   ]
  },
  {
   "cell_type": "code",
   "execution_count": 91,
   "id": "36a9c63d",
   "metadata": {
    "scrolled": true
   },
   "outputs": [
    {
     "data": {
      "text/plain": [
       "aic    18\n",
       "dtype: int64"
      ]
     },
     "execution_count": 91,
     "metadata": {},
     "output_type": "execute_result"
    }
   ],
   "source": [
    "AIC_df[['aic']].idxmin()"
   ]
  },
  {
   "cell_type": "code",
   "execution_count": 92,
   "id": "5de5dedd",
   "metadata": {
    "scrolled": true
   },
   "outputs": [
    {
     "data": {
      "text/plain": [
       "index       0.000000\n",
       "ar          3.000000\n",
       "ma          3.000000\n",
       "aic      3212.655063\n",
       "Name: 18, dtype: float64"
      ]
     },
     "execution_count": 92,
     "metadata": {},
     "output_type": "execute_result"
    }
   ],
   "source": [
    "AIC_df.iloc[18]"
   ]
  },
  {
   "cell_type": "code",
   "execution_count": 57,
   "id": "9929e384",
   "metadata": {},
   "outputs": [
    {
     "data": {
      "image/png": "[encoded data removed]",
      "text/plain": [
       "<Figure size 432x288 with 1 Axes>"
      ]
     },
     "metadata": {
      "needs_background": "light"
     },
     "output_type": "display_data"
    }
   ],
   "source": [
    "fig = plt.figure()\n",
    "ax = Axes3D(fig)\n",
    "x = range(1,9)\n",
    "surf = ax.plot_surface(x, x, AIC_df_wide)"
   ]
  },
  {
   "cell_type": "code",
   "execution_count": 51,
   "id": "35a026d5",
   "metadata": {
    "scrolled": true
   },
   "outputs": [
    {
     "data": {
      "image/png": "[encoded data removed]",
      "text/plain": [
       "<Figure size 432x288 with 4 Axes>"
      ]
     },
     "execution_count": 51,
     "metadata": {},
     "output_type": "execute_result"
    },
    {
     "data": {
      "image/png": "[encoded data removed]",
      "text/plain": [
       "<Figure size 432x288 with 4 Axes>"
      ]
     },
     "metadata": {
      "needs_background": "light"
     },
     "output_type": "display_data"
    }
   ],
   "source": [
    "res_arma3.plot_diagnostics()"
   ]
  },
  {
   "cell_type": "markdown",
   "id": "2a2ea3f9",
   "metadata": {},
   "source": [
    "<h1>ARX3</h1>"
   ]
  },
  {
   "cell_type": "code",
   "execution_count": 27,
   "id": "ca0b5f7f",
   "metadata": {},
   "outputs": [],
   "source": [
    "test = U[np.newaxis, np.newaxis, :]\n",
    "zero = np.zeros([1,1,len(U)])\n",
    "one = np.ones([1,1,len(U)])\n",
    "con_design = np.concatenate((one,zero,zero,test,zero,zero), axis = 1)"
   ]
  },
  {
   "cell_type": "code",
   "execution_count": 49,
   "id": "89d4199d",
   "metadata": {},
   "outputs": [],
   "source": [
    "k_states = 6\n",
    "transition = np.eye(k_states, k = 1)\n",
    "transition[2,3] = 0"
   ]
  },
  {
   "cell_type": "code",
   "execution_count": 50,
   "id": "56414367",
   "metadata": {},
   "outputs": [
    {
     "data": {
      "text/plain": [
       "array([[0., 1., 0., 0., 0., 0.],\n",
       "       [0., 0., 1., 0., 0., 0.],\n",
       "       [0., 0., 0., 0., 0., 0.],\n",
       "       [0., 0., 0., 0., 1., 0.],\n",
       "       [0., 0., 0., 0., 0., 1.],\n",
       "       [0., 0., 0., 0., 0., 0.]])"
      ]
     },
     "execution_count": 50,
     "metadata": {},
     "output_type": "execute_result"
    }
   ],
   "source": [
    "transition"
   ]
  },
  {
   "cell_type": "code",
   "execution_count": 2,
   "id": "74307ec9",
   "metadata": {},
   "outputs": [],
   "source": [
    "class TVRegression(sm.tsa.statespace.MLEModel):\n",
    "    def __init__(self, y_t, x_t):\n",
    "        exog = x_t  # shaped nobs x 2\n",
    "\n",
    "        super(TVRegression, self).__init__(\n",
    "            endog=y_t, exog=exog, k_states=6, initialization=\"diffuse\"\n",
    "        )\n",
    "\n",
    "        # Since the design matrix is time-varying, it must be\n",
    "        # shaped k_endog x k_states x nobs\n",
    "        # Notice that exog.T is shaped k_states x nobs, so we\n",
    "        # just need to add a new first axis with shape 1\n",
    "        test = exog[np.newaxis, np.newaxis, :]\n",
    "        zero = np.zeros([1,1,len(exog)])\n",
    "        one = np.ones([1,1,len(exog)])\n",
    "        con_design = np.concatenate((one,zero,zero,test,zero,zero), axis = 1)\n",
    "        \n",
    "        self.ssm[\"design\"] = con_design  # shaped 1 x 6 x nobs\n",
    "        #self.ssm[\"selection\"] = np.zeros(self.k_states)\n",
    "        self.ssm[\"selection\", 0, 0] = 1\n",
    "        #self.ssm[\"selection\", 3, 0] = 1\n",
    "        self.ssm[\"transition\"] = np.eye(self.k_states, k = 1)\n",
    "        self.ssm[\"transition\", 2, 3] = 0\n",
    "\n",
    "        # Which parameters need to be positive?\n",
    "        self.positive_parameters = slice(7, 8)\n",
    "\n",
    "    def update(self, params, **kwargs):\n",
    "        params = super(TVRegression, self).update(params, **kwargs)\n",
    "\n",
    "        self[\"transition\", :3, 0] = params[0:3]\n",
    "        self[\"transition\", 3:, 3] = params[3:6]\n",
    "        self[\"state_cov\", 0, 0] = params[6]\n",
    "        \n",
    "    @property\n",
    "    def param_names(self):\n",
    "        return [\"phi1\", \"phi2\", \"phi3\", \"beta1\", \"beta2\", \"beta3\", \"cov\"]\n",
    "\n",
    "    @property\n",
    "    def start_params(self):\n",
    "        \"\"\"\n",
    "        Defines the starting values for the parameters\n",
    "        The linear regression gives us reasonable starting values for the constant\n",
    "        d and the variance of the epsilon error\n",
    "        \"\"\"\n",
    "        params = np.r_[0.001, 0.001, 0.001, 0.001, 0.001, 0.001, 1]\n",
    "        return params\n",
    "\n",
    "    def transform_params(self, unconstrained):\n",
    "        \"\"\"\n",
    "        We constraint the last three parameters\n",
    "        ('var.e', 'var.x.coeff', 'var.w.coeff') to be positive,\n",
    "        because they are variances\n",
    "        \"\"\"\n",
    "        constrained = unconstrained.copy()\n",
    "        constrained[self.positive_parameters] = (\n",
    "            constrained[self.positive_parameters] ** 2\n",
    "        )\n",
    "        return constrained\n",
    "\n",
    "    def untransform_params(self, constrained):\n",
    "        \"\"\"\n",
    "        Need to unstransform all the parameters you transformed\n",
    "        in the `transform_params` function\n",
    "        \"\"\"\n",
    "        unconstrained = constrained.copy()\n",
    "        unconstrained[self.positive_parameters] = (\n",
    "            unconstrained[self.positive_parameters] ** 0.5\n",
    "        )\n",
    "        return unconstrained\n"
   ]
  },
  {
   "cell_type": "code",
   "execution_count": 72,
   "id": "60f3d179",
   "metadata": {},
   "outputs": [],
   "source": [
    "rng = np.random.default_rng(20210819)\n",
    "eta = rng.standard_normal(5200)\n",
    "rho = 0.8\n",
    "beta = 10\n",
    "epsilon = eta.copy()\n",
    "for i in range(1, eta.shape[0]):\n",
    "    epsilon[i] = rho * epsilon[i - 1] + eta[i]\n",
    "y = beta + epsilon\n",
    "y = y[200:]"
   ]
  },
  {
   "cell_type": "code",
   "execution_count": 77,
   "id": "748c24c7",
   "metadata": {},
   "outputs": [],
   "source": [
    "full_x = rng.standard_normal(eta.shape)\n",
    "x = full_x[200:]"
   ]
  },
  {
   "cell_type": "code",
   "execution_count": 76,
   "id": "b0959464",
   "metadata": {},
   "outputs": [],
   "source": [
    "rho = 0.8\n",
    "beta = 2\n",
    "delta0 = 10\n",
    "delta1 = 0.5\n",
    "epsilon = eta.copy()\n",
    "for i in range(1, eta.shape[0]):\n",
    "    epsilon[i] = rho * epsilon[i - 1] + eta[i]\n",
    "t = np.arange(epsilon.shape[0])\n",
    "y = delta0 + delta1 * t + beta * full_x + epsilon\n",
    "y = y[200:]"
   ]
  },
  {
   "cell_type": "code",
   "execution_count": 82,
   "id": "f488773e",
   "metadata": {},
   "outputs": [
    {
     "name": "stdout",
     "output_type": "stream",
     "text": [
      "                           Statespace Model Results                           \n",
      "==============================================================================\n",
      "Dep. Variable:                      y   No. Observations:                 5000\n",
      "Model:                   TVRegression   Log Likelihood          -686469560.069\n",
      "Date:                Tue, 10 Jan 2023   AIC                     1372939146.138\n",
      "Time:                        20:43:46   BIC                     1372939230.861\n",
      "Sample:                             0   HQIC                    1372939175.832\n",
      "                               - 5000                                         \n",
      "Covariance Type:                  opg                                         \n",
      "==============================================================================\n",
      "                 coef    std err          z      P>|z|      [0.025      0.975]\n",
      "------------------------------------------------------------------------------\n",
      "phi1          -0.0022   1.06e-09  -2.04e+06      0.000      -0.002      -0.002\n",
      "phi2           0.1652    1.1e-09    1.5e+08      0.000       0.165       0.165\n",
      "phi3           0.8378   1.06e-09   7.89e+08      0.000       0.838       0.838\n",
      "beta1         -0.2236   1.12e-09  -1.99e+08      0.000      -0.224      -0.224\n",
      "beta2          0.0428   1.18e-09   3.63e+07      0.000       0.043       0.043\n",
      "beta3          0.6792   9.84e-10    6.9e+08      0.000       0.679       0.679\n",
      "cov            6.8088   1.78e-07   3.83e+07      0.000       6.809       6.809\n",
      "===================================================================================\n",
      "Ljung-Box (L1) (Q):                  74.17   Jarque-Bera (JB):           3930815.42\n",
      "Prob(Q):                              0.00   Prob(JB):                         0.00\n",
      "Heteroskedasticity (H):               0.10   Skew:                            -1.81\n",
      "Prob(H) (two-sided):                  0.00   Kurtosis:                       140.40\n",
      "===================================================================================\n",
      "\n",
      "Warnings:\n",
      "[1] Covariance matrix calculated using the outer product of gradients (complex-step).\n"
     ]
    },
    {
     "name": "stderr",
     "output_type": "stream",
     "text": [
      "/Users/theo/opt/anaconda3/lib/python3.8/site-packages/statsmodels/base/model.py:566: ConvergenceWarning: Maximum Likelihood optimization failed to converge. Check mle_retvals\n",
      "  warnings.warn(\"Maximum Likelihood optimization failed to \"\n"
     ]
    }
   ],
   "source": [
    "# We could fit an AR(2) model, described above\n",
    "mod_arx3 = TVRegression(y, x)\n",
    "# Note that mod_ar2 is an instance of the SARIMAX class\n",
    "\n",
    "# Fit the model via maximum likelihood\n",
    "res_arx3 = mod_arx3.fit()\n",
    "# Note that res_ar2 is an instance of the SARIMAXResults class\n",
    "\n",
    "# Show the summary of results\n",
    "print(res_arx3.summary())"
   ]
  },
  {
   "cell_type": "code",
   "execution_count": 80,
   "id": "30cb8336",
   "metadata": {},
   "outputs": [
    {
     "data": {
      "image/png": "[encoded data removed]",
      "text/latex": [
       "$\\displaystyle 5000$"
      ],
      "text/plain": [
       "5000"
      ]
     },
     "execution_count": 80,
     "metadata": {},
     "output_type": "execute_result"
    }
   ],
   "source": [
    "len(y)"
   ]
  },
  {
   "cell_type": "code",
   "execution_count": 6,
   "id": "4c231762",
   "metadata": {},
   "outputs": [
    {
     "name": "stdout",
     "output_type": "stream",
     "text": [
      "                           Statespace Model Results                           \n",
      "==============================================================================\n",
      "Dep. Variable:                      y   No. Observations:                 1000\n",
      "Model:                   TVRegression   Log Likelihood               -2373.730\n",
      "Date:                Thu, 12 Jan 2023   AIC                           4773.461\n",
      "Time:                        20:03:10   BIC                           4837.261\n",
      "Sample:                             0   HQIC                          4797.709\n",
      "                               - 1000                                         \n",
      "Covariance Type:                  opg                                         \n",
      "==============================================================================\n",
      "                 coef    std err          z      P>|z|      [0.025      0.975]\n",
      "------------------------------------------------------------------------------\n",
      "phi1           0.2182      0.027      8.139      0.000       0.166       0.271\n",
      "phi2           0.0716      0.026      2.742      0.006       0.020       0.123\n",
      "phi3           0.2070      0.026      8.100      0.000       0.157       0.257\n",
      "beta1          0.0048      0.006      0.861      0.389      -0.006       0.016\n",
      "beta2         -0.0040      0.004     -1.061      0.289      -0.011       0.003\n",
      "beta3         -0.0084      0.002     -4.529      0.000      -0.012      -0.005\n",
      "cov            6.9898      0.208     33.551      0.000       6.582       7.398\n",
      "===================================================================================\n",
      "Ljung-Box (L1) (Q):                   0.55   Jarque-Bera (JB):               280.95\n",
      "Prob(Q):                              0.46   Prob(JB):                         0.00\n",
      "Heteroskedasticity (H):               0.54   Skew:                             0.08\n",
      "Prob(H) (two-sided):                  0.00   Kurtosis:                         5.60\n",
      "===================================================================================\n",
      "\n",
      "Warnings:\n",
      "[1] Covariance matrix calculated using the outer product of gradients (complex-step).\n"
     ]
    }
   ],
   "source": [
    "# We could fit an AR(2) model, described above\n",
    "mod_arx3 = TVRegression(endogARX, U)\n",
    "# Note that mod_ar2 is an instance of the SARIMAX class\n",
    "\n",
    "# Fit the model via maximum likelihood\n",
    "res_arx3 = mod_arx3.fit()\n",
    "# Note that res_ar2 is an instance of the SARIMAXResults class\n",
    "\n",
    "# Show the summary of results\n",
    "print(res_arx3.summary())"
   ]
  },
  {
   "cell_type": "markdown",
   "id": "f1d6e2aa",
   "metadata": {},
   "source": [
    "<li>ARX3<ol>\n",
    "    <li>Phi: autoregression weight</li>\n",
    "    <li>Sigma: variance of noice</li>\n",
    "    </ol>\n",
    "</li>\n",
    "    \n",
    "\\begin{equation*}\n",
    "{\\phi}(L)y_{t} = {\\beta}(L)u_{t-n} + \\epsilon_t \\\\\n",
    "y_{t} = {\\phi_1}y_{t-1} + {\\phi_2}y_{t-2} + {\\phi_3}y_{t-3} + {\\beta_1}u_{t-n-1} + \\\n",
    "    {\\beta_2}u_{t-n-2} + {\\beta_3}u_{t-n-3} + \\epsilon_t \\\\\n",
    "(1-\\sum_{1=1}^3 a_iL^i)y_t = \\sum_{1=1}^3 b_iL^iu_{t-n} + \\epsilon_t \\\\\n",
    "\\epsilon_t \\sim N(0,\\sigma^2)\\\\\n",
    "n = 1 \\\\\n",
    "\\phi_1 = 0.5 \\\\\n",
    "\\phi_2 = -0.2 \\\\\n",
    "\\phi_3 = 0.3 \\\\\n",
    "\\beta_1 = 0.4 \\\\\n",
    "\\beta_2 = -0.3 \\\\\n",
    "\\beta_3 = 0.6 \\\\\n",
    "\\sigma^2 = 1 \\\\\n",
    "\\textrm{n: system delay} \n",
    "\\end{equation*}\n",
    "    \n",
    "State Space Representation (Harvey): \n",
    "\n",
    "\\begin{equation*}\n",
    "y_{t} = \\begin{vmatrix}\n",
    "1 & 0 & 0 & ut & 0 & 0  \n",
    "\\end{vmatrix} \\alpha_t \\\\\n",
    "\\textrm{shaped 1 x 6 x nobs} \\\\\n",
    "\\alpha_{t+1} = \\begin{vmatrix}\n",
    "\\phi_1 & 1 & 0 & 0 & 0 & 0\\\\\n",
    "\\phi_2 & 0 & 1 & 0 & 0 & 0\\\\\n",
    "\\phi_3 & 0 & 0 & 0 & 0 & 0\\\\\n",
    "0 & 0 & 0 & \\beta_1 & 1 & 0\\\\\n",
    "0 & 0 & 0 & \\beta_2 & 0 & 1\\\\\n",
    "0 & 0 & 0 & \\beta_3 & 0 & 0\n",
    "\\end{vmatrix} \\alpha_t + \\mu_t \\\\\n",
    "\\mu_t = \\epsilon_{t+1} \\sim N(0,\\sigma^2)\n",
    "\\end{equation*}\n",
    "\n",
    "\\begin{equation*}\n",
    "a_t = \n",
    "\\begin{vmatrix}\n",
    "y_{t-1} \\\\\n",
    "\\phi_2 y_{t-2} + \\phi_3 y_{t-3} \\\\\n",
    "\\phi_3 y_{t-2} \\\\\n",
    "u_{t-1} \\\\\n",
    "\\beta_2 u_{t-2} + \\beta_3 u_{t-3} \\\\\n",
    "\\beta_3 u_{t-2} \\\\\n",
    "\\end{vmatrix}\n",
    "\\end{equation*}"
   ]
  },
  {
   "cell_type": "markdown",
   "id": "c6f7552f",
   "metadata": {},
   "source": [
    "Tranform into Laplace domain: \n",
    "\\begin{equation*}\n",
    "y_{t} =  c\\alpha_{c,t} + u_tc\\alpha_{u,t}\\\\\n",
    "\\alpha_{c,t+1} =  q_1\\alpha_{c,t} +  d\\mu_t \\\\\n",
    "\\alpha_{u,t+1} =  q_2\\alpha_{u,t}\\\\\n",
    "\\downarrow\\\\\n",
    "Y_{s} =  CA_{c,s} + U_sCA_{u,s}\\\\\n",
    "\\frac{1}{s}A_{c,s} =  Q_1A_{c,s} +  DM_s \\\\\n",
    "\\frac{1}{s}A_{u,s} =  Q_2A_{u,s}\\\\\n",
    "\\downarrow\\\\\n",
    "Y_{s} =  CA_{c,s} + U_sCA_{u,s}\\\\\n",
    "(\\frac{1}{s}-Q_1)A_{c,s} = DM_s \\\\\n",
    "(\\frac{1}{s}-Q_2)A_{u,s} = 1\\\\\n",
    "\\downarrow\\\\\n",
    "Y_{s} =  CA_{c,s} + U_sCA_{u,s}\\\\\n",
    "A_{c,s} = (\\frac{1}{s}-Q_1)^{-1}DM_s \\\\\n",
    "A_{u,s} = (\\frac{1}{s}-Q_2)^{-1} \\\\\n",
    "\\downarrow\\\\\n",
    "Y_{s} =  C(\\frac{1}{s}-Q_1)^{-1}DM_s + U_sC(\\frac{1}{s}-Q_2)^{-1} \\\\\n",
    "\\end{equation*}"
   ]
  },
  {
   "cell_type": "code",
   "execution_count": 3,
   "id": "c019af11",
   "metadata": {},
   "outputs": [],
   "source": [
    "# True model parameters\n",
    "nobs = int(1e3)\n",
    "true_phi = np.r_[0.5, -0.2, 0.6]\n",
    "true_beta = np.r_[0.3, -0.5, 0.8]\n",
    "true_theta = np.r_[0, 0]\n",
    "true_sigma = 1**0.5\n",
    "true_sigma_U = 1**0.5\n",
    "\n",
    "np.random.seed(1234)\n",
    "disturbances = np.random.normal(0, true_sigma, size=(nobs,))\n",
    "U = np.random.normal(0, true_sigma_U, size=(nobs,))\n",
    "\n",
    "p = len(true_phi)\n",
    "q = len(true_beta)\n",
    "d = max(p,q)"
   ]
  },
  {
   "cell_type": "code",
   "execution_count": 4,
   "id": "ed672f2b",
   "metadata": {},
   "outputs": [],
   "source": [
    "Q1 = np.eye(d,k=1)\n",
    "Q1[:p,0] = true_phi\n",
    "\n",
    "Q2 = np.eye(d,k=1)\n",
    "Q2[:p,0] = true_beta\n",
    "\n",
    "sym.init_printing()\n",
    "s = sym.symbols('s')\n",
    "s_ = sym.Matrix(np.eye(d, dtype=int)*1/s)\n",
    "phi1 = s_ - Q1\n",
    "phi2 = s_ - Q2\n",
    "\n",
    "phi_inv1 = phi1.inv()\n",
    "phi_inv2 = phi2.inv()\n",
    "\n",
    "C_np = np.zeros((1,d))\n",
    "C_np[0,0] = 1\n",
    "C = sym.Matrix(C_np)\n",
    "\n",
    "D = np.zeros((d,1))\n",
    "D[:d,0] = np.r_[1,true_theta]\n",
    "\n",
    "trans1 = sym.simplify(C*phi_inv1*D)\n",
    "trans2 = sym.simplify(C*phi_inv2*D)\n",
    "\n",
    "n,d = sym.fraction(trans1[0])\n",
    "a = sym.poly(n, s)\n",
    "b = sym.poly(d, s)\n",
    "n_coeffs = a.all_coeffs()\n",
    "d_coeffs = b.all_coeffs()\n",
    "n_coeffs.reverse()\n",
    "d_coeffs.reverse()\n",
    "trans_num = np.r_[n_coeffs].astype(None)\n",
    "trans_den = np.r_[d_coeffs].astype(None)\n",
    "\n",
    "n1,d1 = sym.fraction(trans2[0])\n",
    "a1 = sym.poly(n1, s)\n",
    "b1 = sym.poly(d1, s)\n",
    "n_coeffs1 = a1.all_coeffs()\n",
    "d_coeffs1 = b1.all_coeffs()\n",
    "n_coeffs1.reverse()\n",
    "d_coeffs1.reverse()\n",
    "trans_num1 = np.r_[n_coeffs1].astype(None)\n",
    "trans_den1 = np.r_[d_coeffs1].astype(None)\n",
    "\n",
    "endog = lfilter(trans_num, trans_den, disturbances)\n",
    "dependent = lfilter(trans_num1, trans_den1, U)\n",
    "de_WN = dependent * disturbances\n",
    "endogARX = endog + de_WN"
   ]
  },
  {
   "cell_type": "code",
   "execution_count": 5,
   "id": "338aa252",
   "metadata": {},
   "outputs": [
    {
     "data": {
      "text/plain": [
       "[<matplotlib.lines.Line2D at 0x7f99ffd7b220>]"
      ]
     },
     "execution_count": 5,
     "metadata": {},
     "output_type": "execute_result"
    },
    {
     "data": {
      "image/png": "[encoded data removed]",
      "text/plain": [
       "<Figure size 432x288 with 1 Axes>"
      ]
     },
     "metadata": {
      "needs_background": "light"
     },
     "output_type": "display_data"
    }
   ],
   "source": [
    "plt.plot(endogARX)"
   ]
  },
  {
   "cell_type": "code",
   "execution_count": 64,
   "id": "b1bde0e1",
   "metadata": {},
   "outputs": [
    {
     "name": "stdout",
     "output_type": "stream",
     "text": [
      "                               SARIMAX Results                                \n",
      "==============================================================================\n",
      "Dep. Variable:                      y   No. Observations:                 1000\n",
      "Model:               SARIMAX(3, 0, 3)   Log Likelihood               -2371.374\n",
      "Date:                Tue, 10 Jan 2023   AIC                           4758.749\n",
      "Time:                        20:23:43   BIC                           4798.011\n",
      "Sample:                             0   HQIC                          4773.671\n",
      "                               - 1000                                         \n",
      "Covariance Type:                  opg                                         \n",
      "==============================================================================\n",
      "                 coef    std err          z      P>|z|      [0.025      0.975]\n",
      "------------------------------------------------------------------------------\n",
      "x1            -0.1155      0.076     -1.520      0.129      -0.264       0.033\n",
      "ar.L1          0.3030      0.138      2.200      0.028       0.033       0.573\n",
      "ar.L2         -0.1055      0.122     -0.863      0.388      -0.345       0.134\n",
      "ar.L3          0.6772      0.116      5.849      0.000       0.450       0.904\n",
      "ma.L1         -0.1485      0.149     -1.000      0.317      -0.440       0.143\n",
      "ma.L2          0.1077      0.126      0.855      0.392      -0.139       0.354\n",
      "ma.L3         -0.5105      0.114     -4.483      0.000      -0.734      -0.287\n",
      "sigma2         6.7152      0.200     33.614      0.000       6.324       7.107\n",
      "===================================================================================\n",
      "Ljung-Box (L1) (Q):                   0.08   Jarque-Bera (JB):               320.19\n",
      "Prob(Q):                              0.77   Prob(JB):                         0.00\n",
      "Heteroskedasticity (H):               0.52   Skew:                            -0.06\n",
      "Prob(H) (two-sided):                  0.00   Kurtosis:                         5.77\n",
      "===================================================================================\n",
      "\n",
      "Warnings:\n",
      "[1] Covariance matrix calculated using the outer product of gradients (complex-step).\n"
     ]
    }
   ],
   "source": [
    "# We could fit an AR(2) model, described above\n",
    "mod_arx3 = sm.tsa.SARIMAX(endogARX, exog = U, order=(3,0,3))\n",
    "# Note that mod_ar2 is an instance of the SARIMAX class\n",
    "\n",
    "# Fit the model via maximum likelihood\n",
    "res_arx3 = mod_arx3.fit()\n",
    "# Note that res_ar2 is an instance of the SARIMAXResults class\n",
    "\n",
    "# Show the summary of results\n",
    "print(res_arx3.summary())"
   ]
  },
  {
   "cell_type": "code",
   "execution_count": null,
   "id": "465899ea",
   "metadata": {},
   "outputs": [],
   "source": [
    "TVRegression"
   ]
  },
  {
   "cell_type": "code",
   "execution_count": 69,
   "id": "68dcda06",
   "metadata": {},
   "outputs": [
    {
     "name": "stdout",
     "output_type": "stream",
     "text": [
      "                           Statespace Model Results                           \n",
      "==============================================================================\n",
      "Dep. Variable:                      y   No. Observations:                 1000\n",
      "Model:                   TVRegression   Log Likelihood              -58116.980\n",
      "Date:                Tue, 10 Jan 2023   AIC                         116259.959\n",
      "Time:                        20:27:39   BIC                         116323.760\n",
      "Sample:                             0   HQIC                        116284.208\n",
      "                               - 1000                                         \n",
      "Covariance Type:                  opg                                         \n",
      "==============================================================================\n",
      "                 coef    std err          z      P>|z|      [0.025      0.975]\n",
      "------------------------------------------------------------------------------\n",
      "phi1          -0.0724   9.38e-05   -771.482      0.000      -0.073      -0.072\n",
      "phi2           0.7248   5.79e-05   1.25e+04      0.000       0.725       0.725\n",
      "phi3           0.3538      0.000   3301.546      0.000       0.354       0.354\n",
      "beta1         -0.1286   8.48e-05  -1517.051      0.000      -0.129      -0.128\n",
      "beta2          0.6251   5.26e-05   1.19e+04      0.000       0.625       0.625\n",
      "beta3          0.4758    9.6e-05   4957.814      0.000       0.476       0.476\n",
      "cov            6.5167      0.001   6433.626      0.000       6.515       6.519\n",
      "===================================================================================\n",
      "Ljung-Box (L1) (Q):                   9.09   Jarque-Bera (JB):             42053.87\n",
      "Prob(Q):                              0.00   Prob(JB):                         0.00\n",
      "Heteroskedasticity (H):               0.80   Skew:                             0.97\n",
      "Prob(H) (two-sided):                  0.04   Kurtosis:                        34.81\n",
      "===================================================================================\n",
      "\n",
      "Warnings:\n",
      "[1] Covariance matrix calculated using the outer product of gradients (complex-step).\n"
     ]
    },
    {
     "name": "stderr",
     "output_type": "stream",
     "text": [
      "/Users/theo/opt/anaconda3/lib/python3.8/site-packages/statsmodels/base/model.py:566: ConvergenceWarning: Maximum Likelihood optimization failed to converge. Check mle_retvals\n",
      "  warnings.warn(\"Maximum Likelihood optimization failed to \"\n"
     ]
    }
   ],
   "source": [
    "# We could fit an AR(2) model, described above\n",
    "mod_arx3 = TVRegression(endogARX, U)\n",
    "# Note that mod_ar2 is an instance of the SARIMAX class\n",
    "\n",
    "# Fit the model via maximum likelihood\n",
    "res_arx3 = mod_arx3.fit()\n",
    "# Note that res_ar2 is an instance of the SARIMAXResults class\n",
    "\n",
    "# Show the summary of results\n",
    "print(res_arx3.summary())"
   ]
  },
  {
   "cell_type": "code",
   "execution_count": null,
   "id": "e5604c4e",
   "metadata": {},
   "outputs": [],
   "source": []
  }
 ],
 "metadata": {
  "kernelspec": {
   "display_name": "Python 3 (ipykernel)",
   "language": "python",
   "name": "python3"
  },
  "language_info": {
   "codemirror_mode": {
    "name": "ipython",
    "version": 3
   },
   "file_extension": ".py",
   "mimetype": "text/x-python",
   "name": "python",
   "nbconvert_exporter": "python",
   "pygments_lexer": "ipython3",
   "version": "3.9.13"
  }
 },
 "nbformat": 4,
 "nbformat_minor": 5
}
