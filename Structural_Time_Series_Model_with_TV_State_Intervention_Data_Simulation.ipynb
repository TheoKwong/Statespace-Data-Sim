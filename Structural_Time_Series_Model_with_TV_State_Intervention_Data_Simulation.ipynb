{
 "cells": [
  {
   "cell_type": "markdown",
   "id": "8590de3d",
   "metadata": {},
   "source": [
    "<h1>Structural Time Series Model with TV State Intervention Data Simulation</h1>"
   ]
  },
  {
   "cell_type": "code",
   "execution_count": 1,
   "id": "41285df7",
   "metadata": {},
   "outputs": [],
   "source": [
    "import numpy as np\n",
    "from scipy.signal import lfilter\n",
    "import statsmodels.api as sm\n",
    "import seaborn as sns\n",
    "import matplotlib.pyplot as plt\n",
    "from statsmodels.tsa.statespace.tools import (\n",
    "    constrain_stationary_univariate, unconstrain_stationary_univariate)\n",
    "import sympy as sym\n",
    "import pandas as pd\n",
    "import seaborn as sns\n",
    "import math\n",
    "from mpl_toolkits.mplot3d import Axes3D\n",
    "%matplotlib inline\n",
    "\n"
   ]
  },
  {
   "cell_type": "code",
   "execution_count": 90,
   "id": "c2c20375",
   "metadata": {},
   "outputs": [],
   "source": [
    "# Construct the model\n",
    "class localtrend(sm.tsa.statespace.MLEModel):\n",
    "    def __init__(self, endog, x_t):\n",
    "        k_posdef = 2\n",
    "        exog = x_t\n",
    "        nobs = x_t.shape[0]\n",
    "        # Initialize the state space model\n",
    "        super(localtrend, self).__init__(endog, exog = exog, k_states=2, k_posdef=2,\n",
    "                                  initialization='diffuse',\n",
    "                                        loglikelihood_burn=2)\n",
    "\n",
    "        # Setup the fixed components of the state space representation\n",
    "        self['design'] = np.r_[1,0]\n",
    "        self.ssm['transition'] = np.zeros([self.k_states, self.k_states, nobs])\n",
    "        self.ssm['transition',0,0,:] = 1\n",
    "        self.ssm['transition',1,1,:] = 1\n",
    "        self.ssm['transition',0,1,:] = exog\n",
    "        #self.ssm['transition',2,2,:] = exog\n",
    "        self['selection'] = np.eye(self.k_states,k_posdef)\n",
    "        \n",
    "        self.positive_parameters = slice(0,3)\n",
    "\n",
    "    # Describe how parameters enter the model\n",
    "    def update(self, params, transformed=True, **kwargs):\n",
    "        params = super(localtrend, self).update(params, transformed, **kwargs)\n",
    "\n",
    "        self['obs_cov', 0, 0] = params[0]\n",
    "        self['state_cov', 0, 0] = params[1]\n",
    "        self['state_cov', 1, 1] = params[2]\n",
    "        \n",
    "\n",
    "    @property\n",
    "    def start_params(self):\n",
    "        return [np.std(self.endog)]*3\n",
    "    \n",
    "    @property\n",
    "    def param_names(self):\n",
    "        return ['epsilon','xi','zeta']\n",
    "    \n",
    "    def transform_params(self, unconstrained):\n",
    "        constrained = unconstrained.copy()\n",
    "        constrained[self.positive_parameters] = (\n",
    "            constrained[self.positive_parameters] ** 2\n",
    "        )\n",
    "        return constrained\n",
    "\n",
    "    def untransform_params(self, constrained):\n",
    "        unconstrained = constrained.copy()\n",
    "        unconstrained[self.positive_parameters] = (\n",
    "            unconstrained[self.positive_parameters] ** 0.5\n",
    "        )\n",
    "        return unconstrained"
   ]
  },
  {
   "cell_type": "markdown",
   "id": "f4994167",
   "metadata": {},
   "source": [
    "<li>Local Linear Trend Model<ol>\n",
    "    <li>Sigma: variance of noise</li>\n",
    "    <li>Epsilon: disturbance</li>\n",
    "    <li>Xi: error </li>\n",
    "    </ol>\n",
    "</li>\n",
    "<br>\n",
    "    \n",
    "\\begin{equation*}\n",
    "y_{t} = {\\mu}_t + \\epsilon_t  \\quad\\epsilon_t \\sim N(0,\\sigma_{\\epsilon}^2)\\\\\n",
    "\\mu_{t+1} = {\\mu}_t + \\beta_t x_t +\\xi_t \\quad\\xi_t \\sim N(0,\\sigma_{\\xi}^2)\\\\\n",
    "\\beta_{t+1} = \\beta_t + \\zeta_t \\quad\\zeta_t \\sim N(0,\\sigma_{\\zeta}^2)\\\\\n",
    "\\end{equation*}\n",
    "\n",
    "State Space Representation:\n",
    "\\begin{equation*}\n",
    "y_{t} = \\begin{vmatrix}\n",
    "1 & 0 \n",
    "\\end{vmatrix} \\begin{pmatrix}\n",
    "\\mu_t \\\\\n",
    "\\beta_t\n",
    "\\end{pmatrix} + \\epsilon_t\\\\\n",
    "\\begin{pmatrix}\n",
    "\\mu_t \\\\\n",
    "\\beta_t\n",
    "\\end{pmatrix}= \\begin{vmatrix}\n",
    "1 & x_t \\\\\n",
    "0 & 1\n",
    "\\end{vmatrix} \\begin{pmatrix}\n",
    "\\mu_t \\\\\n",
    "\\beta_t\n",
    "\\end{pmatrix} + \\begin{pmatrix}\n",
    "\\xi_t \\\\\n",
    "\\zeta_t\n",
    "\\end{pmatrix}\n",
    "\\end{equation*}\n"
   ]
  },
  {
   "cell_type": "code",
   "execution_count": 102,
   "id": "724ae3b0",
   "metadata": {},
   "outputs": [],
   "source": [
    "# True model parameters\n",
    "nobs = int(1e5)\n",
    "true_epsilon = 9\n",
    "true_xi = 4\n",
    "true_zeta = 3\n"
   ]
  },
  {
   "cell_type": "code",
   "execution_count": 103,
   "id": "6b3b8a8c",
   "metadata": {},
   "outputs": [],
   "source": [
    "# Simulate a time series\n",
    "np.random.seed(1234)\n",
    "disturbances_xi = np.random.normal(0, math.sqrt(true_xi), size=(nobs,))\n",
    "#x_t = np.random.normal(3, math.sqrt(x_var), size=(nobs,))\n",
    "cycle = [np.linspace(-np.pi, np.pi-np.pi/25, 50)] * 2000\n",
    "x_t_ang = np.reshape(np.array(cycle), 100000)\n",
    "x_t = np.sin(x_t_ang)\n",
    "#x_t = np.linspace(0,3,nobs)\n",
    "true_beta = np.cumsum(np.random.normal(0, math.sqrt(true_zeta), size=(nobs,)))\n",
    "intervention = x_t*true_beta\n",
    "mut = lfilter([1], np.r_[1, -1], disturbances_xi+intervention)\n",
    "disturbances_epsilon = np.random.normal(0, math.sqrt(true_epsilon), size=(nobs,))\n",
    "\n",
    "yt = mut + disturbances_epsilon \n"
   ]
  },
  {
   "cell_type": "code",
   "execution_count": 104,
   "id": "b6d8a39c",
   "metadata": {
    "scrolled": false
   },
   "outputs": [
    {
     "name": "stdout",
     "output_type": "stream",
     "text": [
      "RUNNING THE L-BFGS-B CODE\n",
      "\n",
      "           * * *\n",
      "\n",
      "Machine precision = 2.220D-16\n",
      " N =            3     M =           10\n",
      "\n",
      "At X0         0 variables are exactly at the bounds\n",
      "\n",
      "At iterate    0    f=  5.71216D+00    |proj g|=  9.36777D-03\n"
     ]
    },
    {
     "name": "stderr",
     "output_type": "stream",
     "text": [
      " This problem is unconstrained.\n"
     ]
    },
    {
     "name": "stdout",
     "output_type": "stream",
     "text": [
      "\n",
      "At iterate    5    f=  4.91259D+00    |proj g|=  2.33081D-03\n",
      "\n",
      "           * * *\n",
      "\n",
      "Tit   = total number of iterations\n",
      "Tnf   = total number of function evaluations\n",
      "Tnint = total number of segments explored during Cauchy searches\n",
      "Skip  = number of BFGS updates skipped\n",
      "Nact  = number of active bounds at final generalized Cauchy point\n",
      "Projg = norm of the final projected gradient\n",
      "F     = final function value\n",
      "\n",
      "           * * *\n",
      "\n",
      "   N    Tit     Tnf  Tnint  Skip  Nact     Projg        F\n",
      "    3      9     17      1     0     0   7.742D-06   4.908D+00\n",
      "  F =   4.9077264750773155     \n",
      "\n",
      "CONVERGENCE: NORM_OF_PROJECTED_GRADIENT_<=_PGTOL            \n"
     ]
    },
    {
     "name": "stderr",
     "output_type": "stream",
     "text": [
      "/Users/theok/miniforge3/lib/python3.9/site-packages/statsmodels/tsa/statespace/mlemodel.py:2295: UserWarning: Care should be used when applying a loglikelihood burn to a model with exact diffuse initialization. Some results objects, e.g. degrees of freedom, expect only one of the two to be set.\n",
      "  warnings.warn('Care should be used when applying a loglikelihood'\n"
     ]
    },
    {
     "name": "stdout",
     "output_type": "stream",
     "text": [
      "                           Statespace Model Results                           \n",
      "==============================================================================\n",
      "Dep. Variable:                      y   No. Observations:               100000\n",
      "Model:                     localtrend   Log Likelihood             -490772.648\n",
      "Date:                Mon, 13 Feb 2023   AIC                         981555.295\n",
      "Time:                        21:13:50   BIC                         981602.860\n",
      "Sample:                             0   HQIC                        981569.730\n",
      "                             - 100000                                         \n",
      "Covariance Type:                  opg                                         \n",
      "==============================================================================\n",
      "                 coef    std err          z      P>|z|      [0.025      0.975]\n",
      "------------------------------------------------------------------------------\n",
      "epsilon     9.297e-06      2.226   4.18e-06      1.000      -4.364       4.364\n",
      "xi           658.8226      2.333    282.406      0.000     654.250     663.395\n",
      "zeta         378.4992      4.999     75.714      0.000     368.701     388.297\n",
      "===================================================================================\n",
      "Ljung-Box (L1) (Q):               83239.45   Jarque-Bera (JB):             11804.22\n",
      "Prob(Q):                              0.00   Prob(JB):                         0.00\n",
      "Heteroskedasticity (H):               0.57   Skew:                             0.00\n",
      "Prob(H) (two-sided):                  0.00   Kurtosis:                         4.68\n",
      "===================================================================================\n",
      "\n",
      "Warnings:\n",
      "[1] Covariance matrix calculated using the outer product of gradients (complex-step).\n"
     ]
    }
   ],
   "source": [
    "mod = localtrend(yt, x_t)\n",
    "res = mod.fit()\n",
    "print(res.summary())"
   ]
  },
  {
   "cell_type": "code",
   "execution_count": 105,
   "id": "dd692b91",
   "metadata": {},
   "outputs": [
    {
     "data": {
      "text/plain": [
       "-361.13768408722444"
      ]
     },
     "execution_count": 105,
     "metadata": {},
     "output_type": "execute_result"
    }
   ],
   "source": [
    "res.smoothed_state[1].mean()"
   ]
  },
  {
   "cell_type": "code",
   "execution_count": 106,
   "id": "342024b3",
   "metadata": {},
   "outputs": [
    {
     "data": {
      "text/plain": [
       "[<matplotlib.lines.Line2D at 0x28bc45760>]"
      ]
     },
     "execution_count": 106,
     "metadata": {},
     "output_type": "execute_result"
    },
    {
     "data": {
      "image/png": "[encoded data removed]",
      "text/plain": [
       "<Figure size 432x288 with 1 Axes>"
      ]
     },
     "metadata": {
      "needs_background": "light"
     },
     "output_type": "display_data"
    }
   ],
   "source": [
    "plt.plot(res.smoothed_state[1])"
   ]
  },
  {
   "cell_type": "code",
   "execution_count": 107,
   "id": "5224879e",
   "metadata": {},
   "outputs": [
    {
     "data": {
      "text/plain": [
       "[<matplotlib.lines.Line2D at 0x28bc459d0>]"
      ]
     },
     "execution_count": 107,
     "metadata": {},
     "output_type": "execute_result"
    },
    {
     "data": {
      "image/png": "[encoded data removed]",
      "text/plain": [
       "<Figure size 432x288 with 1 Axes>"
      ]
     },
     "metadata": {
      "needs_background": "light"
     },
     "output_type": "display_data"
    }
   ],
   "source": [
    "plt.plot(true_beta)"
   ]
  },
  {
   "cell_type": "code",
   "execution_count": null,
   "id": "54ca4e30",
   "metadata": {},
   "outputs": [],
   "source": []
  }
 ],
 "metadata": {
  "kernelspec": {
   "display_name": "Python 3 (ipykernel)",
   "language": "python",
   "name": "python3"
  },
  "language_info": {
   "codemirror_mode": {
    "name": "ipython",
    "version": 3
   },
   "file_extension": ".py",
   "mimetype": "text/x-python",
   "name": "python",
   "nbconvert_exporter": "python",
   "pygments_lexer": "ipython3",
   "version": "3.9.13"
  }
 },
 "nbformat": 4,
 "nbformat_minor": 5
}
