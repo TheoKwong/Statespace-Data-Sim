{
 "cells": [
  {
   "cell_type": "markdown",
   "id": "8590de3d",
   "metadata": {},
   "source": [
    "<h1>Generalized Autoregressive with Exogeneous Input Data Simulation</h1>"
   ]
  },
  {
   "cell_type": "code",
   "execution_count": 1,
   "id": "41285df7",
   "metadata": {},
   "outputs": [],
   "source": [
    "import numpy as np\n",
    "from scipy.signal import lfilter\n",
    "import statsmodels.api as sm\n",
    "import seaborn as sns\n",
    "import matplotlib.pyplot as plt\n",
    "from statsmodels.tsa.statespace.tools import (\n",
    "    constrain_stationary_univariate, unconstrain_stationary_univariate)\n",
    "import sympy as sym\n",
    "import pandas as pd\n",
    "import seaborn as sns\n",
    "%matplotlib inline\n"
   ]
  },
  {
   "cell_type": "code",
   "execution_count": 73,
   "id": "c26717ec",
   "metadata": {},
   "outputs": [],
   "source": [
    "x = np.ones(4)"
   ]
  },
  {
   "cell_type": "code",
   "execution_count": 74,
   "id": "49204f60",
   "metadata": {},
   "outputs": [
    {
     "data": {
      "text/plain": [
       "array([1., 1., 1., 1.])"
      ]
     },
     "execution_count": 74,
     "metadata": {},
     "output_type": "execute_result"
    }
   ],
   "source": [
    "x"
   ]
  },
  {
   "cell_type": "code",
   "execution_count": 89,
   "id": "2bb6153a",
   "metadata": {},
   "outputs": [
    {
     "data": {
      "text/plain": [
       "array([0.001, 0.001, 0.001, 0.001])"
      ]
     },
     "execution_count": 89,
     "metadata": {},
     "output_type": "execute_result"
    }
   ],
   "source": [
    "np.zeros(4)+0.001"
   ]
  },
  {
   "cell_type": "code",
   "execution_count": 2,
   "id": "c2c20375",
   "metadata": {},
   "outputs": [],
   "source": [
    "# Construct the model\n",
    "class ARXm(sm.tsa.statespace.MLEModel):\n",
    "    def __init__(self, endog, order, x_t):\n",
    "        # Initialize the state space model\n",
    "        super(ARXm, self).__init__(endog, exog = x_t, k_states=order+1, \n",
    "                                  initialization='stationary')\n",
    "\n",
    "        # Setup the fixed components of the state space representation\n",
    "        test = exog[np.newaxis, np.newaxis, :]\n",
    "        zero = np.zeros([1,1,len(exog)])\n",
    "        one = np.ones([1,1,len(exog)])\n",
    "        con_design = np.concatenate((one,zero,zero,test), axis = 1)\n",
    "        \n",
    "        self.ssm[\"design\"] = con_design  # shaped 1 x order+1 x nobs\n",
    "        #self.ssm[\"selection\"] = np.zeros(self.k_states)\n",
    "        self.ssm[\"selection\"] = np.eye(self.k_states)\n",
    "        self.ssm[\"selection\", 1, 1] = 0\n",
    "        self.ssm[\"selection\", 2, 2] = 0\n",
    "        self.ssm[\"transition\"] = np.eye(self.k_states, k = 1)\n",
    "        self.ssm[\"transition\", 2, 3] = 0\n",
    "        \n",
    "        \n",
    "        self.positive_parameters = slice(self.k_states+1, self.k_states+3)\n",
    "\n",
    "    # Describe how parameters enter the model\n",
    "    def update(self, params, transformed=True, **kwargs):\n",
    "        params = super(ARXm, self).update(params, transformed, **kwargs)\n",
    "\n",
    "        self['transition', :self.k_states-1, 0] = params[:self.k_states-1]\n",
    "        self[\"transition\", 3, 3] = params[self.k_states-1]\n",
    "        self['state_cov', 0, 0] = params[self.k_states]\n",
    "        self['state_cov', 3, 3] = params[self.k_states+1]\n",
    "        #self['state_cov'] = np.diag(params[self.k_states:self.k_states+4])\n",
    "        \n",
    "\n",
    "    # Specify start parameters\n",
    "    @property\n",
    "    def start_params(self):\n",
    "        #exog = sm.add_constant(self.exog)\n",
    "        #res = sm.OLS(self.endog, exog).fit()\n",
    "        inte = np.zeros(self.k_states-1)+0.001\n",
    "        params = np.r_[inte, 0.5, 1, 1]\n",
    "        return params  # 0s don't converge; 0.15 instead (need to be improved)\n",
    "    \n",
    "    def transform_params(self, unconstrained):\n",
    "        \"\"\"\n",
    "        We constraint the last parameter to be positive,\n",
    "        because it is variances\n",
    "        \"\"\"\n",
    "        constrained = unconstrained.copy()\n",
    "        constrained[self.positive_parameters] = (\n",
    "            constrained[self.positive_parameters] ** 2\n",
    "        )\n",
    "       \n",
    "        for i in range(self.k_states-1):\n",
    "            constrained[i] = constrain_stationary_univariate(constrained[i:i+1])\n",
    "       \n",
    "        '''\n",
    "        constrained[0] = constrain_stationary_univariate(constrained[0:1])\n",
    "        constrained[1] = constrain_stationary_univariate(constrained[1:2])\n",
    "        constrained[2] = constrain_stationary_univariate(constrained[2:3])\n",
    "        '''\n",
    "        return constrained\n",
    "\n",
    "    def untransform_params(self, constrained):\n",
    "        \"\"\"\n",
    "        Need to unstransform all the parameters you transformed\n",
    "        in the `transform_params` function\n",
    "        \"\"\"\n",
    "        unconstrained = constrained.copy()\n",
    "        unconstrained[self.positive_parameters] = (\n",
    "            unconstrained[self.positive_parameters] ** 0.5\n",
    "        )\n",
    "     \n",
    "        for i in range(self.k_states-1):\n",
    "            unconstrained[i] = unconstrain_stationary_univariate(constrained[i:i+1])\n",
    "        return unconstrained\n",
    "   \n",
    "        "
   ]
  },
  {
   "cell_type": "code",
   "execution_count": 93,
   "id": "9b9779eb",
   "metadata": {},
   "outputs": [
    {
     "name": "stderr",
     "output_type": "stream",
     "text": [
      "/Users/theo/opt/anaconda3/lib/python3.8/site-packages/statsmodels/base/model.py:566: ConvergenceWarning: Maximum Likelihood optimization failed to converge. Check mle_retvals\n",
      "  warnings.warn(\"Maximum Likelihood optimization failed to \"\n"
     ]
    },
    {
     "name": "stdout",
     "output_type": "stream",
     "text": [
      "                           Statespace Model Results                           \n",
      "==============================================================================\n",
      "Dep. Variable:                      y   No. Observations:                10000\n",
      "Model:                           ARXm   Log Likelihood              -80928.102\n",
      "Date:                Thu, 12 Jan 2023   AIC                         161868.203\n",
      "Time:                        22:41:07   BIC                         161911.465\n",
      "Sample:                             0   HQIC                        161882.847\n",
      "                              - 10000                                         \n",
      "Covariance Type:                  opg                                         \n",
      "==============================================================================\n",
      "                 coef    std err          z      P>|z|      [0.025      0.975]\n",
      "------------------------------------------------------------------------------\n",
      "param.0        0.0966      0.021      4.630      0.000       0.056       0.137\n",
      "param.1        0.0639      0.018      3.558      0.000       0.029       0.099\n",
      "param.2        0.1159      0.011     10.679      0.000       0.095       0.137\n",
      "param.3        0.1333      0.003     49.215      0.000       0.128       0.139\n",
      "param.4        2.1494      0.006    385.011      0.000       2.138       2.160\n",
      "param.5        6.9124      0.006   1169.358      0.000       6.901       6.924\n",
      "===================================================================================\n",
      "Ljung-Box (L1) (Q):                  37.47   Jarque-Bera (JB):          12318558.35\n",
      "Prob(Q):                              0.00   Prob(JB):                         0.00\n",
      "Heteroskedasticity (H):               2.36   Skew:                             5.36\n",
      "Prob(H) (two-sided):                  0.00   Kurtosis:                       174.61\n",
      "===================================================================================\n",
      "\n",
      "Warnings:\n",
      "[1] Covariance matrix calculated using the outer product of gradients (complex-step).\n"
     ]
    }
   ],
   "source": [
    "mod = ARXm(y_sim,3,x_t)\n",
    "res = mod.fit()\n",
    "print(res.summary())"
   ]
  },
  {
   "cell_type": "code",
   "execution_count": 83,
   "id": "6a4d3b6d",
   "metadata": {},
   "outputs": [
    {
     "name": "stdout",
     "output_type": "stream",
     "text": [
      "                               SARIMAX Results                                \n",
      "==============================================================================\n",
      "Dep. Variable:                      y   No. Observations:                10000\n",
      "Model:               SARIMAX(3, 0, 0)   Log Likelihood               -9496.527\n",
      "Date:                Thu, 12 Jan 2023   AIC                          19003.053\n",
      "Time:                        22:37:04   BIC                          19039.105\n",
      "Sample:                             0   HQIC                         19015.257\n",
      "                              - 10000                                         \n",
      "Covariance Type:                  opg                                         \n",
      "==============================================================================\n",
      "                 coef    std err          z      P>|z|      [0.025      0.975]\n",
      "------------------------------------------------------------------------------\n",
      "x1             0.0137      0.007      1.834      0.067      -0.001       0.028\n",
      "ar.L1          0.5089      0.008     62.122      0.000       0.493       0.525\n",
      "ar.L2         -0.1920      0.010    -19.129      0.000      -0.212      -0.172\n",
      "ar.L3          0.3027      0.010     29.978      0.000       0.283       0.322\n",
      "sigma2         0.3912      0.004    107.477      0.000       0.384       0.398\n",
      "===================================================================================\n",
      "Ljung-Box (L1) (Q):                   0.01   Jarque-Bera (JB):              2982.84\n",
      "Prob(Q):                              0.93   Prob(JB):                         0.00\n",
      "Heteroskedasticity (H):               1.05   Skew:                            -0.14\n",
      "Prob(H) (two-sided):                  0.15   Kurtosis:                         5.66\n",
      "===================================================================================\n",
      "\n",
      "Warnings:\n",
      "[1] Covariance matrix calculated using the outer product of gradients (complex-step).\n"
     ]
    }
   ],
   "source": [
    "# We could fit an AR(2) model, described above\n",
    "mod_ar3 = sm.tsa.SARIMAX(y_sim, order=(3,0,0),exog = x_t)\n",
    "# Note that mod_ar2 is an instance of the SARIMAX class\n",
    "\n",
    "# Fit the model via maximum likelihood\n",
    "res_ar3 = mod_ar3.fit()\n",
    "# Note that res_ar2 is an instance of the SARIMAXResults class\n",
    "\n",
    "# Show the summary of results\n",
    "print(res_ar3.summary())\n"
   ]
  },
  {
   "cell_type": "markdown",
   "id": "17c497c5",
   "metadata": {},
   "source": [
    "<li>ARX3<ol>\n",
    "    <li>Phi: autoregression weight</li>\n",
    "    <li>Sigma: variance of noice</li>\n",
    "    </ol>\n",
    "</li>\n",
    "    \n",
    "\\begin{equation*}\n",
    "{\\phi}(L)y_{t} = \\rho{\\beta_t}u_{t} + \\epsilon_t \\\\\n",
    "y_{t} = {\\phi_1}y_{t-1} + {\\phi_2}y_{t-2} + {\\phi_3}y_{t-3} + \\rho{\\beta_t}u_{t} + \\\n",
    "    \\epsilon_t \\\\\n",
    "(1-\\sum_{1=1}^3 a_iL^i)y_t = \\rho\\beta_tu_{t} + \\epsilon_t \\\\\n",
    "\\epsilon_t \\sim N(0,\\sigma^2)\\\\\n",
    "n = 1 \\\\\n",
    "\\phi_1 = 0.5 \\\\\n",
    "\\phi_2 = -0.2 \\\\\n",
    "\\phi_3 = 0.3 \\\\\n",
    "\\beta_t \\sim N(0,\\sigma^2) \\\\\n",
    "\\sigma^2 = 1 \\\\\n",
    "\\end{equation*}\n",
    "    \n",
    "State Space Representation (Harvey): \n",
    "\n",
    "\\begin{equation*}\n",
    "y_{t} = \\begin{vmatrix}\n",
    "1 & 0 & 0 & ut  \n",
    "\\end{vmatrix} \\alpha_t \\\\\n",
    "\\textrm{shaped 1 x 4 x nobs} \\\\\n",
    "\\alpha_{t+1} = \\begin{vmatrix}\n",
    "\\phi_1 & 1 & 0 & 0\\\\\n",
    "\\phi_2 & 0 & 1 & 0\\\\\n",
    "\\phi_3 & 0 & 0 & 0\\\\\n",
    "0 & 0 & 0 & \\rho_t\n",
    "\\end{vmatrix} \\alpha_t + \\mu_t \\\\\n",
    "\\mu_t = \\begin{vmatrix}\n",
    "\\epsilon_{y,t+1}\\\\\n",
    "0 \\\\\n",
    "0 \\\\\n",
    "\\epsilon_{\\beta,t+1}\n",
    "\\end{vmatrix}\n",
    "\\sim N(\\begin{vmatrix}\n",
    "0 \\\\\n",
    "0 \\\\\n",
    "0 \\\\\n",
    "0\n",
    "\\end{vmatrix},\\begin{vmatrix}\n",
    "\\sigma_{y,t+1} & 0 & 0 & 0\\\\\n",
    "0 & 0 & 0 & 0\\\\\n",
    "0 & 0 & 0 & 0\\\\\n",
    "0 & 0 & 0 & \\sigma_{\\beta,t+1}\n",
    "\\end{vmatrix})\n",
    "\\end{equation*}\n",
    "\n",
    "\\begin{equation*}\n",
    "a_t = \n",
    "\\begin{vmatrix}\n",
    "y_{t-1} \\\\\n",
    "\\phi_2 y_{t-2} + \\phi_3 y_{t-3} \\\\\n",
    "\\phi_3 y_{t-2} \\\\\n",
    "\\beta_{t}\n",
    "\\end{vmatrix}\n",
    "\\end{equation*}"
   ]
  },
  {
   "cell_type": "code",
   "execution_count": 3,
   "id": "9f5357b1",
   "metadata": {},
   "outputs": [],
   "source": [
    "\n",
    "nobs = 10000\n",
    "true_rho = 1\n",
    "var_beta = 1\n",
    "var_y = 0.36\n",
    "true_phi = np.r_[0.5, -0.2, 0.3]\n",
    "\n",
    "np.random.seed(1234)\n",
    "\n",
    "disturbances_beta = np.random.normal(0, var_beta ** 0.5, size=(nobs,))\n",
    "disturbances_y = np.random.normal(0, var_y ** 0.5, size=(nobs,))\n",
    "x_t = np.random.uniform(-1,1,nobs)\n",
    "#endog = lfilter([1], np.r_[1, -true_phi], disturbances_y)\n",
    "beta = np.cumsum(disturbances_beta)\n",
    "#beta = lfilter([1], np.r_[1, -true_rho], disturbances_beta)\n",
    "exog = beta*x_t\n",
    "y_sim = lfilter([1], np.r_[1, -true_phi], exog)\n",
    "\n"
   ]
  },
  {
   "cell_type": "code",
   "execution_count": 26,
   "id": "e5d5b99c",
   "metadata": {},
   "outputs": [
    {
     "data": {
      "text/plain": [
       "-0.8915034291383486"
      ]
     },
     "execution_count": 26,
     "metadata": {},
     "output_type": "execute_result"
    }
   ],
   "source": [
    "beta[1]"
   ]
  },
  {
   "cell_type": "code",
   "execution_count": 27,
   "id": "fdbca02d",
   "metadata": {},
   "outputs": [
    {
     "data": {
      "text/plain": [
       "-0.21638809788061386"
      ]
     },
     "execution_count": 27,
     "metadata": {},
     "output_type": "execute_result"
    }
   ],
   "source": [
    "x_t[1]"
   ]
  },
  {
   "cell_type": "code",
   "execution_count": 28,
   "id": "f4eb0ef8",
   "metadata": {},
   "outputs": [
    {
     "data": {
      "text/plain": [
       "0.19291073128529188"
      ]
     },
     "execution_count": 28,
     "metadata": {},
     "output_type": "execute_result"
    }
   ],
   "source": [
    "exog[1]"
   ]
  },
  {
   "cell_type": "code",
   "execution_count": 29,
   "id": "660bbca2",
   "metadata": {},
   "outputs": [
    {
     "data": {
      "text/plain": [
       "[<matplotlib.lines.Line2D at 0x7f7ae8907310>]"
      ]
     },
     "execution_count": 29,
     "metadata": {},
     "output_type": "execute_result"
    },
    {
     "data": {
      "image/png": "[encoded data removed]",
      "text/plain": [
       "<Figure size 432x288 with 1 Axes>"
      ]
     },
     "metadata": {
      "needs_background": "light"
     },
     "output_type": "display_data"
    }
   ],
   "source": [
    "plt.plot(y_sim)"
   ]
  },
  {
   "cell_type": "code",
   "execution_count": 30,
   "id": "8b7a3be2",
   "metadata": {},
   "outputs": [
    {
     "data": {
      "image/png": "[encoded data removed]",
      "text/plain": [
       "<Figure size 864x576 with 2 Axes>"
      ]
     },
     "metadata": {
      "needs_background": "light"
     },
     "output_type": "display_data"
    }
   ],
   "source": [
    "fig = plt.figure(figsize=(12, 8))\n",
    "ax1 = fig.add_subplot(211)\n",
    "fig = sm.graphics.tsa.plot_acf(y_sim.squeeze(), lags=10, ax=ax1)\n",
    "ax2 = fig.add_subplot(212)\n",
    "fig = sm.graphics.tsa.plot_pacf(y_sim.squeeze(), lags=10, ax=ax2)"
   ]
  },
  {
   "cell_type": "code",
   "execution_count": 4,
   "id": "11b74b9c",
   "metadata": {},
   "outputs": [
    {
     "name": "stderr",
     "output_type": "stream",
     "text": [
      "/Users/theo/opt/anaconda3/lib/python3.8/site-packages/statsmodels/base/model.py:566: ConvergenceWarning: Maximum Likelihood optimization failed to converge. Check mle_retvals\n",
      "  warnings.warn(\"Maximum Likelihood optimization failed to \"\n"
     ]
    },
    {
     "name": "stdout",
     "output_type": "stream",
     "text": [
      "                           Statespace Model Results                           \n",
      "==============================================================================\n",
      "Dep. Variable:                      y   No. Observations:                10000\n",
      "Model:                           ARXm   Log Likelihood              -80928.102\n",
      "Date:                Fri, 13 Jan 2023   AIC                         161868.203\n",
      "Time:                        08:15:45   BIC                         161911.465\n",
      "Sample:                             0   HQIC                        161882.847\n",
      "                              - 10000                                         \n",
      "Covariance Type:                  opg                                         \n",
      "==============================================================================\n",
      "                 coef    std err          z      P>|z|      [0.025      0.975]\n",
      "------------------------------------------------------------------------------\n",
      "param.0        0.0966      0.021      4.630      0.000       0.056       0.137\n",
      "param.1        0.0639      0.018      3.558      0.000       0.029       0.099\n",
      "param.2        0.1159      0.011     10.679      0.000       0.095       0.137\n",
      "param.3        0.1333      0.003     49.215      0.000       0.128       0.139\n",
      "param.4        2.1494      0.006    385.011      0.000       2.138       2.160\n",
      "param.5        6.9124      0.006   1169.358      0.000       6.901       6.924\n",
      "===================================================================================\n",
      "Ljung-Box (L1) (Q):                  37.47   Jarque-Bera (JB):          12318558.35\n",
      "Prob(Q):                              0.00   Prob(JB):                         0.00\n",
      "Heteroskedasticity (H):               2.36   Skew:                             5.36\n",
      "Prob(H) (two-sided):                  0.00   Kurtosis:                       174.61\n",
      "===================================================================================\n",
      "\n",
      "Warnings:\n",
      "[1] Covariance matrix calculated using the outer product of gradients (complex-step).\n"
     ]
    }
   ],
   "source": [
    "mod = ARXm(y_sim,3,x_t)\n",
    "res = mod.fit()\n",
    "print(res.summary())"
   ]
  },
  {
   "cell_type": "code",
   "execution_count": 19,
   "id": "4125f284",
   "metadata": {},
   "outputs": [
    {
     "data": {
      "text/plain": [
       "array([ 0.03599979,  0.04514564,  0.2967444 , ..., -0.59286788,\n",
       "        0.90144678,  2.35811617])"
      ]
     },
     "execution_count": 19,
     "metadata": {},
     "output_type": "execute_result"
    }
   ],
   "source": [
    "res.smoothed_state[3,:]"
   ]
  },
  {
   "cell_type": "code",
   "execution_count": null,
   "id": "aac850b5",
   "metadata": {},
   "outputs": [],
   "source": []
  },
  {
   "cell_type": "code",
   "execution_count": 88,
   "id": "65739f2c",
   "metadata": {},
   "outputs": [
    {
     "data": {
      "text/plain": [
       "2788.92092777356"
      ]
     },
     "execution_count": 88,
     "metadata": {},
     "output_type": "execute_result"
    }
   ],
   "source": [
    "res.aic"
   ]
  },
  {
   "cell_type": "code",
   "execution_count": 57,
   "id": "da9513f8",
   "metadata": {},
   "outputs": [
    {
     "data": {
      "image/png": "[encoded data removed]",
      "text/plain": [
       "<Figure size 432x288 with 4 Axes>"
      ]
     },
     "execution_count": 57,
     "metadata": {},
     "output_type": "execute_result"
    },
    {
     "data": {
      "image/png": "[encoded data removed]",
      "text/plain": [
       "<Figure size 432x288 with 4 Axes>"
      ]
     },
     "metadata": {
      "needs_background": "light"
     },
     "output_type": "display_data"
    }
   ],
   "source": [
    "res.plot_diagnostics()"
   ]
  },
  {
   "cell_type": "markdown",
   "id": "129e5a59",
   "metadata": {},
   "source": [
    "<h2>Jarque-Bera: [test_statistic, pvalue, skewness, kurtosis] </h2>\n",
    "<h3>Goodness of fit </h3>"
   ]
  },
  {
   "cell_type": "code",
   "execution_count": 59,
   "id": "7fd8d710",
   "metadata": {},
   "outputs": [
    {
     "name": "stdout",
     "output_type": "stream",
     "text": [
      "[[ 0.23753265  0.88801528 -0.03460114  3.03019648]]\n"
     ]
    }
   ],
   "source": [
    "print(res.test_normality(method='jarquebera'))"
   ]
  },
  {
   "cell_type": "markdown",
   "id": "c2985718",
   "metadata": {},
   "source": [
    "<h2>Goldfeld-Quandt type test: [test_statistic, pvalue] </h2>\n",
    "<h3>Heteroskedasticity </h3>"
   ]
  },
  {
   "cell_type": "code",
   "execution_count": 61,
   "id": "7cfcff38",
   "metadata": {},
   "outputs": [
    {
     "name": "stdout",
     "output_type": "stream",
     "text": [
      "[[1.05587354 0.62013254]]\n"
     ]
    }
   ],
   "source": [
    "print(res.test_heteroskedasticity(method='breakvar'))"
   ]
  },
  {
   "cell_type": "markdown",
   "id": "47af49f9",
   "metadata": {},
   "source": [
    "<h2>Ljung-Box test: [test_statistic, pvalue] for each lag (overlap with plot_diagnostics)</h2> \n",
    "<h3>residuals from the ARIMA model have autocorrelation or not</h3>"
   ]
  },
  {
   "cell_type": "code",
   "execution_count": 62,
   "id": "d52deb0a",
   "metadata": {},
   "outputs": [
    {
     "name": "stdout",
     "output_type": "stream",
     "text": [
      "[[[0.12512417 0.18073023 0.43468683 0.77958307 2.0902451  3.05122921\n",
      "   3.05166113 3.1722692  3.39787321 3.74236522]\n",
      "  [0.72354202 0.91359756 0.93298738 0.94116409 0.83652229 0.80239011\n",
      "   0.88018236 0.92308594 0.9464146  0.95822181]]]\n"
     ]
    },
    {
     "name": "stderr",
     "output_type": "stream",
     "text": [
      "/Users/theo/opt/anaconda3/lib/python3.8/site-packages/statsmodels/tsa/statespace/mlemodel.py:3220: FutureWarning: The default value of lags is changing.  After 0.12, this value will become min(10, nobs//5) for non-seasonal time series and min (2*m, nobs//5) for seasonal time series. Directly set lags to silence this warning.\n",
      "  warnings.warn(\n"
     ]
    }
   ],
   "source": [
    "print(res.test_serial_correlation(method='ljungbox'))"
   ]
  },
  {
   "cell_type": "markdown",
   "id": "44185281",
   "metadata": {},
   "source": [
    "<h2>AIC plot</h2>"
   ]
  },
  {
   "cell_type": "code",
   "execution_count": 92,
   "id": "5e013ef2",
   "metadata": {},
   "outputs": [],
   "source": [
    "orders = 7\n",
    "AIC_df = pd.DataFrame()\n",
    "for order in range(1,orders):\n",
    "    mod = ARm(endogm,order)\n",
    "    res = mod.fit()\n",
    "    aic = res.aic\n",
    "    temp = pd.DataFrame({'ar': [order],\\\n",
    "                            'aic': [aic]})\n",
    "        \n",
    "    AIC_df = AIC_df.append(temp)"
   ]
  },
  {
   "cell_type": "code",
   "execution_count": 94,
   "id": "aaddacc3",
   "metadata": {},
   "outputs": [
    {
     "data": {
      "text/plain": [
       "<AxesSubplot:xlabel='ar', ylabel='aic'>"
      ]
     },
     "execution_count": 94,
     "metadata": {},
     "output_type": "execute_result"
    },
    {
     "data": {
      "image/png": "[encoded data removed]",
      "text/plain": [
       "<Figure size 432x288 with 1 Axes>"
      ]
     },
     "metadata": {
      "needs_background": "light"
     },
     "output_type": "display_data"
    }
   ],
   "source": [
    "sns.lineplot(data = AIC_df, x = 'ar', y = 'aic')"
   ]
  }
 ],
 "metadata": {
  "kernelspec": {
   "display_name": "Python 3",
   "language": "python",
   "name": "python3"
  },
  "language_info": {
   "codemirror_mode": {
    "name": "ipython",
    "version": 3
   },
   "file_extension": ".py",
   "mimetype": "text/x-python",
   "name": "python",
   "nbconvert_exporter": "python",
   "pygments_lexer": "ipython3",
   "version": "3.8.8"
  }
 },
 "nbformat": 4,
 "nbformat_minor": 5
}
