{
 "cells": [
  {
   "cell_type": "markdown",
   "id": "8590de3d",
   "metadata": {},
   "source": [
    "<h1>General State Space Model Data Simulation</h1>\n",
    "state intercepts"
   ]
  },
  {
   "cell_type": "code",
   "execution_count": 1,
   "id": "41285df7",
   "metadata": {},
   "outputs": [],
   "source": [
    "import numpy as np\n",
    "from scipy.signal import lfilter\n",
    "import statsmodels.api as sm\n",
    "import seaborn as sns\n",
    "import matplotlib.pyplot as plt\n",
    "from statsmodels.tsa.statespace.tools import (\n",
    "    constrain_stationary_univariate, unconstrain_stationary_univariate)\n",
    "import sympy as sym\n",
    "import pandas as pd\n",
    "import seaborn as sns\n",
    "import math\n",
    "from mpl_toolkits.mplot3d import Axes3D\n",
    "%matplotlib inline\n",
    "\n"
   ]
  },
  {
   "cell_type": "code",
   "execution_count": 2,
   "id": "c2c20375",
   "metadata": {},
   "outputs": [],
   "source": [
    "# Construct the model\n",
    "class ss(sm.tsa.statespace.MLEModel):\n",
    "    def __init__(self, endog):\n",
    "        k_posdef = 1\n",
    "        # Initialize the state space model\n",
    "        super(ss, self).__init__(endog, k_states=2, k_posdef=1,\n",
    "                                  initialization='diffuse')\n",
    "        \n",
    "        '''\n",
    "        xt = exog[np.newaxis, np.newaxis, :]\n",
    "        zero = np.zeros([1,1,len(exog)])\n",
    "        one = np.ones([1,1,len(exog)])\n",
    "        con_design = np.concatenate((one,xt), axis = 1)\n",
    "        '''\n",
    "\n",
    "        # Setup the fixed components of the state space representation\n",
    "        self.ssm['design'] = np.r_[1,0]\n",
    "        self.ssm['transition'] = np.eye(self.k_states,k=1)\n",
    "        self.ssm['selection'] = np.eye(self.k_states,k_posdef)\n",
    "        \n",
    "        self.positive_parameters = slice(0,2)\n",
    "\n",
    "    # Describe how parameters enter the model\n",
    "    def update(self, params, transformed=True, **kwargs):\n",
    "        params = super(ss, self).update(params, transformed, **kwargs)\n",
    "        \n",
    "        self.ssm['obs_cov', 0, 0] = params[0]\n",
    "        self.ssm['state_cov', 0, 0] = params[1]\n",
    "        #self.ssm['obs_intercept', 0, 0] = params[2]\n",
    "        self.ssm['state_intercept', 0, 0] = params[4]\n",
    "        self.ssm['transition',:,0] = params[2:4]\n",
    "        \n",
    "    @property\n",
    "    def param_names(self):\n",
    "        return ['H','Q','phi1','phi2','c']\n",
    "\n",
    "    @property\n",
    "    def start_params(self):\n",
    "        return np.r_[[np.std(self.endog)]*2, 0.15, 0.15, self.endog[0]]\n",
    "    \n",
    "    def transform_params(self, unconstrained):\n",
    "        constrained = unconstrained.copy()\n",
    "        constrained[self.positive_parameters] = (\n",
    "            constrained[self.positive_parameters] ** 2\n",
    "        )\n",
    "        return constrained\n",
    "\n",
    "    def untransform_params(self, constrained):\n",
    "        unconstrained = constrained.copy()\n",
    "        unconstrained[self.positive_parameters] = (\n",
    "            unconstrained[self.positive_parameters] ** 0.5\n",
    "        )\n",
    "        return unconstrained"
   ]
  },
  {
   "cell_type": "markdown",
   "id": "f4994167",
   "metadata": {},
   "source": [
    "<li>General State Space Model<ol>\n",
    "    <li>Z: Design</li>\n",
    "    <li>d: Observation Intercept</li>\n",
    "    <li>H: Observation Covariance </li>\n",
    "    <li>T: Transition</li>\n",
    "    <li>c: State Intercept</li>\n",
    "    <li>R: Selection</li>\n",
    "    <li>Q: State Covariance</li>\n",
    "    </ol>\n",
    "</li>\n",
    "<br>\n",
    "    \n",
    "\\begin{equation*}\n",
    "y_{t} = Z_t\\alpha_t + d_t + \\epsilon_t \\quad\\epsilon_t \\sim N(0,H_t)\\\\\n",
    "\\alpha_{t+1} = T_t\\alpha_t + c_t + R_t\\eta_t \\quad\\eta_t \\sim N(0,Q_t)\n",
    "\\end{equation*}\n",
    "\n",
    "Example: full ss model with AR2 behavior\n",
    "\\begin{equation*}\n",
    "y_{t} = \\begin{vmatrix}\n",
    "1 & 0\n",
    "\\end{vmatrix}\\alpha_t + d_t + \\epsilon_t \\quad\\epsilon_t \\sim N(0,H_t)\\\\\n",
    "\\alpha_{t+1} = \\begin{vmatrix}\n",
    "\\phi_1 & 1 \\\\\n",
    "\\phi_2 & 0\n",
    "\\end{vmatrix}\\alpha_t + \\begin{vmatrix}\n",
    "c_t \\\\\n",
    "0\n",
    "\\end{vmatrix} + \\begin{vmatrix}\n",
    "1 \\\\\n",
    "0\n",
    "\\end{vmatrix}\\eta_t \\quad\\eta_t \\sim N(0,Q_t)\n",
    "\\end{equation*}\n"
   ]
  },
  {
   "cell_type": "code",
   "execution_count": 3,
   "id": "724ae3b0",
   "metadata": {},
   "outputs": [],
   "source": [
    "# True model parameters\n",
    "nobs = int(1e5)\n",
    "H = 4\n",
    "Q = 1\n",
    "d = 0\n",
    "c = 2\n",
    "phi = np.r_[0.5, -0.3]\n",
    "\n",
    "\n"
   ]
  },
  {
   "cell_type": "code",
   "execution_count": 6,
   "id": "6b3b8a8c",
   "metadata": {},
   "outputs": [],
   "source": [
    "# Simulate a time series\n",
    "np.random.seed(1234)\n",
    "\n",
    "disturbances_eta = np.random.normal(c, math.sqrt(Q), size=(nobs,))\n",
    "alpha = lfilter([1], np.r_[1, -phi], disturbances_eta)\n",
    "disturbances_epsilon = np.random.normal(0, math.sqrt(H), size=(nobs,))\n",
    "y_t = alpha + disturbances_epsilon + d\n"
   ]
  },
  {
   "cell_type": "code",
   "execution_count": 7,
   "id": "b6d8a39c",
   "metadata": {},
   "outputs": [
    {
     "name": "stderr",
     "output_type": "stream",
     "text": [
      " This problem is unconstrained.\n"
     ]
    },
    {
     "name": "stdout",
     "output_type": "stream",
     "text": [
      "RUNNING THE L-BFGS-B CODE\n",
      "\n",
      "           * * *\n",
      "\n",
      "Machine precision = 2.220D-16\n",
      " N =            5     M =           10\n",
      "\n",
      "At X0         0 variables are exactly at the bounds\n",
      "\n",
      "At iterate    0    f=  2.25715D+00    |proj g|=  5.16870D-02\n",
      "\n",
      "At iterate    5    f=  2.24679D+00    |proj g|=  9.48261D-03\n",
      "\n",
      "At iterate   10    f=  2.24522D+00    |proj g|=  7.17185D-04\n",
      "\n",
      "At iterate   15    f=  2.24511D+00    |proj g|=  3.18455D-03\n",
      "\n",
      "At iterate   20    f=  2.24495D+00    |proj g|=  1.82323D-04\n",
      "\n",
      "           * * *\n",
      "\n",
      "Tit   = total number of iterations\n",
      "Tnf   = total number of function evaluations\n",
      "Tnint = total number of segments explored during Cauchy searches\n",
      "Skip  = number of BFGS updates skipped\n",
      "Nact  = number of active bounds at final generalized Cauchy point\n",
      "Projg = norm of the final projected gradient\n",
      "F     = final function value\n",
      "\n",
      "           * * *\n",
      "\n",
      "   N    Tit     Tnf  Tnint  Skip  Nact     Projg        F\n",
      "    5     23     28      1     0     0   2.254D-06   2.245D+00\n",
      "  F =   2.2449503675612692     \n",
      "\n",
      "CONVERGENCE: NORM_OF_PROJECTED_GRADIENT_<=_PGTOL            \n",
      "                           Statespace Model Results                           \n",
      "==============================================================================\n",
      "Dep. Variable:                      y   No. Observations:               100000\n",
      "Model:                             ss   Log Likelihood             -224495.037\n",
      "Date:                Mon, 06 Feb 2023   AIC                         449004.074\n",
      "Time:                        20:52:16   BIC                         449070.664\n",
      "Sample:                             0   HQIC                        449024.282\n",
      "                             - 100000                                         \n",
      "Covariance Type:                  opg                                         \n",
      "==============================================================================\n",
      "                 coef    std err          z      P>|z|      [0.025      0.975]\n",
      "------------------------------------------------------------------------------\n",
      "H              3.9748      0.074     53.593      0.000       3.829       4.120\n",
      "Q              1.0172      0.084     12.134      0.000       0.853       1.182\n",
      "phi1           0.4987      0.031     16.189      0.000       0.438       0.559\n",
      "phi2          -0.2842      0.022    -12.973      0.000      -0.327      -0.241\n",
      "c              1.9620      0.037     53.451      0.000       1.890       2.034\n",
      "===================================================================================\n",
      "Ljung-Box (L1) (Q):                   0.01   Jarque-Bera (JB):                 1.96\n",
      "Prob(Q):                              0.92   Prob(JB):                         0.38\n",
      "Heteroskedasticity (H):               1.01   Skew:                            -0.01\n",
      "Prob(H) (two-sided):                  0.58   Kurtosis:                         3.00\n",
      "===================================================================================\n",
      "\n",
      "Warnings:\n",
      "[1] Covariance matrix calculated using the outer product of gradients (complex-step).\n"
     ]
    }
   ],
   "source": [
    "mod = ss(y_t)\n",
    "res = mod.fit()\n",
    "print(res.summary())"
   ]
  },
  {
   "cell_type": "code",
   "execution_count": 82,
   "id": "1e798cc1",
   "metadata": {},
   "outputs": [
    {
     "data": {
      "text/plain": [
       "[<matplotlib.lines.Line2D at 0x16cfbd790>]"
      ]
     },
     "execution_count": 82,
     "metadata": {},
     "output_type": "execute_result"
    },
    {
     "data": {
      "image/png": "[encoded data removed]",
      "text/plain": [
       "<Figure size 432x288 with 1 Axes>"
      ]
     },
     "metadata": {
      "needs_background": "light"
     },
     "output_type": "display_data"
    }
   ],
   "source": [
    "plt.plot(disturbances_epsilon)"
   ]
  },
  {
   "cell_type": "code",
   "execution_count": 66,
   "id": "dd692b91",
   "metadata": {},
   "outputs": [
    {
     "data": {
      "text/plain": [
       "[<matplotlib.lines.Line2D at 0x2861cdfd0>]"
      ]
     },
     "execution_count": 66,
     "metadata": {},
     "output_type": "execute_result"
    },
    {
     "data": {
      "image/png": "[encoded data removed]",
      "text/plain": [
       "<Figure size 432x288 with 1 Axes>"
      ]
     },
     "metadata": {
      "needs_background": "light"
     },
     "output_type": "display_data"
    }
   ],
   "source": [
    "plt.plot(res.smoothed_state[0])"
   ]
  },
  {
   "cell_type": "code",
   "execution_count": null,
   "id": "32cb4308",
   "metadata": {},
   "outputs": [],
   "source": [
    "\"\"\"\n",
    "Univariate Local Linear Trend Model\n",
    "\"\"\"\n",
    "class LocalLinearTrend(sm.tsa.statespace.MLEModel):\n",
    "    def __init__(self, endog):\n",
    "        # Model order\n",
    "        k_states = k_posdef = 2\n",
    "\n",
    "        # Initialize the statespace\n",
    "        super(LocalLinearTrend, self).__init__(\n",
    "            endog, k_states=k_states, k_posdef=k_posdef,\n",
    "            initialization='approximate_diffuse',\n",
    "            loglikelihood_burn=k_states\n",
    "        )\n",
    "\n",
    "        # Initialize the matrices\n",
    "        self.ssm['design'] = np.array([1, 0])\n",
    "        self.ssm['transition'] = np.array([[1, 1],\n",
    "                                       [0, 1]])\n",
    "        self.ssm['selection'] = np.eye(k_states)\n",
    "\n",
    "        # Cache some indices\n",
    "        self._state_cov_idx = ('state_cov',) + np.diag_indices(k_posdef)\n",
    "\n",
    "    @property\n",
    "    def param_names(self):\n",
    "        return ['sigma2.measurement', 'sigma2.level', 'sigma2.trend']\n",
    "\n",
    "    @property\n",
    "    def start_params(self):\n",
    "        return [np.std(self.endog)]*3\n",
    "\n",
    "    def transform_params(self, unconstrained):\n",
    "        return unconstrained**2\n",
    "\n",
    "    def untransform_params(self, constrained):\n",
    "        return constrained**0.5\n",
    "\n",
    "    def update(self, params, *args, **kwargs):\n",
    "        params = super(LocalLinearTrend, self).update(params, *args, **kwargs)\n",
    "\n",
    "        # Observation covariance\n",
    "        self.ssm['obs_cov',0,0] = params[0]\n",
    "\n",
    "        # State covariance\n",
    "        self.ssm[self._state_cov_idx] = params[1:]"
   ]
  },
  {
   "cell_type": "code",
   "execution_count": 91,
   "id": "2c9df337",
   "metadata": {},
   "outputs": [
    {
     "name": "stdout",
     "output_type": "stream",
     "text": [
      "RUNNING THE L-BFGS-B CODE\n",
      "\n",
      "           * * *\n",
      "\n",
      "Machine precision = 2.220D-16\n",
      " N =            3     M =           10\n",
      "\n",
      "At X0         0 variables are exactly at the bounds\n",
      "\n",
      "At iterate    0    f=  8.48342D+00    |proj g|=  5.67765D-04\n",
      "  ys=-3.012E-01  -gs= 1.565E-01 BFGS update SKIPPED\n"
     ]
    },
    {
     "name": "stderr",
     "output_type": "stream",
     "text": [
      " This problem is unconstrained.\n"
     ]
    },
    {
     "name": "stdout",
     "output_type": "stream",
     "text": [
      "\n",
      "At iterate    5    f=  6.21010D+00    |proj g|=  4.07811D-03\n",
      "\n",
      "At iterate   10    f=  3.43768D+00    |proj g|=  3.09306D-01\n",
      "\n",
      "At iterate   15    f=  3.13020D+00    |proj g|=  5.91948D-03\n",
      "\n",
      "At iterate   20    f=  3.12672D+00    |proj g|=  1.39123D-03\n",
      "\n",
      "At iterate   25    f=  3.12672D+00    |proj g|=  1.13442D-05\n",
      "\n",
      "           * * *\n",
      "\n",
      "Tit   = total number of iterations\n",
      "Tnf   = total number of function evaluations\n",
      "Tnint = total number of segments explored during Cauchy searches\n",
      "Skip  = number of BFGS updates skipped\n",
      "Nact  = number of active bounds at final generalized Cauchy point\n",
      "Projg = norm of the final projected gradient\n",
      "F     = final function value\n",
      "\n",
      "           * * *\n",
      "\n",
      "   N    Tit     Tnf  Tnint  Skip  Nact     Projg        F\n",
      "    3     26     67      1     1     0   7.437D-07   3.127D+00\n",
      "  F =   3.1267152983234783     \n",
      "\n",
      "CONVERGENCE: NORM_OF_PROJECTED_GRADIENT_<=_PGTOL            \n",
      "                           Statespace Model Results                           \n",
      "==============================================================================\n",
      "Dep. Variable:                      y   No. Observations:                10000\n",
      "Model:               LocalLinearTrend   Log Likelihood              -31267.153\n",
      "Date:                Wed, 25 Jan 2023   AIC                          62540.306\n",
      "Time:                        20:58:00   BIC                          62561.936\n",
      "Sample:                             0   HQIC                         62547.628\n",
      "                              - 10000                                         \n",
      "Covariance Type:                  opg                                         \n",
      "======================================================================================\n",
      "                         coef    std err          z      P>|z|      [0.025      0.975]\n",
      "--------------------------------------------------------------------------------------\n",
      "sigma2.measurement     8.7238      0.318     27.459      0.000       8.101       9.346\n",
      "sigma2.level           1.2013      0.685      1.753      0.080      -0.142       2.544\n",
      "sigma2.trend           4.0665      0.171     23.839      0.000       3.732       4.401\n",
      "===================================================================================\n",
      "Ljung-Box (L1) (Q):                   0.00   Jarque-Bera (JB):                 0.39\n",
      "Prob(Q):                              0.99   Prob(JB):                         0.82\n",
      "Heteroskedasticity (H):               0.95   Skew:                             0.01\n",
      "Prob(H) (two-sided):                  0.15   Kurtosis:                         2.98\n",
      "===================================================================================\n",
      "\n",
      "Warnings:\n",
      "[1] Covariance matrix calculated using the outer product of gradients (complex-step).\n"
     ]
    }
   ],
   "source": [
    "mod = LocalLinearTrend(yt)\n",
    "res = mod.fit()\n",
    "print(res.summary())"
   ]
  },
  {
   "cell_type": "code",
   "execution_count": null,
   "id": "99aad48f",
   "metadata": {},
   "outputs": [],
   "source": []
  }
 ],
 "metadata": {
  "kernelspec": {
   "display_name": "Python 3",
   "language": "python",
   "name": "python3"
  },
  "language_info": {
   "codemirror_mode": {
    "name": "ipython",
    "version": 3
   },
   "file_extension": ".py",
   "mimetype": "text/x-python",
   "name": "python",
   "nbconvert_exporter": "python",
   "pygments_lexer": "ipython3",
   "version": "3.8.8"
  }
 },
 "nbformat": 4,
 "nbformat_minor": 5
}
