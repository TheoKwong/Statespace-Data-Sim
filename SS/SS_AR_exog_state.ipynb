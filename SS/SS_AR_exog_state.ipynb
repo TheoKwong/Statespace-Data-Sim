{
 "cells": [
  {
   "cell_type": "markdown",
   "id": "8590de3d",
   "metadata": {},
   "source": [
    "<h1>General State Space Model Data Simulation</h1>\n",
    "Exog on state with AR Time Invariant Coefficients with intercept"
   ]
  },
  {
   "cell_type": "code",
   "execution_count": 1,
   "id": "41285df7",
   "metadata": {},
   "outputs": [],
   "source": [
    "import numpy as np\n",
    "from scipy.signal import lfilter\n",
    "import statsmodels.api as sm\n",
    "import seaborn as sns\n",
    "import matplotlib.pyplot as plt\n",
    "from statsmodels.tsa.statespace.tools import (\n",
    "    constrain_stationary_univariate, unconstrain_stationary_univariate)\n",
    "import sympy as sym\n",
    "import pandas as pd\n",
    "import seaborn as sns\n",
    "import math\n",
    "from mpl_toolkits.mplot3d import Axes3D\n",
    "import statsmodels\n",
    "%matplotlib inline\n",
    "\n"
   ]
  },
  {
   "cell_type": "code",
   "execution_count": 2,
   "id": "c2c20375",
   "metadata": {},
   "outputs": [],
   "source": [
    "# Construct the model\n",
    "class ss(sm.tsa.statespace.MLEModel):\n",
    "    def __init__(self, endog,x_t):\n",
    "        k_posdef = 2\n",
    "        exog = x_t\n",
    "        nobs = x_t.shape[0]\n",
    "        # Initialize the state space model\n",
    "        super(ss, self).__init__(endog, k_states=4, k_posdef=2,\n",
    "                                  initialization='diffuse')\n",
    "        \n",
    "        '''\n",
    "        xt = exog[np.newaxis, np.newaxis, :]\n",
    "        zero = np.zeros([1,1,len(exog)])\n",
    "        one = np.ones([1,1,len(exog)])\n",
    "        con_design = np.concatenate((one,xt), axis = 1)\n",
    "        '''\n",
    "\n",
    "        # Setup the fixed components of the state space representation\n",
    "        self.ssm['design'] = np.r_[1,0,0,0]\n",
    "        self.ssm['transition'] = np.zeros([self.k_states, self.k_states, nobs])\n",
    "        self.ssm['transition',0,2,:] = 1\n",
    "        self.ssm['transition',0,1,:] = x_t\n",
    "        self.ssm['transition',1,3,:] = 1\n",
    "        self.ssm['selection'] = np.eye(self.k_states,k_posdef)\n",
    "        \n",
    "        self.positive_parameters = slice(0,3)\n",
    "\n",
    "    # Describe how parameters enter the model\n",
    "    def update(self, params, transformed=True, **kwargs):\n",
    "        params = super(ss, self).update(params, transformed, **kwargs)\n",
    "        \n",
    "        self.ssm['obs_cov', 0, 0] = params[0]\n",
    "        self.ssm['state_cov', 0, 0] = params[1]\n",
    "        self.ssm['state_cov', 1, 1] = params[2]\n",
    "        #self.ssm['obs_intercept', 0, 0] = params[2]\n",
    "        #self.ssm['state_intercept', 0, 0] = params[3]\n",
    "        self.ssm['transition',0,0] = params[3]\n",
    "        self.ssm['transition',2,0] = params[4]\n",
    "        self.ssm['transition',1,1] = params[5]\n",
    "        self.ssm['transition',3,1] = params[6]\n",
    "        self.ssm['state_intercept', 0, :] = params[7]\n",
    "        self.ssm['state_intercept', 1, :] = params[8]\n",
    "        \n",
    "    @property\n",
    "    def param_names(self):\n",
    "        return ['H','Q_alpha','Q_beta','phia1','phia2', 'phib1', 'phib2', 'c_alpha', 'c_beta']\n",
    "\n",
    "    @property\n",
    "    def start_params(self):\n",
    "        #exog = sm.add_constant(x_t)\n",
    "        #res = sm.OLS(self.endog, exog).fit()\n",
    "        #params = np.r_[res.params[0], , 0.001, 0.001]\n",
    "        return np.r_[[np.std(self.endog)]*3, 0.15, 0.15, 0.15, 0.15, 0.5, 0.5]\n",
    "    \n",
    "    def transform_params(self, unconstrained):\n",
    "        constrained = unconstrained.copy()\n",
    "        constrained[self.positive_parameters] = (\n",
    "            constrained[self.positive_parameters] ** 2\n",
    "        )\n",
    "        return constrained\n",
    "\n",
    "    def untransform_params(self, constrained):\n",
    "        unconstrained = constrained.copy()\n",
    "        unconstrained[self.positive_parameters] = (\n",
    "            unconstrained[self.positive_parameters] ** 0.5\n",
    "        )\n",
    "        return unconstrained"
   ]
  },
  {
   "cell_type": "markdown",
   "id": "f4994167",
   "metadata": {},
   "source": [
    "<li>General State Space Model<ol>\n",
    "    <li>Z: Design</li>\n",
    "    <li>d: Observation Intercept</li>\n",
    "    <li>H: Observation Covariance </li>\n",
    "    <li>T: Transition</li>\n",
    "    <li>c: State Intercept</li>\n",
    "    <li>R: Selection</li>\n",
    "    <li>Q: State Covariance</li>\n",
    "    </ol>\n",
    "</li>\n",
    "<br>\n",
    "    \n",
    "\\begin{equation*}\n",
    "y_{t} = Z_t\\alpha_t + \\epsilon_t \\quad\\epsilon_t \\sim N(0,H_t)\\\\\n",
    "\\alpha_{t+1} = T_t\\alpha_t + \\beta_tx_t + c_t + R_t\\eta_t \\quad\\eta_t \\sim N(0,Q_t)\n",
    "\\end{equation*}\n",
    "\n",
    "Example: full ss model with AR2 behavior\n",
    "\\begin{equation*}\n",
    "y_{t} = \\begin{vmatrix}\n",
    "1 & 0 & 0 & 0\n",
    "\\end{vmatrix}\\alpha_t + \\epsilon_t \\quad\\epsilon_t \\sim N(0,H_t)\\\\\n",
    "\\alpha_{t+1} = \\begin{vmatrix}\n",
    "\\phi_{\\alpha,1} & 1 & x_t & 0\\\\\n",
    "\\phi_{\\alpha,2} & 0 & 0 & 0\\\\\n",
    "0 & 0 & \\phi_{\\beta,1} & 1\\\\\n",
    "0 & 0 & \\phi_{\\beta,2} & 0\\\\\n",
    "\\end{vmatrix}\\begin{vmatrix}\n",
    "\\alpha_t \\\\\n",
    "\\phi_{\\alpha,2}\\alpha_{t-1} \\\\\n",
    "\\beta_t \\\\\n",
    "\\phi_{\\beta,2}\\beta_{t-1}\n",
    "\\end{vmatrix} + \\begin{vmatrix}\n",
    "c_{\\alpha}\\\\\n",
    "0 \\\\\n",
    "c_{\\beta}\\\\\n",
    "0\n",
    "\\end{vmatrix} + \\begin{vmatrix}\n",
    "\\eta_t \\\\\n",
    "0 \\\\\n",
    "\\omega_t \\\\\n",
    "0\n",
    "\\end{vmatrix} \\\\\n",
    "\\quad\\eta_t \\sim N(0,Q_{\\alpha,t})\n",
    "\\\\\n",
    "\\quad\\omega_t \\sim N(0,Q_{\\beta,t})\n",
    "\\end{equation*}\n"
   ]
  },
  {
   "cell_type": "markdown",
   "id": "d5f74894",
   "metadata": {},
   "source": [
    "# True model parameters\n",
    "nobs = int(1e4) \\\n",
    "H = 4 \\\n",
    "Q_alpha = 1 \\\n",
    "Q_beta = 0.64 \\\n",
    "phi_alpha = np.r_[0.5, -0.3, 0.2] \\\n",
    "phi_beta = np.r_[0.2, -0.8, 0.4] \\\n",
    "c_alpha = 3 \\\n",
    "c_beta = 2 \n"
   ]
  },
  {
   "cell_type": "code",
   "execution_count": 23,
   "id": "724ae3b0",
   "metadata": {},
   "outputs": [],
   "source": [
    "# True model parameters\n",
    "nobs = int(1e4)\n",
    "H = 4\n",
    "Q = 1\n",
    "d = 0\n",
    "c = 3\n",
    "ce = 2\n",
    "phi = np.r_[0.5, -0.3]\n",
    "\n",
    "beta_var = 0.64\n",
    "beta_phi = np.r_[0.2, -0.8]\n"
   ]
  },
  {
   "cell_type": "code",
   "execution_count": 8,
   "id": "631bcddf",
   "metadata": {},
   "outputs": [],
   "source": [
    "k = np.r_[6]\n",
    "lambda1 = np.r_[3]\n",
    "x_0 = 3\n",
    "noise_var = 6\n",
    "\n",
    "# Simulate a time series\n",
    "np.random.seed(1211)\n",
    "\n",
    "noise = np.random.normal(0, math.sqrt(noise_var), size=(nobs,))\n",
    "u_t = x_0 + 1/lambda1 * noise\n",
    "x_t = lfilter([1], np.r_[k/lambda1, 1], u_t)"
   ]
  },
  {
   "cell_type": "code",
   "execution_count": 21,
   "id": "bb64af55",
   "metadata": {},
   "outputs": [],
   "source": [
    "x_t = np.ones(nobs)*3"
   ]
  },
  {
   "cell_type": "code",
   "execution_count": 24,
   "id": "db483600",
   "metadata": {},
   "outputs": [],
   "source": [
    "period = 2000\n",
    "\n",
    "cycle = [np.linspace(-np.pi, np.pi-np.pi/(period/2), period)] * int(nobs/period)\n",
    "x_t_ang = np.reshape(np.array(cycle), nobs)\n",
    "x_t = np.sin(x_t_ang)\n"
   ]
  },
  {
   "cell_type": "code",
   "execution_count": 35,
   "id": "071af1ac",
   "metadata": {},
   "outputs": [],
   "source": [
    "np.random.seed(1211)\n",
    "x_var = 3\n",
    "x_phi = np.r_[0.2, -0.8]\n",
    "x_t_ori = np.random.normal(0, math.sqrt(x_var), size=(nobs,))\n",
    "x_t = lfilter([1], np.r_[1, -x_phi], x_t_ori)"
   ]
  },
  {
   "cell_type": "code",
   "execution_count": 25,
   "id": "6b3b8a8c",
   "metadata": {},
   "outputs": [],
   "source": [
    "# Simulate a time series\n",
    "np.random.seed(1234)\n",
    "\n",
    "beta_ind = np.random.normal(ce, math.sqrt(beta_var), size=(nobs,))\n",
    "beta = lfilter([1], np.r_[1, -beta_phi], beta_ind)\n",
    "state_int = x_t*beta\n",
    "disturbances_eta = np.random.normal(c, math.sqrt(Q), size=(nobs,))\n",
    "alpha = lfilter([1], np.r_[1, -phi], state_int+disturbances_eta)\n",
    "disturbances_epsilon = np.random.normal(0, math.sqrt(H), size=(nobs,))\n",
    "y_t = alpha + disturbances_epsilon + d\n"
   ]
  },
  {
   "cell_type": "code",
   "execution_count": 26,
   "id": "b6d8a39c",
   "metadata": {},
   "outputs": [
    {
     "name": "stderr",
     "output_type": "stream",
     "text": [
      "/Users/theo/opt/anaconda3/lib/python3.8/site-packages/statsmodels/base/model.py:566: ConvergenceWarning: Maximum Likelihood optimization failed to converge. Check mle_retvals\n",
      "  warnings.warn(\"Maximum Likelihood optimization failed to \"\n"
     ]
    },
    {
     "name": "stdout",
     "output_type": "stream",
     "text": [
      "                           Statespace Model Results                           \n",
      "==============================================================================\n",
      "Dep. Variable:                      y   No. Observations:                10000\n",
      "Model:                             ss   Log Likelihood              -23206.779\n",
      "Date:                Tue, 07 Mar 2023   AIC                          46439.558\n",
      "Time:                        08:52:09   BIC                          46533.292\n",
      "Sample:                             0   HQIC                         46471.286\n",
      "                              - 10000                                         \n",
      "Covariance Type:                  opg                                         \n",
      "==============================================================================\n",
      "                 coef    std err          z      P>|z|      [0.025      0.975]\n",
      "------------------------------------------------------------------------------\n",
      "H              4.0004      0.197     20.288      0.000       3.614       4.387\n",
      "Q_alpha        0.9267      0.239      3.872      0.000       0.458       1.396\n",
      "Q_beta         0.6010      0.103      5.824      0.000       0.399       0.803\n",
      "phia1          0.5657      0.082      6.940      0.000       0.406       0.725\n",
      "phia2         -0.3035      0.052     -5.854      0.000      -0.405      -0.202\n",
      "phib1          0.1915      0.019     10.085      0.000       0.154       0.229\n",
      "phib2         -0.8172      0.019    -44.074      0.000      -0.854      -0.781\n",
      "c_alpha        2.7683      0.192     14.450      0.000       2.393       3.144\n",
      "c_beta         1.8629      0.133     14.010      0.000       1.602       2.124\n",
      "===================================================================================\n",
      "Ljung-Box (L1) (Q):                   0.01   Jarque-Bera (JB):                 1.02\n",
      "Prob(Q):                              0.93   Prob(JB):                         0.60\n",
      "Heteroskedasticity (H):               0.94   Skew:                            -0.02\n",
      "Prob(H) (two-sided):                  0.07   Kurtosis:                         3.01\n",
      "===================================================================================\n",
      "\n",
      "Warnings:\n",
      "[1] Covariance matrix calculated using the outer product of gradients (complex-step).\n"
     ]
    }
   ],
   "source": [
    "mod = ss(y_t,x_t)\n",
    "res = mod.fit()\n",
    "print(res.summary())"
   ]
  },
  {
   "cell_type": "code",
   "execution_count": 11,
   "id": "9f60f03f",
   "metadata": {},
   "outputs": [
    {
     "name": "stderr",
     "output_type": "stream",
     "text": [
      "/Users/theo/opt/anaconda3/lib/python3.8/site-packages/statsmodels/tsa/stattools.py:657: FutureWarning: The default number of lags is changing from 40 tomin(int(10 * np.log10(nobs)), nobs - 1) after 0.12is released. Set the number of lags to an integer to  silence this warning.\n",
      "  warnings.warn(\n"
     ]
    },
    {
     "data": {
      "text/plain": [
       "[<matplotlib.lines.Line2D at 0x7fcb6d734d00>]"
      ]
     },
     "execution_count": 11,
     "metadata": {},
     "output_type": "execute_result"
    },
    {
     "data": {
      "image/png": "[encoded data removed]",
      "text/plain": [
       "<Figure size 432x288 with 1 Axes>"
      ]
     },
     "metadata": {
      "needs_background": "light"
     },
     "output_type": "display_data"
    }
   ],
   "source": [
    "plt.plot(statsmodels.tsa.stattools.acf(y_t,fft=True))"
   ]
  },
  {
   "cell_type": "code",
   "execution_count": 13,
   "id": "eeafdc7f",
   "metadata": {},
   "outputs": [
    {
     "data": {
      "text/plain": [
       "[<matplotlib.lines.Line2D at 0x7fcb520eea30>]"
      ]
     },
     "execution_count": 13,
     "metadata": {},
     "output_type": "execute_result"
    },
    {
     "data": {
      "image/png": "[encoded data removed]",
      "text/plain": [
       "<Figure size 432x288 with 1 Axes>"
      ]
     },
     "metadata": {
      "needs_background": "light"
     },
     "output_type": "display_data"
    }
   ],
   "source": [
    "plt.plot(res.smoothed_state[0][:100])"
   ]
  },
  {
   "cell_type": "code",
   "execution_count": 15,
   "id": "2adc3cb2",
   "metadata": {},
   "outputs": [
    {
     "data": {
      "text/plain": [
       "[<matplotlib.lines.Line2D at 0x7fcb53ed8e20>]"
      ]
     },
     "execution_count": 15,
     "metadata": {},
     "output_type": "execute_result"
    },
    {
     "data": {
      "image/png": "[encoded data removed]",
      "text/plain": [
       "<Figure size 432x288 with 1 Axes>"
      ]
     },
     "metadata": {
      "needs_background": "light"
     },
     "output_type": "display_data"
    }
   ],
   "source": [
    "plt.plot(beta[:100])"
   ]
  },
  {
   "cell_type": "code",
   "execution_count": 20,
   "id": "f53d4428",
   "metadata": {},
   "outputs": [
    {
     "data": {
      "text/plain": [
       "[<matplotlib.lines.Line2D at 0x7f93e5995d30>]"
      ]
     },
     "execution_count": 20,
     "metadata": {},
     "output_type": "execute_result"
    },
    {
     "data": {
      "image/png": "[encoded data removed]",
      "text/plain": [
       "<Figure size 432x288 with 1 Axes>"
      ]
     },
     "metadata": {
      "needs_background": "light"
     },
     "output_type": "display_data"
    }
   ],
   "source": [
    "plt.plot(res.smoothed_state[1])"
   ]
  },
  {
   "cell_type": "code",
   "execution_count": 36,
   "id": "71c0bae2",
   "metadata": {},
   "outputs": [
    {
     "data": {
      "text/plain": [
       "[<matplotlib.lines.Line2D at 0x16a3c5130>]"
      ]
     },
     "execution_count": 36,
     "metadata": {},
     "output_type": "execute_result"
    },
    {
     "data": {
      "image/png": "[encoded data removed]",
      "text/plain": [
       "<Figure size 432x288 with 1 Axes>"
      ]
     },
     "metadata": {
      "needs_background": "light"
     },
     "output_type": "display_data"
    }
   ],
   "source": []
  },
  {
   "cell_type": "code",
   "execution_count": null,
   "id": "32cb4308",
   "metadata": {},
   "outputs": [],
   "source": [
    "\"\"\"\n",
    "Univariate Local Linear Trend Model\n",
    "\"\"\"\n",
    "class LocalLinearTrend(sm.tsa.statespace.MLEModel):\n",
    "    def __init__(self, endog):\n",
    "        # Model order\n",
    "        k_states = k_posdef = 2\n",
    "\n",
    "        # Initialize the statespace\n",
    "        super(LocalLinearTrend, self).__init__(\n",
    "            endog, k_states=k_states, k_posdef=k_posdef,\n",
    "            initialization='approximate_diffuse',\n",
    "            loglikelihood_burn=k_states\n",
    "        )\n",
    "\n",
    "        # Initialize the matrices\n",
    "        self.ssm['design'] = np.array([1, 0])\n",
    "        self.ssm['transition'] = np.array([[1, 1],\n",
    "                                       [0, 1]])\n",
    "        self.ssm['selection'] = np.eye(k_states)\n",
    "\n",
    "        # Cache some indices\n",
    "        self._state_cov_idx = ('state_cov',) + np.diag_indices(k_posdef)\n",
    "\n",
    "    @property\n",
    "    def param_names(self):\n",
    "        return ['sigma2.measurement', 'sigma2.level', 'sigma2.trend']\n",
    "\n",
    "    @property\n",
    "    def start_params(self):\n",
    "        return [np.std(self.endog)]*3\n",
    "\n",
    "    def transform_params(self, unconstrained):\n",
    "        return unconstrained**2\n",
    "\n",
    "    def untransform_params(self, constrained):\n",
    "        return constrained**0.5\n",
    "\n",
    "    def update(self, params, *args, **kwargs):\n",
    "        params = super(LocalLinearTrend, self).update(params, *args, **kwargs)\n",
    "\n",
    "        # Observation covariance\n",
    "        self.ssm['obs_cov',0,0] = params[0]\n",
    "\n",
    "        # State covariance\n",
    "        self.ssm[self._state_cov_idx] = params[1:]"
   ]
  },
  {
   "cell_type": "code",
   "execution_count": 91,
   "id": "2c9df337",
   "metadata": {},
   "outputs": [
    {
     "name": "stdout",
     "output_type": "stream",
     "text": [
      "RUNNING THE L-BFGS-B CODE\n",
      "\n",
      "           * * *\n",
      "\n",
      "Machine precision = 2.220D-16\n",
      " N =            3     M =           10\n",
      "\n",
      "At X0         0 variables are exactly at the bounds\n",
      "\n",
      "At iterate    0    f=  8.48342D+00    |proj g|=  5.67765D-04\n",
      "  ys=-3.012E-01  -gs= 1.565E-01 BFGS update SKIPPED\n"
     ]
    },
    {
     "name": "stderr",
     "output_type": "stream",
     "text": [
      " This problem is unconstrained.\n"
     ]
    },
    {
     "name": "stdout",
     "output_type": "stream",
     "text": [
      "\n",
      "At iterate    5    f=  6.21010D+00    |proj g|=  4.07811D-03\n",
      "\n",
      "At iterate   10    f=  3.43768D+00    |proj g|=  3.09306D-01\n",
      "\n",
      "At iterate   15    f=  3.13020D+00    |proj g|=  5.91948D-03\n",
      "\n",
      "At iterate   20    f=  3.12672D+00    |proj g|=  1.39123D-03\n",
      "\n",
      "At iterate   25    f=  3.12672D+00    |proj g|=  1.13442D-05\n",
      "\n",
      "           * * *\n",
      "\n",
      "Tit   = total number of iterations\n",
      "Tnf   = total number of function evaluations\n",
      "Tnint = total number of segments explored during Cauchy searches\n",
      "Skip  = number of BFGS updates skipped\n",
      "Nact  = number of active bounds at final generalized Cauchy point\n",
      "Projg = norm of the final projected gradient\n",
      "F     = final function value\n",
      "\n",
      "           * * *\n",
      "\n",
      "   N    Tit     Tnf  Tnint  Skip  Nact     Projg        F\n",
      "    3     26     67      1     1     0   7.437D-07   3.127D+00\n",
      "  F =   3.1267152983234783     \n",
      "\n",
      "CONVERGENCE: NORM_OF_PROJECTED_GRADIENT_<=_PGTOL            \n",
      "                           Statespace Model Results                           \n",
      "==============================================================================\n",
      "Dep. Variable:                      y   No. Observations:                10000\n",
      "Model:               LocalLinearTrend   Log Likelihood              -31267.153\n",
      "Date:                Wed, 25 Jan 2023   AIC                          62540.306\n",
      "Time:                        20:58:00   BIC                          62561.936\n",
      "Sample:                             0   HQIC                         62547.628\n",
      "                              - 10000                                         \n",
      "Covariance Type:                  opg                                         \n",
      "======================================================================================\n",
      "                         coef    std err          z      P>|z|      [0.025      0.975]\n",
      "--------------------------------------------------------------------------------------\n",
      "sigma2.measurement     8.7238      0.318     27.459      0.000       8.101       9.346\n",
      "sigma2.level           1.2013      0.685      1.753      0.080      -0.142       2.544\n",
      "sigma2.trend           4.0665      0.171     23.839      0.000       3.732       4.401\n",
      "===================================================================================\n",
      "Ljung-Box (L1) (Q):                   0.00   Jarque-Bera (JB):                 0.39\n",
      "Prob(Q):                              0.99   Prob(JB):                         0.82\n",
      "Heteroskedasticity (H):               0.95   Skew:                             0.01\n",
      "Prob(H) (two-sided):                  0.15   Kurtosis:                         2.98\n",
      "===================================================================================\n",
      "\n",
      "Warnings:\n",
      "[1] Covariance matrix calculated using the outer product of gradients (complex-step).\n"
     ]
    }
   ],
   "source": [
    "mod = LocalLinearTrend(yt)\n",
    "res = mod.fit()\n",
    "print(res.summary())"
   ]
  },
  {
   "cell_type": "code",
   "execution_count": null,
   "id": "99aad48f",
   "metadata": {},
   "outputs": [],
   "source": []
  }
 ],
 "metadata": {
  "kernelspec": {
   "display_name": "Python 3",
   "language": "python",
   "name": "python3"
  },
  "language_info": {
   "codemirror_mode": {
    "name": "ipython",
    "version": 3
   },
   "file_extension": ".py",
   "mimetype": "text/x-python",
   "name": "python",
   "nbconvert_exporter": "python",
   "pygments_lexer": "ipython3",
   "version": "3.8.8"
  }
 },
 "nbformat": 4,
 "nbformat_minor": 5
}
